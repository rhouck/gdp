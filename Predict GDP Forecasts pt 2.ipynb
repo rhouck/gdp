{
 "metadata": {
  "name": "",
  "signature": "sha256:8f04f9052b0ee68eeec5a59a32aadc2b784008ff609fab2fae3035e869ba0711"
 },
 "nbformat": 3,
 "nbformat_minor": 0,
 "worksheets": [
  {
   "cells": [
    {
     "cell_type": "markdown",
     "metadata": {},
     "source": [
      "<h1>Predict 12-M GDP Growth Forecast - Part 2</h1>\n",
      "\n",
      "<p>For: Stephanie Lee</p>\n",
      "<p>By: Ryan Houck</p>\n",
      "\n",
      "\n",
      "<h3>Purpose:</h3>\n",
      "\n",
      "This is an extension of the first attempt at predicting GDP forecasts. This time, the goal is to anticipate GDP forecasts without the aid of prior forecast information. \n",
      "\n",
      "<h3>Results:</h3>\n",
      "\n",
      "Models do not generalize well when removing exponentially weighted moving averages (EWMA) of GDP forecasts or any other indications of prior forecasts. This tells me the supporting features likely add value only in the context of current GDP forecasts; they provide color into how forecasts are likely to change but provide little predictive insight in isolation. To test this, I trained the previously selected/winning model on GDP forecast metadata alone and found the model performance is not much worse than when the full feature set was available.\n",
      "\n",
      "It turns that when ignoring GDP Forecast metadata, a logistic regression classifier can still predict whether a period's GDP forecast will increase or decrease about 2/3 of the time. This provides further support that the main features provide color to GDP Forecast predictability but cannot be relied upon to make predictions in isolation.\n",
      "\n",
      "<h3>Sections:</h3>\n",
      "\n",
      "    1 - Recap previous model performance using (EWMA) of GDP forecasts for training\n",
      "    2 - Remove GDP forecasts EWMA and find best performing models\n",
      "    3 - Experiment with other indications of prior GDP Forecast value (e.g. lagged values, relative changes in values)\n",
      "    4 - Test model on GDP Forecast metadata only \n",
      "    5 - Test ability to predict increase / decrease in GDP forecast without use of prior GDP Forecast metadata"
     ]
    },
    {
     "cell_type": "markdown",
     "metadata": {},
     "source": [
      "<h3>Section 1</h3>\n",
      "\n",
      "First I'll be reusing the some of the code from the first attempt:"
     ]
    },
    {
     "cell_type": "code",
     "collapsed": false,
     "input": [
      "# import libraries\n",
      "%matplotlib inline\n",
      "import matplotlib.pyplot as plt\n",
      "import pandas as pd\n",
      "import numpy as np"
     ],
     "language": "python",
     "metadata": {},
     "outputs": [],
     "prompt_number": 701
    },
    {
     "cell_type": "code",
     "collapsed": false,
     "input": [
      "# load source code data into a Pandas dataframe\n",
      "data = pd.read_csv('source/GDP_USA.csv', index_col=0, parse_dates=True)\n",
      "GDP_USA = pd.DataFrame(data)\n",
      "data = pd.read_csv('source/usa_aggr_monthly.csv', index_col=0)\n",
      "usa_aggr_monthly = pd.DataFrame(data)\n",
      "data = pd.read_csv('source/usa_cons_monthly.csv', index_col=0)\n",
      "usa_cons_monthly = pd.DataFrame(data)\n",
      "data = pd.read_csv('source/usa_cred_monthly.csv', index_col=0)\n",
      "usa_cred_monthly = pd.DataFrame(data)\n",
      "data = pd.read_csv('source/usa_real_monthly.csv', index_col=0)\n",
      "usa_real_monthly = pd.DataFrame(data)"
     ],
     "language": "python",
     "metadata": {},
     "outputs": [],
     "prompt_number": 702
    },
    {
     "cell_type": "code",
     "collapsed": false,
     "input": [
      "# combine dataframes into one master dataframe, indexed by date\n",
      "master = pd.concat([\n",
      "                    GDP_USA.ix[:,:], \n",
      "                    usa_aggr_monthly.ix[:,:],\n",
      "                    usa_cons_monthly.ix[:,:],\n",
      "                    usa_cred_monthly.ix[:,:],\n",
      "                    usa_real_monthly.ix[:,:],\n",
      "                    ], \n",
      "                   axis=1)\n",
      "\n",
      "# convert date index to python datetime\n",
      "from dateutil.parser import parse\n",
      "dates = master.index.values\n",
      "dates = dates * 100 + 1\n",
      "dates = np.array(map(str, dates))\n",
      "dates = np.array(map(parse, dates))\n",
      "master.index = dates"
     ],
     "language": "python",
     "metadata": {},
     "outputs": [],
     "prompt_number": 703
    },
    {
     "cell_type": "code",
     "collapsed": false,
     "input": [
      "# simple series to visualize forecast data\n",
      "forecasts = master.ix[:,0]\n",
      "forecasts = forecasts.dropna(how='any')\n",
      "\n",
      "# remove rows where Y (forecast GDP) is NaN\n",
      "master = master.ix[forecasts.index]\n",
      "\n",
      "\"\"\"\n",
      "# fill missing data with average values\n",
      "master = master.fillna(master.mean())\n",
      "\n",
      "# fill missing data forward first, then backward\n",
      "master = master.fillna(method='pad')\n",
      "master = master.fillna(method='bfill')\n",
      "\"\"\"\n",
      "# remove features with missing data\n",
      "master_wo_missing = master.dropna(axis=1)"
     ],
     "language": "python",
     "metadata": {},
     "outputs": [],
     "prompt_number": 704
    },
    {
     "cell_type": "code",
     "collapsed": false,
     "input": [
      "# prepare for building time series features\n",
      "cols = master_wo_missing.columns\n",
      "y_col = cols[0]\n",
      "X_cols = cols[1:]\n",
      "ys = master_wo_missing[y_col].values\n",
      "Xs = master_wo_missing[X_cols].values"
     ],
     "language": "python",
     "metadata": {},
     "outputs": [],
     "prompt_number": 705
    },
    {
     "cell_type": "code",
     "collapsed": false,
     "input": [
      "# build exponentially weighted moving average for and each feature\n",
      "ewma = pd.stats.moments.ewma\n",
      "\n",
      "# time-series features for existing features\n",
      "EMOV_n = ewma(Xs, com=2)\n",
      "Xs = np.append(Xs, EMOV_n, 1)\n",
      "\n",
      "# time-series featuers for forecast GDPs\n",
      "\n",
      "# regular EWMA, with bias against trend\n",
      "EMOV_n_reg = ewma(ys, com=2)\n",
      "EMOV_n_reg =np.matrix(EMOV_n_reg).T\n",
      "Xs = np.append(Xs, EMOV_n_reg, 1)\n",
      "\n",
      "# this EWMA better accounts for seasonality\n",
      "def holt_winters_second_order_ewma( x, com, beta ):\n",
      "    N = x.size\n",
      "    #alpha = 2.0 / ( 1 + span )\n",
      "    alpha = 1.0 / (1 + com)\n",
      "    s = np.zeros(( N, ))\n",
      "    b = np.zeros(( N, ))\n",
      "    s[0] = x[0]\n",
      "    for i in range( 1, N ):\n",
      "        s[i] = alpha * x[i] + ( 1 - alpha )*( s[i-1] + b[i-1] )\n",
      "        b[i] = beta * ( s[i] - s[i-1] ) + ( 1 - beta ) * b[i-1]\n",
      "    return s\n",
      "EMOV_n_second = holt_winters_second_order_ewma( ys, 2, 0.3 )\n",
      "EMOV_n_second =np.matrix(EMOV_n_second).T\n",
      "Xs = np.append(Xs, EMOV_n_second, 1)\n",
      "\n",
      "time_cols = X_cols.copy(deep=True)\n",
      "time_cols = [\"%s-EMOV\" % (c) for c in time_cols]\n",
      "time_cols.append('USA GDP Revisions-EMOV-Regular')\n",
      "time_cols.append('USA GDP Revisions-EMOV-Second')\n",
      "time_cols = np.asarray(time_cols)\n",
      "X_cols = np.append(X_cols, time_cols, 0) "
     ],
     "language": "python",
     "metadata": {},
     "outputs": [],
     "prompt_number": 706
    },
    {
     "cell_type": "code",
     "collapsed": false,
     "input": [
      "# rebuild expanded master data frame\n",
      "cols = np.append(np.asarray([y_col,]), X_cols, 0)\n",
      "data = np.append(np.matrix(ys).T, Xs, 1)\n",
      "master_wo_missing_w_EWMA = pd.DataFrame(data,index=master_wo_missing.index,columns=cols)"
     ],
     "language": "python",
     "metadata": {},
     "outputs": [],
     "prompt_number": 707
    },
    {
     "cell_type": "code",
     "collapsed": false,
     "input": [
      "# select subset of rows for testing and model verification\n",
      "import math\n",
      "sample_count = int(math.floor(len(master_wo_missing_w_EWMA)*0.20))\n",
      "test_set = master_wo_missing_w_EWMA.ix[-sample_count:]\n",
      "train_set = master_wo_missing_w_EWMA.ix[:-sample_count-1]"
     ],
     "language": "python",
     "metadata": {},
     "outputs": [],
     "prompt_number": 708
    },
    {
     "cell_type": "code",
     "collapsed": false,
     "input": [
      "# prepare data to be used by scikit learn --> move from pandas to numpy\n",
      "cols = train_set.columns\n",
      "y_col = cols[0]\n",
      "X_cols = cols[1:]\n",
      "ys = train_set[y_col].values\n",
      "Xs = train_set[X_cols].values"
     ],
     "language": "python",
     "metadata": {},
     "outputs": [],
     "prompt_number": 709
    },
    {
     "cell_type": "code",
     "collapsed": false,
     "input": [
      "from sklearn import cross_validation\n",
      "from sklearn.cross_validation import KFold\n",
      "from sklearn import svm\n",
      "from sklearn import preprocessing\n",
      "from sklearn.grid_search import GridSearchCV\n",
      "from sklearn.decomposition import PCA, RandomizedPCA\n",
      "from sklearn.metrics import mean_absolute_error, mean_squared_error, r2_score, explained_variance_score, accuracy_score, log_loss\n",
      "\n",
      "class Model(object):\n",
      "\n",
      "    def __init__(self, Xs, ys, model=None, scale=True, components=None):\n",
      "        \n",
      "        self.Xs = Xs \n",
      "        self.scaler = None\n",
      "        self.pca = None\n",
      "        \n",
      "        if scale:\n",
      "            # normalize data, convert to z-scores\n",
      "            self.scaler = preprocessing.StandardScaler().fit(Xs)\n",
      "            self.Xs = self.scaler.transform(Xs)\n",
      "            \n",
      "        if components:\n",
      "            # reduce dimensionality of Xs\n",
      "            self.pca = PCA(n_components=components)\n",
      "            self.Xs = self.pca.fit_transform(self.Xs)\n",
      "            \n",
      "        self.ys = ys\n",
      "        self.model = model\n",
      "    \n",
      "    def preprocess_Xs(self, Xs):\n",
      "        # apply trained/fit model to new data set\n",
      "        if self.scaler:\n",
      "            # input data will be scaled\n",
      "            Xs = self.scaler.transform(Xs)\n",
      "        if self.pca:\n",
      "            # input dimensionality will be reduced\n",
      "            Xs = self.pca.transform(Xs)\n",
      "        return Xs\n",
      "    \n",
      "    def predict(self, X_test):\n",
      "        X_test = self.preprocess_Xs(X_test)\n",
      "        predicted = self.model.predict(X_test)\n",
      "        return predicted\n",
      "    \n",
      "    def simple_split_test(self):    \n",
      "        # split data set into train and test sets, keeping most recent data for test set\n",
      "        # return model accuracy\n",
      "        sample_count = int(math.floor(len(master)*0.25))\n",
      "        X_train = self.Xs[:-sample_count-1]\n",
      "        y_train = self.ys[:-sample_count-1]\n",
      "        X_test = self.Xs[-sample_count:]\n",
      "        y_test = self.ys[-sample_count:]\n",
      "        \n",
      "        self.model.fit(X_train, y_train)\n",
      "        predicted = self.model.predict(X_test)\n",
      "        \n",
      "        scores = {\n",
      "        'explained_variance_score': '%0.2f' % explained_variance_score(y_test, predicted),\n",
      "        'mean_absolute_error': '%0.2f' % mean_absolute_error(y_test, predicted),\n",
      "        'mean_sqrd_err_reg_loss': '%0.2f' % mean_squared_error(y_test, predicted),\n",
      "        'r2_score': '%0.2f' % r2_score(y_test, predicted),\n",
      "        }\n",
      "        # fit model to full training set\n",
      "        self.model.fit(self.Xs, self.ys)\n",
      "        \n",
      "        return scores\n",
      "    \n",
      "    def dim_reduc_chart(self):\n",
      "        pca = PCA()\n",
      "        pca.fit(self.Xs)\n",
      "        \n",
      "        fig = plt.figure()\n",
      "        chart = fig.add_subplot(111)\n",
      "        chart.plot(pca.explained_variance_, linewidth=2)\n",
      "        chart.axis('tight')\n",
      "        chart.set_xlabel('N Components')\n",
      "        chart.set_ylabel('Explained Variance')\n",
      "        chart.set_title('Dimension Explanation')\n",
      "        \n",
      "    def iter_cross_val(self, classification=False):\n",
      "        # performs multiple cross-validation tests on data and returns averaged accuracy\n",
      "        # data set is kept in chronological order and devided into equal parts, or folds\n",
      "        # if data set is split into folds numbered: [1,2,3,4,5]\n",
      "        # the training / testing split follows this pattern:\n",
      "        # train[1] / test[2]\n",
      "        # train[1,2] / test[3]\n",
      "        # train[1,2,3] / test[4]\n",
      "        # train[1,2,3,4] / test[5]\n",
      "        \n",
      "        number_folds = 5\n",
      "        k = int(np.floor(float(self.Xs.shape[0]) / number_folds))\n",
      "        \n",
      "        if not classification:\n",
      "            bank_explained_variance_score = np.zeros(number_folds-1)\n",
      "            bank_mean_absolute_error = np.zeros(number_folds-1)\n",
      "            bank_mean_sqrd_err_reg_loss = np.zeros(number_folds-1)\n",
      "            bank_r2_score = np.zeros(number_folds-1)\n",
      "        else:\n",
      "            bank_accuracy = np.zeros(number_folds-1)\n",
      "            bank_log_loss = np.zeros(number_folds-1)\n",
      "        \n",
      "        for i in range(2, number_folds + 1):\n",
      "            split = float(i-1)/i\n",
      "            X = self.Xs[:(k*i)]\n",
      "            y = self.ys[:(k*i)]\n",
      "            index = int(np.floor(X.shape[0] * split))\n",
      "            \n",
      "            # folds used to train the model        \n",
      "            X_trainFolds = X[:index]        \n",
      "            y_trainFolds = y[:index]\n",
      "\n",
      "            # fold used to test the model\n",
      "            X_testFold = X[(index + 1):]\n",
      "            y_testFold = y[(index + 1):]\n",
      "            \n",
      "            self.model.fit (X_trainFolds, y_trainFolds)\n",
      "            \n",
      "            predicted = self.model.predict(X_testFold)\n",
      "\n",
      "            if not classification:\n",
      "                bank_explained_variance_score[i-2] = explained_variance_score(y_testFold, predicted)\n",
      "                bank_mean_absolute_error[i-2] = mean_absolute_error(y_testFold, predicted)\n",
      "                bank_mean_sqrd_err_reg_loss[i-2] = mean_squared_error(y_testFold, predicted)\n",
      "                bank_r2_score[i-2] = r2_score(y_testFold, predicted)\n",
      "            else:\n",
      "                predicted_proba = self.model.predict_proba(X_testFold)\n",
      "                #score = self.model.score(X_testFold, y_testFold)    \n",
      "                #scores[i-2] = score\n",
      "                bank_accuracy[i-2] = accuracy_score(y_testFold, predicted)\n",
      "                bank_log_loss[i-2] = log_loss(y_testFold, predicted_proba)\n",
      "\n",
      "        # fit model to full training set\n",
      "        self.model.fit(self.Xs, self.ys)\n",
      "        \n",
      "        if not classification:\n",
      "            return {\n",
      "            'explained_variance_score': '%0.2f (+/- %0.2f)' % (bank_explained_variance_score.mean(), bank_explained_variance_score.std() * 2), \n",
      "            'mean_absolute_error': '%0.2f (+/- %0.2f)' % (bank_mean_absolute_error.mean(), bank_mean_absolute_error.std() * 2), \n",
      "            'mean_sqrd_err_reg_loss': '%0.2f (+/- %0.2f)' % (bank_mean_sqrd_err_reg_loss.mean(), bank_mean_sqrd_err_reg_loss.std() * 2), \n",
      "            'r2_score': '%0.2f (+/- %0.2f)' % (bank_r2_score.mean(), bank_r2_score.std() * 2), \n",
      "            }\n",
      "        else:\n",
      "            return {\n",
      "                'accuracy_score': '%0.2f (+/- %0.2f)' % (bank_accuracy.mean(), bank_accuracy.std() * 2),\n",
      "                'log_loss': '%0.2f (+/- %0.2f)' % (bank_log_loss.mean(), bank_log_loss.std() * 2),\n",
      "            }"
     ],
     "language": "python",
     "metadata": {},
     "outputs": [],
     "prompt_number": 755
    },
    {
     "cell_type": "code",
     "collapsed": false,
     "input": [
      "# functions to analyze fitted model performance on previosly unseen test data\n",
      "def test_score(model, test_set, y_col, X_cols):\n",
      "    # show accuracy / fit score of model on test data\n",
      "    test_ys = test_set[y_col].values\n",
      "    test_Xs = test_set[X_cols].values\n",
      "    predicted = model.predict(test_Xs)\n",
      "    \n",
      "    print 'explained_variance_score: %0.2f' % explained_variance_score(test_ys, predicted)\n",
      "    print 'mean_absolute_error: %0.2f' % mean_absolute_error(test_ys, predicted)\n",
      "    print 'mean_sqrd_err_reg_loss: %0.2f' % mean_squared_error(test_ys, predicted)\n",
      "    print 'r2_score: %0.2f' % r2_score(test_ys, predicted)\n",
      "    \n",
      "def pred_vs_act_scatter(model, test_set):\n",
      "    # scatter plot comparing predicted versus actual values\n",
      "    test_ys = test_set[y_col].values\n",
      "    test_Xs = test_set[X_cols].values\n",
      "    predicted = model.predict(test_Xs)\n",
      "    \n",
      "    fig = plt.figure()\n",
      "    pred_vs_actual = fig.add_subplot(111)\n",
      "    \n",
      "    pred_vs_actual.scatter(test_ys, predicted)\n",
      "    pred_vs_actual.plot([min(test_ys), max(test_ys)], [min(test_ys), max(test_ys)], '--k')\n",
      "    pred_vs_actual.grid(True)\n",
      "    pred_vs_actual.set_xlabel('Target')\n",
      "    pred_vs_actual.set_ylabel('Predicted')\n",
      "    pred_vs_actual.set_title(\"Prediction Accuracy\")\n",
      "    \n",
      "def actual_vs_predicted_over_time(model, test_set, y_col, X_cols):\n",
      "    # plot model predicted values and actual values over time\n",
      "    test_ys = test_set[y_col].values\n",
      "    test_Xs = test_set[X_cols].values\n",
      "    \n",
      "    predicted = model.predict(test_Xs)    \n",
      "    predicted = pd.Series(predicted, index=test_set.index)\n",
      "    actual = pd.Series(test_ys, index=test_set.index)\n",
      "    comparison = pd.DataFrame({'actual': actual,\n",
      "                               'predicted': predicted,\n",
      "                               })\n",
      "    chart = comparison.plot(title='Actual vs Predicted Values orderd by Date')\n",
      "    chart.set_xlabel(\"Date\")\n",
      "    chart.set_ylabel(\"Forecast 12-M GDP Growth\")\n",
      "\n",
      "def test_fitted_on_new(model, test_set, y_col, X_cols):\n",
      "    # run summarizing functions showing model performance on test data\n",
      "    test_score(model, test_set, y_col, X_cols)\n",
      "    pred_vs_act_scatter(model, test_set)\n",
      "    actual_vs_predicted_over_time(model, test_set, y_col, X_cols)\n",
      "    \n",
      "def test_classifier(model, test_set, y_col, X_cols):\n",
      "    # test classifier model on new data\n",
      "    ys = test_set[y_col].values\n",
      "    Xs = test_set[X_cols].values\n",
      "    Xs = model.preprocess_Xs(Xs)\n",
      "    predicted = model.model.predict(Xs)\n",
      "    print \"Accuracy: %f\" % (accuracy_score(ys, predicted))\n",
      "    predicted_proba = model.model.predict_proba(Xs)\n",
      "    print \"Log Loss: %f\" % (log_loss(ys, predicted_proba))"
     ],
     "language": "python",
     "metadata": {},
     "outputs": [],
     "prompt_number": 778
    },
    {
     "cell_type": "markdown",
     "metadata": {},
     "source": [
      "These are the two best performing models of the first submission:\n",
      "\n",
      "(I've decided it's best to choose hyper-parameters for ensemble methods using the same k-folds style iterative format because of time-series nature of data. This results in lower performance of model overall for the previously selected ensemble model though it better predicts performance on test data)"
     ]
    },
    {
     "cell_type": "code",
     "collapsed": false,
     "input": [
      "# instantiate cross validation testing on models with \n",
      "from sklearn.linear_model import LinearRegression, Ridge, Lasso\n",
      "model = Model(Xs, ys, Lasso(alpha=.01))\n",
      "model.iter_cross_val()"
     ],
     "language": "python",
     "metadata": {},
     "outputs": [
      {
       "metadata": {},
       "output_type": "pyout",
       "prompt_number": 716,
       "text": [
        "{'explained_variance_score': '0.90 (+/- 0.15)',\n",
        " 'mean_absolute_error': '0.17 (+/- 0.05)',\n",
        " 'mean_sqrd_err_reg_loss': '0.04 (+/- 0.03)',\n",
        " 'r2_score': '0.87 (+/- 0.23)'}"
       ]
      }
     ],
     "prompt_number": 716
    },
    {
     "cell_type": "code",
     "collapsed": false,
     "input": [
      "from sklearn.ensemble import RandomForestRegressor, GradientBoostingRegressor, ExtraTreesRegressor, BaggingRegressor\n",
      "model = Model(Xs, ys, GradientBoostingRegressor())\n",
      "model.iter_cross_val()"
     ],
     "language": "python",
     "metadata": {},
     "outputs": [
      {
       "metadata": {},
       "output_type": "pyout",
       "prompt_number": 717,
       "text": [
        "{'explained_variance_score': '0.63 (+/- 0.49)',\n",
        " 'mean_absolute_error': '0.34 (+/- 0.15)',\n",
        " 'mean_sqrd_err_reg_loss': '0.25 (+/- 0.25)',\n",
        " 'r2_score': '0.49 (+/- 0.61)'}"
       ]
      }
     ],
     "prompt_number": 717
    },
    {
     "cell_type": "code",
     "collapsed": false,
     "input": [
      "# test fitted model on new data\n",
      "model = Model(Xs, ys, Lasso(alpha=.05))\n",
      "model.model.fit(model.Xs, ys)\n",
      "test_fitted_on_new(model, test_set, y_col, X_cols)"
     ],
     "language": "python",
     "metadata": {},
     "outputs": [
      {
       "output_type": "stream",
       "stream": "stdout",
       "text": [
        "explained_variance_score: 0.72\n",
        "mean_absolute_error: 0.16\n",
        "mean_sqrd_err_reg_loss: 0.05\n",
        "r2_score: 0.69\n"
       ]
      },
      {
       "metadata": {},
       "output_type": "display_data",
       "png": "[encoded data removed]",
       "text": [
        "<matplotlib.figure.Figure at 0x11303ded0>"
       ]
      },
      {
       "metadata": {},
       "output_type": "display_data",
       "png": "[encoded data removed]",
       "text": [
        "<matplotlib.figure.Figure at 0x10e400e90>"
       ]
      }
     ],
     "prompt_number": 396
    },
    {
     "cell_type": "markdown",
     "metadata": {},
     "source": [
      "<h3>Section 2</h3>\n",
      "\n",
      "Now we'll run the same models after removing the two GDP forecast EWMA features"
     ]
    },
    {
     "cell_type": "code",
     "collapsed": false,
     "input": [
      "master_wo_gdp_ewma = master_wo_missing_w_EWMA.drop('USA GDP Revisions-EMOV-Regular', 1)\n",
      "master_wo_gdp_ewma = master_wo_gdp_ewma.drop('USA GDP Revisions-EMOV-Second', 1)"
     ],
     "language": "python",
     "metadata": {},
     "outputs": [],
     "prompt_number": 397
    },
    {
     "cell_type": "code",
     "collapsed": false,
     "input": [
      "# select subset of rows for testing and model verification\n",
      "import math\n",
      "sample_count = int(math.floor(len(master_wo_gdp_ewma)*0.20))\n",
      "test_set = master_wo_gdp_ewma.ix[-sample_count:]\n",
      "train_set = master_wo_gdp_ewma.ix[:-sample_count-1]"
     ],
     "language": "python",
     "metadata": {},
     "outputs": [],
     "prompt_number": 398
    },
    {
     "cell_type": "code",
     "collapsed": false,
     "input": [
      "# prepare data to be used by scikit learn --> move from pandas to numpy\n",
      "cols = train_set.columns\n",
      "y_col = cols[0]\n",
      "X_cols = cols[1:]\n",
      "ys = train_set[y_col].values\n",
      "Xs = train_set[X_cols].values"
     ],
     "language": "python",
     "metadata": {},
     "outputs": [],
     "prompt_number": 399
    },
    {
     "cell_type": "code",
     "collapsed": false,
     "input": [
      "# try lasso regressor\n",
      "# implement simple grid search to find best hyper-parameters\n",
      "alphas = np.array([1,0.1, 0.05, 0.01, 0.005, 0.001,0.0001])\n",
      "for a in alphas:\n",
      "    print \"Alpha: %f\" % (a)\n",
      "    model = Model(Xs, ys, Lasso(alpha=a))\n",
      "    scores = model.iter_cross_val()\n",
      "    print \"explained_variance_score: %s, mean_sqrd_err_reg_loss: %s\" % (scores['explained_variance_score'] ,scores['mean_sqrd_err_reg_loss'])\n",
      "    print \"\""
     ],
     "language": "python",
     "metadata": {},
     "outputs": [
      {
       "output_type": "stream",
       "stream": "stdout",
       "text": [
        "Alpha: 1.000000\n",
        "explained_variance_score: 0.00 (+/- 0.00), mean_sqrd_err_reg_loss: 1.32 (+/- 1.44)\n",
        "\n",
        "Alpha: 0.100000\n",
        "explained_variance_score: 0.57 (+/- 0.40), mean_sqrd_err_reg_loss: 0.39 (+/- 0.56)\n",
        "\n",
        "Alpha: 0.050000\n",
        "explained_variance_score: 0.60 (+/- 0.49), mean_sqrd_err_reg_loss: 0.24 (+/- 0.27)"
       ]
      },
      {
       "output_type": "stream",
       "stream": "stdout",
       "text": [
        "\n",
        "\n",
        "Alpha: 0.010000\n",
        "explained_variance_score: 0.53 (+/- 0.85), mean_sqrd_err_reg_loss: 0.27 (+/- 0.24)\n",
        "\n",
        "Alpha: 0.005000\n",
        "explained_variance_score: 0.52 (+/- 0.90), mean_sqrd_err_reg_loss: 0.29 (+/- 0.34)"
       ]
      },
      {
       "output_type": "stream",
       "stream": "stdout",
       "text": [
        "\n",
        "\n",
        "Alpha: 0.001000\n",
        "explained_variance_score: 0.23 (+/- 1.51), mean_sqrd_err_reg_loss: 0.43 (+/- 0.66)"
       ]
      },
      {
       "output_type": "stream",
       "stream": "stdout",
       "text": [
        "\n",
        "\n",
        "Alpha: 0.000100\n",
        "explained_variance_score: 0.02 (+/- 1.44), mean_sqrd_err_reg_loss: 1.39 (+/- 2.09)"
       ]
      },
      {
       "output_type": "stream",
       "stream": "stdout",
       "text": [
        "\n",
        "\n"
       ]
      }
     ],
     "prompt_number": 400
    },
    {
     "cell_type": "code",
     "collapsed": false,
     "input": [
      "# try ridge regressor\n",
      "# implement simple grid search to find best hyper-parameters\n",
      "alphas = np.array([10000, 5000, 1000, 500,  200, 100, 50, 10, 5, 1])\n",
      "for a in alphas:\n",
      "    print \"Alpha: %f\" % (a)\n",
      "    model = Model(Xs, ys, Ridge(alpha=a))\n",
      "    scores = model.iter_cross_val()\n",
      "    print \"explained_variance_score: %s, mean_sqrd_err_reg_loss: %s\" % (scores['explained_variance_score'] ,scores['mean_sqrd_err_reg_loss'])\n",
      "    print \"\""
     ],
     "language": "python",
     "metadata": {},
     "outputs": [
      {
       "output_type": "stream",
       "stream": "stdout",
       "text": [
        "Alpha: 10000.000000\n",
        "explained_variance_score: 0.32 (+/- 0.29), mean_sqrd_err_reg_loss: 0.81 (+/- 0.74)\n",
        "\n",
        "Alpha: 5000.000000\n",
        "explained_variance_score: 0.43 (+/- 0.35), mean_sqrd_err_reg_loss: 0.64 (+/- 0.59)\n",
        "\n",
        "Alpha: 1000.000000\n",
        "explained_variance_score: 0.54 (+/- 0.52), mean_sqrd_err_reg_loss: 0.33 (+/- 0.39)\n",
        "\n",
        "Alpha: 500.000000\n",
        "explained_variance_score: 0.51 (+/- 0.65), mean_sqrd_err_reg_loss: 0.27 (+/- 0.25)\n",
        "\n",
        "Alpha: 200.000000\n",
        "explained_variance_score: 0.47 (+/- 0.83), mean_sqrd_err_reg_loss: 0.25 (+/- 0.01)\n",
        "\n",
        "Alpha: 100.000000\n",
        "explained_variance_score: 0.44 (+/- 0.93), mean_sqrd_err_reg_loss: 0.27 (+/- 0.17)"
       ]
      },
      {
       "output_type": "stream",
       "stream": "stdout",
       "text": [
        "\n",
        "\n",
        "Alpha: 50.000000\n",
        "explained_variance_score: 0.44 (+/- 0.98), mean_sqrd_err_reg_loss: 0.29 (+/- 0.29)\n",
        "\n",
        "Alpha: 10.000000\n",
        "explained_variance_score: 0.42 (+/- 1.05), mean_sqrd_err_reg_loss: 0.39 (+/- 0.38)\n",
        "\n",
        "Alpha: 5.000000\n",
        "explained_variance_score: 0.39 (+/- 1.10), mean_sqrd_err_reg_loss: 0.43 (+/- 0.41)\n",
        "\n",
        "Alpha: 1.000000\n",
        "explained_variance_score: 0.26 (+/- 1.26), mean_sqrd_err_reg_loss: 0.49 (+/- 0.53)\n",
        "\n"
       ]
      }
     ],
     "prompt_number": 401
    },
    {
     "cell_type": "code",
     "collapsed": false,
     "input": [
      "# try gradient boosting regressor\n",
      "# implement simple grid search to find best hyper-parameters\n",
      "n_estimators = np.array([100, 200, 400, 500])\n",
      "max_depth = np.array([1, 3, 5,])\n",
      "for e in n_estimators:\n",
      "    for d in max_depth:\n",
      "        print \"N_Estimators: %f, Max_Depth: %f\" % (e, d)\n",
      "        model = Model(Xs, ys, GradientBoostingRegressor(n_estimators=e, max_depth=d))\n",
      "        scores = model.iter_cross_val()\n",
      "        print \"explained_variance_score: %s, mean_sqrd_err_reg_loss: %s\" % (scores['explained_variance_score'] ,scores['mean_sqrd_err_reg_loss'])\n",
      "        print \"\""
     ],
     "language": "python",
     "metadata": {},
     "outputs": [
      {
       "output_type": "stream",
       "stream": "stdout",
       "text": [
        "N_Estimators: 100.000000, Max_Depth: 1.000000\n",
        "explained_variance_score: 0.60 (+/- 0.40), mean_sqrd_err_reg_loss: 0.43 (+/- 0.66)"
       ]
      },
      {
       "output_type": "stream",
       "stream": "stdout",
       "text": [
        "\n",
        "\n",
        "N_Estimators: 100.000000, Max_Depth: 3.000000\n",
        "explained_variance_score: 0.52 (+/- 0.49), mean_sqrd_err_reg_loss: 0.55 (+/- 0.85)"
       ]
      },
      {
       "output_type": "stream",
       "stream": "stdout",
       "text": [
        "\n",
        "\n",
        "N_Estimators: 100.000000, Max_Depth: 5.000000\n",
        "explained_variance_score: 0.35 (+/- 0.66), mean_sqrd_err_reg_loss: 0.60 (+/- 0.90)"
       ]
      },
      {
       "output_type": "stream",
       "stream": "stdout",
       "text": [
        "\n",
        "\n",
        "N_Estimators: 200.000000, Max_Depth: 1.000000\n",
        "explained_variance_score: 0.59 (+/- 0.46), mean_sqrd_err_reg_loss: 0.41 (+/- 0.57)"
       ]
      },
      {
       "output_type": "stream",
       "stream": "stdout",
       "text": [
        "\n",
        "\n",
        "N_Estimators: 200.000000, Max_Depth: 3.000000\n",
        "explained_variance_score: 0.53 (+/- 0.46), mean_sqrd_err_reg_loss: 0.54 (+/- 0.81)"
       ]
      },
      {
       "output_type": "stream",
       "stream": "stdout",
       "text": [
        "\n",
        "\n",
        "N_Estimators: 200.000000, Max_Depth: 5.000000\n",
        "explained_variance_score: 0.33 (+/- 0.68), mean_sqrd_err_reg_loss: 0.59 (+/- 0.83)"
       ]
      },
      {
       "output_type": "stream",
       "stream": "stdout",
       "text": [
        "\n",
        "\n",
        "N_Estimators: 400.000000, Max_Depth: 1.000000\n",
        "explained_variance_score: 0.60 (+/- 0.42), mean_sqrd_err_reg_loss: 0.42 (+/- 0.63)"
       ]
      },
      {
       "output_type": "stream",
       "stream": "stdout",
       "text": [
        "\n",
        "\n",
        "N_Estimators: 400.000000, Max_Depth: 3.000000\n",
        "explained_variance_score: 0.53 (+/- 0.46), mean_sqrd_err_reg_loss: 0.53 (+/- 0.84)"
       ]
      },
      {
       "output_type": "stream",
       "stream": "stdout",
       "text": [
        "\n",
        "\n",
        "N_Estimators: 400.000000, Max_Depth: 5.000000\n",
        "explained_variance_score: 0.36 (+/- 0.66), mean_sqrd_err_reg_loss: 0.60 (+/- 0.92)"
       ]
      },
      {
       "output_type": "stream",
       "stream": "stdout",
       "text": [
        "\n",
        "\n",
        "N_Estimators: 500.000000, Max_Depth: 1.000000\n",
        "explained_variance_score: 0.60 (+/- 0.46), mean_sqrd_err_reg_loss: 0.40 (+/- 0.57)"
       ]
      },
      {
       "output_type": "stream",
       "stream": "stdout",
       "text": [
        "\n",
        "\n",
        "N_Estimators: 500.000000, Max_Depth: 3.000000\n",
        "explained_variance_score: 0.53 (+/- 0.47), mean_sqrd_err_reg_loss: 0.51 (+/- 0.77)"
       ]
      },
      {
       "output_type": "stream",
       "stream": "stdout",
       "text": [
        "\n",
        "\n",
        "N_Estimators: 500.000000, Max_Depth: 5.000000\n",
        "explained_variance_score: 0.30 (+/- 0.73), mean_sqrd_err_reg_loss: 0.65 (+/- 0.97)"
       ]
      },
      {
       "output_type": "stream",
       "stream": "stdout",
       "text": [
        "\n",
        "\n"
       ]
      }
     ],
     "prompt_number": 312
    },
    {
     "cell_type": "code",
     "collapsed": false,
     "input": [
      "# try random forest regressor\n",
      "# implement simple grid search to find best hyper-parameters\n",
      "n_estimators = np.array([5, 10, 50, 100])\n",
      "max_depth = np.array([None, 1, 3, 5,])\n",
      "for e in n_estimators:\n",
      "    for d in max_depth:\n",
      "        print \"N_Estimators: %s, Max_Depth: %s\" % (e, d)\n",
      "        model = Model(Xs, ys, RandomForestRegressor(n_estimators=e, max_depth=d))\n",
      "        scores = model.iter_cross_val()\n",
      "        print \"explained_variance_score: %s, mean_sqrd_err_reg_loss: %s\" % (scores['explained_variance_score'] ,scores['mean_sqrd_err_reg_loss'])\n",
      "        print \"\""
     ],
     "language": "python",
     "metadata": {},
     "outputs": [
      {
       "output_type": "stream",
       "stream": "stdout",
       "text": [
        "N_Estimators: 5, Max_Depth: None\n",
        "explained_variance_score: 0.37 (+/- 0.69), mean_sqrd_err_reg_loss: 0.71 (+/- 1.46)"
       ]
      },
      {
       "output_type": "stream",
       "stream": "stdout",
       "text": [
        "\n",
        "\n",
        "N_Estimators: 5, Max_Depth: 1\n",
        "explained_variance_score: 0.22 (+/- 0.44), mean_sqrd_err_reg_loss: 0.82 (+/- 0.89)"
       ]
      },
      {
       "output_type": "stream",
       "stream": "stdout",
       "text": [
        "\n",
        "\n",
        "N_Estimators: 5, Max_Depth: 3\n",
        "explained_variance_score: 0.51 (+/- 0.63), mean_sqrd_err_reg_loss: 0.51 (+/- 0.93)"
       ]
      },
      {
       "output_type": "stream",
       "stream": "stdout",
       "text": [
        "\n",
        "\n",
        "N_Estimators: 5, Max_Depth: 5\n",
        "explained_variance_score: 0.33 (+/- 0.63), mean_sqrd_err_reg_loss: 0.71 (+/- 1.20)"
       ]
      },
      {
       "output_type": "stream",
       "stream": "stdout",
       "text": [
        "\n",
        "\n",
        "N_Estimators: 10, Max_Depth: None\n",
        "explained_variance_score: 0.52 (+/- 0.49), mean_sqrd_err_reg_loss: 0.43 (+/- 0.66)"
       ]
      },
      {
       "output_type": "stream",
       "stream": "stdout",
       "text": [
        "\n",
        "\n",
        "N_Estimators: 10, Max_Depth: 1\n",
        "explained_variance_score: 0.25 (+/- 0.37), mean_sqrd_err_reg_loss: 0.97 (+/- 1.11)"
       ]
      },
      {
       "output_type": "stream",
       "stream": "stdout",
       "text": [
        "\n",
        "\n",
        "N_Estimators: 10, Max_Depth: 3\n",
        "explained_variance_score: 0.49 (+/- 0.51), mean_sqrd_err_reg_loss: 0.59 (+/- 0.90)"
       ]
      },
      {
       "output_type": "stream",
       "stream": "stdout",
       "text": [
        "\n",
        "\n",
        "N_Estimators: 10, Max_Depth: 5\n",
        "explained_variance_score: 0.42 (+/- 0.53), mean_sqrd_err_reg_loss: 0.67 (+/- 0.93)"
       ]
      },
      {
       "output_type": "stream",
       "stream": "stdout",
       "text": [
        "\n",
        "\n",
        "N_Estimators: 50, Max_Depth: None\n",
        "explained_variance_score: 0.53 (+/- 0.45), mean_sqrd_err_reg_loss: 0.60 (+/- 0.97)"
       ]
      },
      {
       "output_type": "stream",
       "stream": "stdout",
       "text": [
        "\n",
        "\n",
        "N_Estimators: 50, Max_Depth: 1\n",
        "explained_variance_score: 0.29 (+/- 0.28), mean_sqrd_err_reg_loss: 0.80 (+/- 0.88)"
       ]
      },
      {
       "output_type": "stream",
       "stream": "stdout",
       "text": [
        "\n",
        "\n",
        "N_Estimators: 50, Max_Depth: 3\n",
        "explained_variance_score: 0.52 (+/- 0.44), mean_sqrd_err_reg_loss: 0.62 (+/- 1.16)"
       ]
      },
      {
       "output_type": "stream",
       "stream": "stdout",
       "text": [
        "\n",
        "\n",
        "N_Estimators: 50, Max_Depth: 5\n",
        "explained_variance_score: 0.51 (+/- 0.47), mean_sqrd_err_reg_loss: 0.59 (+/- 0.97)"
       ]
      },
      {
       "output_type": "stream",
       "stream": "stdout",
       "text": [
        "\n",
        "\n",
        "N_Estimators: 100, Max_Depth: None\n",
        "explained_variance_score: 0.51 (+/- 0.47), mean_sqrd_err_reg_loss: 0.57 (+/- 0.93)"
       ]
      },
      {
       "output_type": "stream",
       "stream": "stdout",
       "text": [
        "\n",
        "\n",
        "N_Estimators: 100, Max_Depth: 1\n",
        "explained_variance_score: 0.28 (+/- 0.31), mean_sqrd_err_reg_loss: 0.87 (+/- 0.93)"
       ]
      },
      {
       "output_type": "stream",
       "stream": "stdout",
       "text": [
        "\n",
        "\n",
        "N_Estimators: 100, Max_Depth: 3\n",
        "explained_variance_score: 0.48 (+/- 0.49), mean_sqrd_err_reg_loss: 0.62 (+/- 1.00)"
       ]
      },
      {
       "output_type": "stream",
       "stream": "stdout",
       "text": [
        "\n",
        "\n",
        "N_Estimators: 100, Max_Depth: 5\n",
        "explained_variance_score: 0.52 (+/- 0.46), mean_sqrd_err_reg_loss: 0.60 (+/- 0.98)"
       ]
      },
      {
       "output_type": "stream",
       "stream": "stdout",
       "text": [
        "\n",
        "\n"
       ]
      }
     ],
     "prompt_number": 320
    },
    {
     "cell_type": "markdown",
     "metadata": {},
     "source": [
      "Test newly fitted model without reliance on prior GDP forecast values on new data"
     ]
    },
    {
     "cell_type": "code",
     "collapsed": false,
     "input": [
      "# test fitted model on new data\n",
      "model = Model(Xs, ys, Lasso(alpha=.05))\n",
      "model.model.fit(model.Xs, ys)\n",
      "test_fitted_on_new(model, test_set, y_col, X_cols)"
     ],
     "language": "python",
     "metadata": {},
     "outputs": [
      {
       "output_type": "stream",
       "stream": "stdout",
       "text": [
        "explained_variance_score: 0.67\n",
        "mean_absolute_error: 0.48\n",
        "mean_sqrd_err_reg_loss: 0.28\n",
        "r2_score: -0.80\n"
       ]
      },
      {
       "metadata": {},
       "output_type": "display_data",
       "png": "[encoded data removed]",
       "text": [
        "<matplotlib.figure.Figure at 0x10f324d90>"
       ]
      },
      {
       "metadata": {},
       "output_type": "display_data",
       "png": "[encoded data removed]",
       "text": [
        "<matplotlib.figure.Figure at 0x113154110>"
       ]
      }
     ],
     "prompt_number": 332
    },
    {
     "cell_type": "markdown",
     "metadata": {},
     "source": [
      "<h3>Section 3</h3>\n",
      "\n",
      "Try adding lagged feature values, the ratio of change in feature values, and EWMA of change in feature values. First I'll run the models with GDP Forecast meta data, then without."
     ]
    },
    {
     "cell_type": "code",
     "collapsed": false,
     "input": [
      "# lagged features\n",
      "shifted = master_wo_missing.shift(1)\n",
      "shifted = shifted.fillna(method='bfill')\n",
      "shifted = shifted.fillna(method='ffill')\n",
      "\n",
      "# one period change ratio\n",
      "change = master_wo_missing / shifted\n",
      "change = change.replace([np.inf, -np.inf], 0)\n",
      "change = change.replace(np.nan, 0)\n",
      "\n",
      "change.rename(columns=lambda x: \"%s-change\" % (x), inplace=True)\n",
      "shifted.rename(columns=lambda x: \"%s-lag\" % (x), inplace=True)\n",
      "\n",
      "# build exponentially weighted moving average for and each feature\n",
      "ewma = pd.stats.moments.ewma\n",
      "EMOV_n = ewma(master_wo_missing, com=2)\n",
      "EMOV_n.rename(columns=lambda x: \"%s-EWMA\" % (x), inplace=True)\n",
      "\n",
      "# build exponentially weighted moving average for changes in forecasts\n",
      "EMOV_change = ewma(change, com=2)\n",
      "EMOV_change.rename(columns=lambda x: \"%s-EWMA-change\" % (x), inplace=True)\n",
      "\n",
      "\n",
      "master_w_changes_and_lags = pd.concat([\n",
      "                                        master_wo_missing, \n",
      "                                        shifted, \n",
      "                                        change,\n",
      "                                        EMOV_n,\n",
      "                                        EMOV_change,\n",
      "                                        ],\n",
      "                                        axis=1)"
     ],
     "language": "python",
     "metadata": {},
     "outputs": [],
     "prompt_number": 617
    },
    {
     "cell_type": "code",
     "collapsed": false,
     "input": [
      "# select subset of rows for testing and model verification\n",
      "import math\n",
      "sample_count = int(math.floor(len(master_w_changes_and_lags)*0.20))\n",
      "test_set = master_w_changes_and_lags.ix[-sample_count:]\n",
      "train_set = master_w_changes_and_lags.ix[:-sample_count-1]\n",
      "\n",
      "# prepare data to be used by scikit learn --> move from pandas to numpy\n",
      "cols = train_set.columns\n",
      "y_col = cols[0]\n",
      "X_cols = cols[1:]\n",
      "ys = train_set[y_col].values\n",
      "Xs = train_set[X_cols].values"
     ],
     "language": "python",
     "metadata": {},
     "outputs": [],
     "prompt_number": 618
    },
    {
     "cell_type": "markdown",
     "metadata": {},
     "source": [
      "Run the model with GDP Forecast meta features included"
     ]
    },
    {
     "cell_type": "code",
     "collapsed": false,
     "input": [
      "# test fitted model on new data\n",
      "model = Model(Xs, ys, Lasso(alpha=.05))\n",
      "model.model.fit(model.Xs, ys)\n",
      "test_fitted_on_new(model, test_set, y_col, X_cols)"
     ],
     "language": "python",
     "metadata": {},
     "outputs": [
      {
       "output_type": "stream",
       "stream": "stdout",
       "text": [
        "explained_variance_score: 0.84\n",
        "mean_absolute_error: 0.13\n",
        "mean_sqrd_err_reg_loss: 0.03\n",
        "r2_score: 0.82\n"
       ]
      },
      {
       "metadata": {},
       "output_type": "display_data",
       "png": "[encoded data removed]",
       "text": [
        "<matplotlib.figure.Figure at 0x10f0f2e10>"
       ]
      },
      {
       "metadata": {},
       "output_type": "display_data",
       "png": "[encoded data removed]",
       "text": [
        "<matplotlib.figure.Figure at 0x10ab78050>"
       ]
      }
     ],
     "prompt_number": 619
    },
    {
     "cell_type": "markdown",
     "metadata": {},
     "source": [
      "Re-run the models without GDP Forecast metadata"
     ]
    },
    {
     "cell_type": "code",
     "collapsed": false,
     "input": [
      "# remove the meta features relating to GDP Forecasts\n",
      "master_w_changes_and_lags_no_GDP = master_w_changes_and_lags.drop('USA GDP Revisions-EWMA', 1)\n",
      "master_w_changes_and_lags_no_GDP = master_w_changes_and_lags_no_GDP.drop('USA GDP Revisions-change', 1)\n",
      "master_w_changes_and_lags_no_GDP = master_w_changes_and_lags_no_GDP.drop('USA GDP Revisions-lag', 1)\n",
      "\n",
      "# select subset of rows for testing and model verification\n",
      "import math\n",
      "sample_count = int(math.floor(len(master_w_changes_and_lags_no_GDP)*0.20))\n",
      "test_set = master_w_changes_and_lags_no_GDP.ix[-sample_count:]\n",
      "train_set = master_w_changes_and_lags_no_GDP.ix[:-sample_count-1]\n",
      "\n",
      "# prepare data to be used by scikit learn --> move from pandas to numpy\n",
      "cols = train_set.columns\n",
      "y_col = cols[0]\n",
      "X_cols = cols[1:]\n",
      "ys = train_set[y_col].values\n",
      "Xs = train_set[X_cols].values"
     ],
     "language": "python",
     "metadata": {},
     "outputs": [],
     "prompt_number": 620
    },
    {
     "cell_type": "code",
     "collapsed": false,
     "input": [
      "# test fitted model on new data\n",
      "model = Model(Xs, ys, Lasso(alpha=.05))\n",
      "model.model.fit(model.Xs, ys)\n",
      "test_fitted_on_new(model, test_set, y_col, X_cols)"
     ],
     "language": "python",
     "metadata": {},
     "outputs": [
      {
       "output_type": "stream",
       "stream": "stdout",
       "text": [
        "explained_variance_score: 0.67\n",
        "mean_absolute_error: 0.40\n",
        "mean_sqrd_err_reg_loss: 0.21\n",
        "r2_score: -0.35\n"
       ]
      },
      {
       "metadata": {},
       "output_type": "display_data",
       "png": "[encoded data removed]",
       "text": [
        "<matplotlib.figure.Figure at 0x10a9d8110>"
       ]
      },
      {
       "metadata": {},
       "output_type": "display_data",
       "png": "[encoded data removed]",
       "text": [
        "<matplotlib.figure.Figure at 0x10ff47bd0>"
       ]
      }
     ],
     "prompt_number": 621
    },
    {
     "cell_type": "markdown",
     "metadata": {},
     "source": [
      "<h3>Step 4</h3>\n",
      "\n",
      "To test intuition that supporting features do not provide much value. I'll test previously selected models on GDP Forecast metadata alone."
     ]
    },
    {
     "cell_type": "code",
     "collapsed": false,
     "input": [
      "GDP_forecast_metadata_only = master_w_changes_and_lags.ix[:,[\n",
      "                                                            'USA GDP Revisions-EWMA', \n",
      "                                                            'USA GDP Revisions-lag', \n",
      "                                                            ]]\n",
      "\n",
      "# select subset of rows for testing and model verification\n",
      "import math\n",
      "sample_count = int(math.floor(len(GDP_forecast_metadata_only)*0.20))\n",
      "test_set = GDP_forecast_metadata_only.ix[-sample_count:]\n",
      "train_set = GDP_forecast_metadata_only.ix[:-sample_count-1]\n",
      "\n",
      "# prepare data to be used by scikit learn --> move from pandas to numpy\n",
      "cols = train_set.columns\n",
      "y_col = cols[0]\n",
      "X_cols = cols[1:]\n",
      "ys = train_set[y_col].values\n",
      "Xs = train_set[X_cols].values\n",
      "\n",
      "# test fitted model on new data\n",
      "model = Model(Xs, ys, Lasso(alpha=.05))\n",
      "model.model.fit(model.Xs, ys)\n",
      "test_fitted_on_new(model, test_set, y_col, X_cols)"
     ],
     "language": "python",
     "metadata": {},
     "outputs": [
      {
       "output_type": "stream",
       "stream": "stdout",
       "text": [
        "explained_variance_score: 0.82\n",
        "mean_absolute_error: 0.12\n",
        "mean_sqrd_err_reg_loss: 0.04\n",
        "r2_score: 0.79\n"
       ]
      },
      {
       "metadata": {},
       "output_type": "display_data",
       "png": "[encoded data removed]",
       "text": [
        "<matplotlib.figure.Figure at 0x10f156c10>"
       ]
      },
      {
       "metadata": {},
       "output_type": "display_data",
       "png": "[encoded data removed]",
       "text": [
        "<matplotlib.figure.Figure at 0x10ef81210>"
       ]
      }
     ],
     "prompt_number": 623
    },
    {
     "cell_type": "markdown",
     "metadata": {},
     "source": [
      "<h3>Step 5</h3>\n",
      "\n",
      "When ignoring lagged GDP Forecast and EWMA information the training set does not predict GDP forecasts well. It is possible that the training set is able to predict changes in GDP Forecasts from one period to the next, however."
     ]
    },
    {
     "cell_type": "code",
     "collapsed": false,
     "input": [
      "# add feature to indicate whether forecast incrased or decreased since previous period\n",
      "GDP = master_w_changes_and_lags_no_GDP.ix[:,'USA GDP Revisions']\n",
      "lag_GDP = master_w_changes_and_lags_no_GDP.ix[:,'USA GDP Revisions'].shift(1)\n",
      "increase = GDP - lag_GDP\n",
      "increase = increase.dropna(how='any')\n",
      "increase = increase.map(lambda x: 1 if x > 0 else 0)\n",
      "increase.name = \"GDP Forecast Increase\"\n",
      "\n",
      "\n",
      "master_dir_change = pd.concat([\n",
      "                    increase,\n",
      "                    master_w_changes_and_lags_no_GDP.ix[increase.index], \n",
      "                    ], \n",
      "                   axis=1)\n",
      "master_dir_change = master_dir_change.drop('USA GDP Revisions', 1)\n",
      "master_dir_change.head()"
     ],
     "language": "python",
     "metadata": {},
     "outputs": [
      {
       "html": [
        "<div style=\"max-height:1000px;max-width:1500px;overflow:auto;\">\n",
        "<table border=\"1\" class=\"dataframe\">\n",
        "  <thead>\n",
        "    <tr style=\"text-align: right;\">\n",
        "      <th></th>\n",
        "      <th>GDP Forecast Increase</th>\n",
        "      <th>USCNFBUSQ</th>\n",
        "      <th>USED1IM.Q</th>\n",
        "      <th>USED1IP.Q</th>\n",
        "      <th>USEL20..O</th>\n",
        "      <th>USELFNG9O</th>\n",
        "      <th>USELFTW.O</th>\n",
        "      <th>USELNO..O</th>\n",
        "      <th>USEM21..O</th>\n",
        "      <th>USEMIMD.O</th>\n",
        "      <th>...</th>\n",
        "      <th>USEM2361O-change-EWMA-change</th>\n",
        "      <th>USHK23..G-change-EWMA-change</th>\n",
        "      <th>USHK23..O-change-EWMA-change</th>\n",
        "      <th>USNAHB1E-change-EWMA-change</th>\n",
        "      <th>USNAHB1P-change-EWMA-change</th>\n",
        "      <th>USNAHBBT-change-EWMA-change</th>\n",
        "      <th>USNAHBMI-change-EWMA-change</th>\n",
        "      <th>USTCBHEP-change-EWMA-change</th>\n",
        "      <th>USTCBHEW-change-EWMA-change</th>\n",
        "      <th>USTCBHEX-change-EWMA-change</th>\n",
        "    </tr>\n",
        "  </thead>\n",
        "  <tbody>\n",
        "    <tr>\n",
        "      <th>1989-11-01</th>\n",
        "      <td> 0</td>\n",
        "      <td> 46.8</td>\n",
        "      <td> 52.9</td>\n",
        "      <td> 60.7</td>\n",
        "      <td> 111179</td>\n",
        "      <td> 98189</td>\n",
        "      <td> 98189</td>\n",
        "      <td> 8530</td>\n",
        "      <td> 671.9</td>\n",
        "      <td> 10902</td>\n",
        "      <td>...</td>\n",
        "      <td> 1.000509</td>\n",
        "      <td> 1.004343</td>\n",
        "      <td> 1.001550</td>\n",
        "      <td> 0.950820</td>\n",
        "      <td> 0.952941</td>\n",
        "      <td> 1.000000</td>\n",
        "      <td> 0.975000</td>\n",
        "      <td> 0.945455</td>\n",
        "      <td> 1.060000</td>\n",
        "      <td> 1.042857</td>\n",
        "    </tr>\n",
        "    <tr>\n",
        "      <th>1989-12-01</th>\n",
        "      <td> 0</td>\n",
        "      <td> 47.4</td>\n",
        "      <td> 44.2</td>\n",
        "      <td> 51.7</td>\n",
        "      <td> 111184</td>\n",
        "      <td> 97921</td>\n",
        "      <td> 97921</td>\n",
        "      <td> 8656</td>\n",
        "      <td> 672.1</td>\n",
        "      <td> 10893</td>\n",
        "      <td>...</td>\n",
        "      <td> 0.998662</td>\n",
        "      <td> 0.986969</td>\n",
        "      <td> 0.991049</td>\n",
        "      <td> 0.982574</td>\n",
        "      <td> 0.965154</td>\n",
        "      <td> 0.910384</td>\n",
        "      <td> 0.955950</td>\n",
        "      <td> 1.018660</td>\n",
        "      <td> 0.902392</td>\n",
        "      <td> 1.085714</td>\n",
        "    </tr>\n",
        "    <tr>\n",
        "      <th>1990-01-01</th>\n",
        "      <td> 1</td>\n",
        "      <td> 47.2</td>\n",
        "      <td> 46.0</td>\n",
        "      <td> 56.9</td>\n",
        "      <td> 112178</td>\n",
        "      <td> 99150</td>\n",
        "      <td> 99150</td>\n",
        "      <td> 8767</td>\n",
        "      <td> 675.9</td>\n",
        "      <td> 10783</td>\n",
        "      <td>...</td>\n",
        "      <td> 1.001926</td>\n",
        "      <td> 1.009347</td>\n",
        "      <td> 1.008978</td>\n",
        "      <td> 0.953375</td>\n",
        "      <td> 0.961568</td>\n",
        "      <td> 0.989148</td>\n",
        "      <td> 0.964587</td>\n",
        "      <td> 1.048671</td>\n",
        "      <td> 0.994860</td>\n",
        "      <td> 1.098979</td>\n",
        "    </tr>\n",
        "    <tr>\n",
        "      <th>1990-02-01</th>\n",
        "      <td> 0</td>\n",
        "      <td> 49.1</td>\n",
        "      <td> 53.2</td>\n",
        "      <td> 60.1</td>\n",
        "      <td> 112243</td>\n",
        "      <td> 99006</td>\n",
        "      <td> 99006</td>\n",
        "      <td> 8662</td>\n",
        "      <td> 677.3</td>\n",
        "      <td> 10897</td>\n",
        "      <td>...</td>\n",
        "      <td> 0.999565</td>\n",
        "      <td> 0.993434</td>\n",
        "      <td> 0.995763</td>\n",
        "      <td> 0.956509</td>\n",
        "      <td> 0.993771</td>\n",
        "      <td> 1.028212</td>\n",
        "      <td> 0.996462</td>\n",
        "      <td> 1.083305</td>\n",
        "      <td> 1.039487</td>\n",
        "      <td> 1.060982</td>\n",
        "    </tr>\n",
        "    <tr>\n",
        "      <th>1990-03-01</th>\n",
        "      <td> 1</td>\n",
        "      <td> 49.9</td>\n",
        "      <td> 42.4</td>\n",
        "      <td> 50.4</td>\n",
        "      <td> 112295</td>\n",
        "      <td> 99032</td>\n",
        "      <td> 99032</td>\n",
        "      <td> 8721</td>\n",
        "      <td> 677.2</td>\n",
        "      <td> 10875</td>\n",
        "      <td>...</td>\n",
        "      <td> 0.997502</td>\n",
        "      <td> 0.997180</td>\n",
        "      <td> 1.000174</td>\n",
        "      <td> 0.950476</td>\n",
        "      <td> 0.956328</td>\n",
        "      <td> 0.977302</td>\n",
        "      <td> 0.964535</td>\n",
        "      <td> 1.035039</td>\n",
        "      <td> 1.098141</td>\n",
        "      <td> 0.981002</td>\n",
        "    </tr>\n",
        "  </tbody>\n",
        "</table>\n",
        "<p>5 rows \u00d7 642 columns</p>\n",
        "</div>"
       ],
       "metadata": {},
       "output_type": "pyout",
       "prompt_number": 690,
       "text": [
        "            GDP Forecast Increase  USCNFBUSQ  USED1IM.Q  USED1IP.Q  USEL20..O  \\\n",
        "1989-11-01                      0       46.8       52.9       60.7     111179   \n",
        "1989-12-01                      0       47.4       44.2       51.7     111184   \n",
        "1990-01-01                      1       47.2       46.0       56.9     112178   \n",
        "1990-02-01                      0       49.1       53.2       60.1     112243   \n",
        "1990-03-01                      1       49.9       42.4       50.4     112295   \n",
        "\n",
        "            USELFNG9O  USELFTW.O  USELNO..O  USEM21..O  USEMIMD.O    ...      \\\n",
        "1989-11-01      98189      98189       8530      671.9      10902    ...       \n",
        "1989-12-01      97921      97921       8656      672.1      10893    ...       \n",
        "1990-01-01      99150      99150       8767      675.9      10783    ...       \n",
        "1990-02-01      99006      99006       8662      677.3      10897    ...       \n",
        "1990-03-01      99032      99032       8721      677.2      10875    ...       \n",
        "\n",
        "            USEM2361O-change-EWMA-change  USHK23..G-change-EWMA-change  \\\n",
        "1989-11-01                      1.000509                      1.004343   \n",
        "1989-12-01                      0.998662                      0.986969   \n",
        "1990-01-01                      1.001926                      1.009347   \n",
        "1990-02-01                      0.999565                      0.993434   \n",
        "1990-03-01                      0.997502                      0.997180   \n",
        "\n",
        "            USHK23..O-change-EWMA-change  USNAHB1E-change-EWMA-change  \\\n",
        "1989-11-01                      1.001550                     0.950820   \n",
        "1989-12-01                      0.991049                     0.982574   \n",
        "1990-01-01                      1.008978                     0.953375   \n",
        "1990-02-01                      0.995763                     0.956509   \n",
        "1990-03-01                      1.000174                     0.950476   \n",
        "\n",
        "            USNAHB1P-change-EWMA-change  USNAHBBT-change-EWMA-change  \\\n",
        "1989-11-01                     0.952941                     1.000000   \n",
        "1989-12-01                     0.965154                     0.910384   \n",
        "1990-01-01                     0.961568                     0.989148   \n",
        "1990-02-01                     0.993771                     1.028212   \n",
        "1990-03-01                     0.956328                     0.977302   \n",
        "\n",
        "            USNAHBMI-change-EWMA-change  USTCBHEP-change-EWMA-change  \\\n",
        "1989-11-01                     0.975000                     0.945455   \n",
        "1989-12-01                     0.955950                     1.018660   \n",
        "1990-01-01                     0.964587                     1.048671   \n",
        "1990-02-01                     0.996462                     1.083305   \n",
        "1990-03-01                     0.964535                     1.035039   \n",
        "\n",
        "            USTCBHEW-change-EWMA-change  USTCBHEX-change-EWMA-change  \n",
        "1989-11-01                     1.060000                     1.042857  \n",
        "1989-12-01                     0.902392                     1.085714  \n",
        "1990-01-01                     0.994860                     1.098979  \n",
        "1990-02-01                     1.039487                     1.060982  \n",
        "1990-03-01                     1.098141                     0.981002  \n",
        "\n",
        "[5 rows x 642 columns]"
       ]
      }
     ],
     "prompt_number": 690
    },
    {
     "cell_type": "code",
     "collapsed": false,
     "input": [
      "# select subset of rows for testing and model verification\n",
      "import math\n",
      "sample_count = int(math.floor(len(master_dir_change)*0.20))\n",
      "test_set = master_dir_change.ix[-sample_count:]\n",
      "train_set = master_dir_change.ix[:-sample_count-1]\n",
      "\n",
      "# prepare for building time series features\n",
      "cols = master_dir_change.columns\n",
      "y_col = cols[0]\n",
      "X_cols = cols[1:]\n",
      "ys = train_set[y_col].values\n",
      "Xs = train_set[X_cols].values"
     ],
     "language": "python",
     "metadata": {},
     "outputs": [],
     "prompt_number": 769
    },
    {
     "cell_type": "code",
     "collapsed": false,
     "input": [
      "from sklearn.linear_model import LogisticRegression\n",
      "# implement simple grid search to find best hyper-parameters\n",
      "Cs = np.array([.01, .1, 1, 10,])\n",
      "Dims = np.array([1, 10, 100, 200, None])\n",
      "for c in Cs:\n",
      "    for d in Dims:\n",
      "        print \"C: %s, Dimensions: %s\" % (c, d)\n",
      "        model = Model(Xs, ys, LogisticRegression(C=c), components=d)\n",
      "        scores = model.iter_cross_val(classification=True)\n",
      "        print \"accuracy score: %s, log_loss: %s\" % (scores['accuracy_score'] ,scores['log_loss'])\n",
      "        print \"\""
     ],
     "language": "python",
     "metadata": {},
     "outputs": [
      {
       "output_type": "stream",
       "stream": "stdout",
       "text": [
        "C: 0.01, Dimensions: 1\n",
        "accuracy score: 0.40 (+/- 0.16), log_loss: 0.70 (+/- 0.01)"
       ]
      },
      {
       "output_type": "stream",
       "stream": "stdout",
       "text": [
        "\n",
        "\n",
        "C: 0.01, Dimensions: 10\n",
        "accuracy score: 0.68 (+/- 0.16), log_loss: 0.61 (+/- 0.13)"
       ]
      },
      {
       "output_type": "stream",
       "stream": "stdout",
       "text": [
        "\n",
        "\n",
        "C: 0.01, Dimensions: 100\n",
        "accuracy score: 0.68 (+/- 0.17), log_loss: 0.62 (+/- 0.05)"
       ]
      },
      {
       "output_type": "stream",
       "stream": "stdout",
       "text": [
        "\n",
        "\n",
        "C: 0.01, Dimensions: 200\n",
        "accuracy score: 0.66 (+/- 0.18), log_loss: 0.61 (+/- 0.06)"
       ]
      },
      {
       "output_type": "stream",
       "stream": "stdout",
       "text": [
        "\n",
        "\n",
        "C: 0.01, Dimensions: None\n",
        "accuracy score: 0.66 (+/- 0.18), log_loss: 0.61 (+/- 0.06)"
       ]
      },
      {
       "output_type": "stream",
       "stream": "stdout",
       "text": [
        "\n",
        "\n",
        "C: 0.1, Dimensions: 1\n",
        "accuracy score: 0.36 (+/- 0.17), log_loss: 0.70 (+/- 0.02)\n",
        "\n",
        "C: 0.1, Dimensions: 10\n",
        "accuracy score: 0.64 (+/- 0.19), log_loss: 0.76 (+/- 0.37)"
       ]
      },
      {
       "output_type": "stream",
       "stream": "stdout",
       "text": [
        "\n",
        "\n",
        "C: 0.1, Dimensions: 100\n",
        "accuracy score: 0.62 (+/- 0.07), log_loss: 0.88 (+/- 0.24)"
       ]
      },
      {
       "output_type": "stream",
       "stream": "stdout",
       "text": [
        "\n",
        "\n",
        "C: 0.1, Dimensions: 200\n",
        "accuracy score: 0.64 (+/- 0.14), log_loss: 0.81 (+/- 0.15)"
       ]
      },
      {
       "output_type": "stream",
       "stream": "stdout",
       "text": [
        "\n",
        "\n",
        "C: 0.1, Dimensions: None\n",
        "accuracy score: 0.64 (+/- 0.14), log_loss: 0.81 (+/- 0.15)"
       ]
      },
      {
       "output_type": "stream",
       "stream": "stdout",
       "text": [
        "\n",
        "\n",
        "C: 1.0, Dimensions: 1\n",
        "accuracy score: 0.37 (+/- 0.17), log_loss: 0.71 (+/- 0.02)\n",
        "\n",
        "C: 1.0, Dimensions: 10\n",
        "accuracy score: 0.62 (+/- 0.17), log_loss: 1.03 (+/- 0.97)"
       ]
      },
      {
       "output_type": "stream",
       "stream": "stdout",
       "text": [
        "\n",
        "\n",
        "C: 1.0, Dimensions: 100\n",
        "accuracy score: 0.64 (+/- 0.14), log_loss: 1.55 (+/- 0.72)"
       ]
      },
      {
       "output_type": "stream",
       "stream": "stdout",
       "text": [
        "\n",
        "\n",
        "C: 1.0, Dimensions: 200\n",
        "accuracy score: 0.65 (+/- 0.13), log_loss: 1.22 (+/- 0.35)"
       ]
      },
      {
       "output_type": "stream",
       "stream": "stdout",
       "text": [
        "\n",
        "\n",
        "C: 1.0, Dimensions: None\n",
        "accuracy score: 0.64 (+/- 0.14), log_loss: 1.21 (+/- 0.36)"
       ]
      },
      {
       "output_type": "stream",
       "stream": "stdout",
       "text": [
        "\n",
        "\n",
        "C: 10.0, Dimensions: 1\n",
        "accuracy score: 0.38 (+/- 0.17), log_loss: 0.71 (+/- 0.02)"
       ]
      },
      {
       "output_type": "stream",
       "stream": "stdout",
       "text": [
        "\n",
        "\n",
        "C: 10.0, Dimensions: 10\n",
        "accuracy score: 0.61 (+/- 0.15), log_loss: 1.18 (+/- 1.19)"
       ]
      },
      {
       "output_type": "stream",
       "stream": "stdout",
       "text": [
        "\n",
        "\n",
        "C: 10.0, Dimensions: 100\n",
        "accuracy score: 0.65 (+/- 0.20), log_loss: 2.45 (+/- 1.52)"
       ]
      },
      {
       "output_type": "stream",
       "stream": "stdout",
       "text": [
        "\n",
        "\n",
        "C: 10.0, Dimensions: 200\n",
        "accuracy score: 0.65 (+/- 0.11), log_loss: 1.72 (+/- 0.60)"
       ]
      },
      {
       "output_type": "stream",
       "stream": "stdout",
       "text": [
        "\n",
        "\n",
        "C: 10.0, Dimensions: None\n",
        "accuracy score: 0.64 (+/- 0.09), log_loss: 1.72 (+/- 0.61)"
       ]
      },
      {
       "output_type": "stream",
       "stream": "stdout",
       "text": [
        "\n",
        "\n"
       ]
      }
     ],
     "prompt_number": 770
    },
    {
     "cell_type": "markdown",
     "metadata": {},
     "source": [
      "Using a logistic regression classifier, the model can correctly predict whether GDP forecasts will increase or decrease in the next period 2/3 of the time."
     ]
    },
    {
     "cell_type": "code",
     "collapsed": false,
     "input": [
      "# test fitted model on new data\n",
      "model = Model(Xs, ys, LogisticRegression(C=1))\n",
      "model.model.fit(model.Xs, ys)\n",
      "test_classifier(model, test_set, y_col, X_cols)"
     ],
     "language": "python",
     "metadata": {},
     "outputs": [
      {
       "output_type": "stream",
       "stream": "stdout",
       "text": [
        "Accuracy: 0.644068\n",
        "Log Loss: 3.192987\n"
       ]
      }
     ],
     "prompt_number": 779
    }
   ],
   "metadata": {}
  }
 ]
}