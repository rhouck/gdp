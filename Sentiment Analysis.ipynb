{
 "metadata": {
  "name": "",
  "signature": "sha256:90f5bc1a172455e4e7a1544e389c7d431cf52980227f06a7a79a5476c602cd85"
 },
 "nbformat": 3,
 "nbformat_minor": 0,
 "worksheets": [
  {
   "cells": [
    {
     "cell_type": "markdown",
     "metadata": {},
     "source": [
      "1. Train model on classified twitter data"
     ]
    },
    {
     "cell_type": "code",
     "collapsed": false,
     "input": [
      "import pprint\n",
      "import csv\n",
      "import nltk.classify.util\n",
      "from nltk.classify import NaiveBayesClassifier\n",
      "\n",
      "def word_feats(words):\n",
      "    return dict([(word, True) for word in words])\n",
      "\n",
      "train = 'source/twitter_train_small.csv'\n",
      "reader = csv.reader( open( train, 'r' ))#, delimiter = '\\t' )\n",
      "negfeats = []\n",
      "posfeats= []\n",
      "for t, r in enumerate(reader):\n",
      "\t\n",
      "\tif t%100000 == 0 and t > 0:\n",
      "\t\tprint \"parsing row: %s\" % (t)\n",
      "\t\n",
      "\t# select data source\n",
      "\tif len(r) == 6:\n",
      "\t\tpprint.pprint(r)\n",
      "\t\tsentiment = r[0]\n",
      "\t\ttext = r[5]\n",
      "\telif len(r) == 4:\n",
      "\t\tsentiment = r[1]\n",
      "\t\ttext = r[3]\n",
      "\telse:\n",
      "\t\tcontinue\n",
      "\n",
      "\t\n",
      "\ttext = text.lower()\n",
      "\t# split text string into chunks and remove trailing punctuation\n",
      "\ttext_split = [i[:-1] if i[-1] in ['.', ',', '?', '!'] else i for i in text.split()]\n",
      "\tfeats = word_feats(text_split)\n",
      "\tif int(sentiment) == 0:\n",
      "\t\tnegfeats.append( (feats, 'neg') )\n",
      "\telse:\n",
      "\t\tposfeats.append( (feats, 'pos') )\n",
      "\n",
      "negcutoff = len(negfeats)*4/5\n",
      "poscutoff = len(posfeats)*4/5\n",
      "\n",
      "print \"combining train and test sets\"\n",
      "trainfeats = negfeats[:negcutoff] + posfeats[:poscutoff]\n",
      "testfeats = negfeats[negcutoff:] + posfeats[poscutoff:]\n",
      "print 'train on %d instances, test on %d instances' % (len(trainfeats), len(testfeats))\n",
      "classifier = NaiveBayesClassifier.train(trainfeats)\n",
      "print 'accuracy:', nltk.classify.util.accuracy(classifier, testfeats)\n",
      "classifier.show_most_informative_features()"
     ],
     "language": "python",
     "metadata": {},
     "outputs": [
      {
       "output_type": "stream",
       "stream": "stdout",
       "text": [
        "parsing row: 100000\n",
        "parsing row: 200000"
       ]
      },
      {
       "output_type": "stream",
       "stream": "stdout",
       "text": [
        "\n",
        "parsing row: 300000"
       ]
      },
      {
       "output_type": "stream",
       "stream": "stdout",
       "text": [
        "\n",
        "parsing row: 400000"
       ]
      },
      {
       "output_type": "stream",
       "stream": "stdout",
       "text": [
        "\n",
        "combining train and test sets"
       ]
      },
      {
       "output_type": "stream",
       "stream": "stdout",
       "text": [
        "\n",
        "train on 399822 instances, test on 99957 instances\n",
        "accuracy:"
       ]
      },
      {
       "output_type": "stream",
       "stream": "stdout",
       "text": [
        " 0.736606740899\n",
        "Most Informative Features\n",
        "               toothache = True              neg : pos    =     37.8 : 1.0"
       ]
      },
      {
       "output_type": "stream",
       "stream": "stdout",
       "text": [
        "\n",
        "                 *cries* = True              neg : pos    =     35.1 : 1.0\n",
        "               carradine = True              neg : pos    =     35.1 : 1.0\n",
        "                   ugh.. = True              neg : pos    =     31.8 : 1.0\n",
        "                 honored = True              pos : neg    =     30.9 : 1.0\n",
        "                  farrah = True              neg : pos    =     29.7 : 1.0\n",
        "                 mcmahon = True              neg : pos    =     29.1 : 1.0\n",
        "                 blister = True              neg : pos    =     27.1 : 1.0\n",
        "                  booooo = True              neg : pos    =     26.3 : 1.0\n",
        "         congratulations = True              pos : neg    =     24.2 : 1.0\n"
       ]
      }
     ],
     "prompt_number": 1
    },
    {
     "cell_type": "markdown",
     "metadata": {},
     "source": [
      "2 Get company specific twitter data and label sentiments for each tweet."
     ]
    },
    {
     "cell_type": "markdown",
     "metadata": {},
     "source": [
      "3 Chart rolling sentiment change with stock returns and s - scores"
     ]
    },
    {
     "cell_type": "code",
     "collapsed": false,
     "input": [],
     "language": "python",
     "metadata": {},
     "outputs": []
    }
   ],
   "metadata": {}
  }
 ]
}