{
 "metadata": {
  "name": "",
  "signature": "sha256:b71967ab4c3066e7a620e2bb8d53ba4d4df5479cb2fca4aa101381d900c3e51d"
 },
 "nbformat": 3,
 "nbformat_minor": 0,
 "worksheets": [
  {
   "cells": [
    {
     "cell_type": "code",
     "collapsed": false,
     "input": [
      "import pandas as pd\n",
      "import numpy as np\n",
      "import matplotlib.pyplot as plt"
     ],
     "language": "python",
     "metadata": {},
     "outputs": [],
     "prompt_number": 6
    },
    {
     "cell_type": "code",
     "collapsed": false,
     "input": [
      "s = pd.Series([1,3,5,np.nan, 6,8])\n",
      "s"
     ],
     "language": "python",
     "metadata": {},
     "outputs": [
      {
       "metadata": {},
       "output_type": "pyout",
       "prompt_number": 19,
       "text": [
        "0     1\n",
        "1     3\n",
        "2     5\n",
        "3   NaN\n",
        "4     6\n",
        "5     8\n",
        "dtype: float64"
       ]
      }
     ],
     "prompt_number": 19
    },
    {
     "cell_type": "code",
     "collapsed": false,
     "input": [
      "dates = pd.date_range('20130101', periods=6)\n",
      "dates"
     ],
     "language": "python",
     "metadata": {},
     "outputs": [
      {
       "metadata": {},
       "output_type": "pyout",
       "prompt_number": 18,
       "text": [
        "<class 'pandas.tseries.index.DatetimeIndex'>\n",
        "[2013-01-01, ..., 2013-01-06]\n",
        "Length: 6, Freq: D, Timezone: None"
       ]
      }
     ],
     "prompt_number": 18
    },
    {
     "cell_type": "code",
     "collapsed": false,
     "input": [
      "df = pd.DataFrame(np.random.randn(6,4),index=dates,columns=list('ABCD'))"
     ],
     "language": "python",
     "metadata": {},
     "outputs": [],
     "prompt_number": 15
    },
    {
     "cell_type": "code",
     "collapsed": false,
     "input": [
      "df"
     ],
     "language": "python",
     "metadata": {},
     "outputs": [
      {
       "html": [
        "<div style=\"max-height:1000px;max-width:1500px;overflow:auto;\">\n",
        "<table border=\"1\" class=\"dataframe\">\n",
        "  <thead>\n",
        "    <tr style=\"text-align: right;\">\n",
        "      <th></th>\n",
        "      <th>A</th>\n",
        "      <th>B</th>\n",
        "      <th>C</th>\n",
        "      <th>D</th>\n",
        "    </tr>\n",
        "  </thead>\n",
        "  <tbody>\n",
        "    <tr>\n",
        "      <th>2013-01-01</th>\n",
        "      <td> 0.119109</td>\n",
        "      <td>-1.420890</td>\n",
        "      <td> 1.375110</td>\n",
        "      <td> 0.371187</td>\n",
        "    </tr>\n",
        "    <tr>\n",
        "      <th>2013-01-02</th>\n",
        "      <td> 0.000503</td>\n",
        "      <td>-0.126191</td>\n",
        "      <td>-0.975224</td>\n",
        "      <td>-0.261938</td>\n",
        "    </tr>\n",
        "    <tr>\n",
        "      <th>2013-01-03</th>\n",
        "      <td>-0.318299</td>\n",
        "      <td> 0.228468</td>\n",
        "      <td>-0.361901</td>\n",
        "      <td> 2.598072</td>\n",
        "    </tr>\n",
        "    <tr>\n",
        "      <th>2013-01-04</th>\n",
        "      <td> 0.458556</td>\n",
        "      <td> 1.077683</td>\n",
        "      <td> 1.005845</td>\n",
        "      <td> 0.239093</td>\n",
        "    </tr>\n",
        "    <tr>\n",
        "      <th>2013-01-05</th>\n",
        "      <td>-0.761733</td>\n",
        "      <td> 0.063840</td>\n",
        "      <td>-1.147959</td>\n",
        "      <td> 0.539772</td>\n",
        "    </tr>\n",
        "    <tr>\n",
        "      <th>2013-01-06</th>\n",
        "      <td> 1.036392</td>\n",
        "      <td> 1.797672</td>\n",
        "      <td>-0.156610</td>\n",
        "      <td> 1.759727</td>\n",
        "    </tr>\n",
        "  </tbody>\n",
        "</table>\n",
        "</div>"
       ],
       "metadata": {},
       "output_type": "pyout",
       "prompt_number": 17,
       "text": [
        "                   A         B         C         D\n",
        "2013-01-01  0.119109 -1.420890  1.375110  0.371187\n",
        "2013-01-02  0.000503 -0.126191 -0.975224 -0.261938\n",
        "2013-01-03 -0.318299  0.228468 -0.361901  2.598072\n",
        "2013-01-04  0.458556  1.077683  1.005845  0.239093\n",
        "2013-01-05 -0.761733  0.063840 -1.147959  0.539772\n",
        "2013-01-06  1.036392  1.797672 -0.156610  1.759727"
       ]
      }
     ],
     "prompt_number": 17
    },
    {
     "cell_type": "code",
     "collapsed": false,
     "input": [
      "df2 = pd.DataFrame({'A': 1,\n",
      "                    'B': pd.Timestamp(20130101),\n",
      "                    'C': pd.Series(1, index=list(range(4)), dtype='float32'),\n",
      "                    'D': np.array([3]*4, dtype='int32'),\n",
      "                    'E': 'foo',\n",
      "                    })\n",
      "df2"
     ],
     "language": "python",
     "metadata": {},
     "outputs": [
      {
       "html": [
        "<div style=\"max-height:1000px;max-width:1500px;overflow:auto;\">\n",
        "<table border=\"1\" class=\"dataframe\">\n",
        "  <thead>\n",
        "    <tr style=\"text-align: right;\">\n",
        "      <th></th>\n",
        "      <th>A</th>\n",
        "      <th>B</th>\n",
        "      <th>C</th>\n",
        "      <th>D</th>\n",
        "      <th>E</th>\n",
        "    </tr>\n",
        "  </thead>\n",
        "  <tbody>\n",
        "    <tr>\n",
        "      <th>0</th>\n",
        "      <td> 1</td>\n",
        "      <td>1970-01-01 00:00:00.020130101</td>\n",
        "      <td> 1</td>\n",
        "      <td> 3</td>\n",
        "      <td> foo</td>\n",
        "    </tr>\n",
        "    <tr>\n",
        "      <th>1</th>\n",
        "      <td> 1</td>\n",
        "      <td>1970-01-01 00:00:00.020130101</td>\n",
        "      <td> 1</td>\n",
        "      <td> 3</td>\n",
        "      <td> foo</td>\n",
        "    </tr>\n",
        "    <tr>\n",
        "      <th>2</th>\n",
        "      <td> 1</td>\n",
        "      <td>1970-01-01 00:00:00.020130101</td>\n",
        "      <td> 1</td>\n",
        "      <td> 3</td>\n",
        "      <td> foo</td>\n",
        "    </tr>\n",
        "    <tr>\n",
        "      <th>3</th>\n",
        "      <td> 1</td>\n",
        "      <td>1970-01-01 00:00:00.020130101</td>\n",
        "      <td> 1</td>\n",
        "      <td> 3</td>\n",
        "      <td> foo</td>\n",
        "    </tr>\n",
        "  </tbody>\n",
        "</table>\n",
        "</div>"
       ],
       "metadata": {},
       "output_type": "pyout",
       "prompt_number": 26,
       "text": [
        "   A                             B  C  D    E\n",
        "0  1 1970-01-01 00:00:00.020130101  1  3  foo\n",
        "1  1 1970-01-01 00:00:00.020130101  1  3  foo\n",
        "2  1 1970-01-01 00:00:00.020130101  1  3  foo\n",
        "3  1 1970-01-01 00:00:00.020130101  1  3  foo"
       ]
      }
     ],
     "prompt_number": 26
    },
    {
     "cell_type": "code",
     "collapsed": false,
     "input": [
      "df2.dtypes"
     ],
     "language": "python",
     "metadata": {},
     "outputs": [
      {
       "metadata": {},
       "output_type": "pyout",
       "prompt_number": 25,
       "text": [
        "A             int64\n",
        "B    datetime64[ns]\n",
        "C           float32\n",
        "D             int32\n",
        "E            object\n",
        "dtype: object"
       ]
      }
     ],
     "prompt_number": 25
    },
    {
     "cell_type": "code",
     "collapsed": false,
     "input": [
      "df.head()"
     ],
     "language": "python",
     "metadata": {},
     "outputs": [
      {
       "html": [
        "<div style=\"max-height:1000px;max-width:1500px;overflow:auto;\">\n",
        "<table border=\"1\" class=\"dataframe\">\n",
        "  <thead>\n",
        "    <tr style=\"text-align: right;\">\n",
        "      <th></th>\n",
        "      <th>A</th>\n",
        "      <th>B</th>\n",
        "      <th>C</th>\n",
        "      <th>D</th>\n",
        "    </tr>\n",
        "  </thead>\n",
        "  <tbody>\n",
        "    <tr>\n",
        "      <th>2013-01-01</th>\n",
        "      <td> 0.119109</td>\n",
        "      <td>-1.420890</td>\n",
        "      <td> 1.375110</td>\n",
        "      <td> 0.371187</td>\n",
        "    </tr>\n",
        "    <tr>\n",
        "      <th>2013-01-02</th>\n",
        "      <td> 0.000503</td>\n",
        "      <td>-0.126191</td>\n",
        "      <td>-0.975224</td>\n",
        "      <td>-0.261938</td>\n",
        "    </tr>\n",
        "    <tr>\n",
        "      <th>2013-01-03</th>\n",
        "      <td>-0.318299</td>\n",
        "      <td> 0.228468</td>\n",
        "      <td>-0.361901</td>\n",
        "      <td> 2.598072</td>\n",
        "    </tr>\n",
        "    <tr>\n",
        "      <th>2013-01-04</th>\n",
        "      <td> 0.458556</td>\n",
        "      <td> 1.077683</td>\n",
        "      <td> 1.005845</td>\n",
        "      <td> 0.239093</td>\n",
        "    </tr>\n",
        "    <tr>\n",
        "      <th>2013-01-05</th>\n",
        "      <td>-0.761733</td>\n",
        "      <td> 0.063840</td>\n",
        "      <td>-1.147959</td>\n",
        "      <td> 0.539772</td>\n",
        "    </tr>\n",
        "  </tbody>\n",
        "</table>\n",
        "</div>"
       ],
       "metadata": {},
       "output_type": "pyout",
       "prompt_number": 29,
       "text": [
        "                   A         B         C         D\n",
        "2013-01-01  0.119109 -1.420890  1.375110  0.371187\n",
        "2013-01-02  0.000503 -0.126191 -0.975224 -0.261938\n",
        "2013-01-03 -0.318299  0.228468 -0.361901  2.598072\n",
        "2013-01-04  0.458556  1.077683  1.005845  0.239093\n",
        "2013-01-05 -0.761733  0.063840 -1.147959  0.539772"
       ]
      }
     ],
     "prompt_number": 29
    },
    {
     "cell_type": "code",
     "collapsed": false,
     "input": [
      "df.tail(3)"
     ],
     "language": "python",
     "metadata": {},
     "outputs": [
      {
       "html": [
        "<div style=\"max-height:1000px;max-width:1500px;overflow:auto;\">\n",
        "<table border=\"1\" class=\"dataframe\">\n",
        "  <thead>\n",
        "    <tr style=\"text-align: right;\">\n",
        "      <th></th>\n",
        "      <th>A</th>\n",
        "      <th>B</th>\n",
        "      <th>C</th>\n",
        "      <th>D</th>\n",
        "    </tr>\n",
        "  </thead>\n",
        "  <tbody>\n",
        "    <tr>\n",
        "      <th>2013-01-04</th>\n",
        "      <td> 0.458556</td>\n",
        "      <td> 1.077683</td>\n",
        "      <td> 1.005845</td>\n",
        "      <td> 0.239093</td>\n",
        "    </tr>\n",
        "    <tr>\n",
        "      <th>2013-01-05</th>\n",
        "      <td>-0.761733</td>\n",
        "      <td> 0.063840</td>\n",
        "      <td>-1.147959</td>\n",
        "      <td> 0.539772</td>\n",
        "    </tr>\n",
        "    <tr>\n",
        "      <th>2013-01-06</th>\n",
        "      <td> 1.036392</td>\n",
        "      <td> 1.797672</td>\n",
        "      <td>-0.156610</td>\n",
        "      <td> 1.759727</td>\n",
        "    </tr>\n",
        "  </tbody>\n",
        "</table>\n",
        "</div>"
       ],
       "metadata": {},
       "output_type": "pyout",
       "prompt_number": 30,
       "text": [
        "                   A         B         C         D\n",
        "2013-01-04  0.458556  1.077683  1.005845  0.239093\n",
        "2013-01-05 -0.761733  0.063840 -1.147959  0.539772\n",
        "2013-01-06  1.036392  1.797672 -0.156610  1.759727"
       ]
      }
     ],
     "prompt_number": 30
    },
    {
     "cell_type": "code",
     "collapsed": false,
     "input": [
      "df.index"
     ],
     "language": "python",
     "metadata": {},
     "outputs": [
      {
       "metadata": {},
       "output_type": "pyout",
       "prompt_number": 31,
       "text": [
        "<class 'pandas.tseries.index.DatetimeIndex'>\n",
        "[2013-01-01, ..., 2013-01-06]\n",
        "Length: 6, Freq: D, Timezone: None"
       ]
      }
     ],
     "prompt_number": 31
    },
    {
     "cell_type": "code",
     "collapsed": false,
     "input": [
      "df.describe()"
     ],
     "language": "python",
     "metadata": {},
     "outputs": [
      {
       "html": [
        "<div style=\"max-height:1000px;max-width:1500px;overflow:auto;\">\n",
        "<table border=\"1\" class=\"dataframe\">\n",
        "  <thead>\n",
        "    <tr style=\"text-align: right;\">\n",
        "      <th></th>\n",
        "      <th>A</th>\n",
        "      <th>B</th>\n",
        "      <th>C</th>\n",
        "      <th>D</th>\n",
        "    </tr>\n",
        "  </thead>\n",
        "  <tbody>\n",
        "    <tr>\n",
        "      <th>count</th>\n",
        "      <td> 6.000000</td>\n",
        "      <td> 6.000000</td>\n",
        "      <td> 6.000000</td>\n",
        "      <td> 6.000000</td>\n",
        "    </tr>\n",
        "    <tr>\n",
        "      <th>mean</th>\n",
        "      <td> 0.089088</td>\n",
        "      <td> 0.270097</td>\n",
        "      <td>-0.043457</td>\n",
        "      <td> 0.874319</td>\n",
        "    </tr>\n",
        "    <tr>\n",
        "      <th>std</th>\n",
        "      <td> 0.621691</td>\n",
        "      <td> 1.099676</td>\n",
        "      <td> 1.031086</td>\n",
        "      <td> 1.078418</td>\n",
        "    </tr>\n",
        "    <tr>\n",
        "      <th>min</th>\n",
        "      <td>-0.761733</td>\n",
        "      <td>-1.420890</td>\n",
        "      <td>-1.147959</td>\n",
        "      <td>-0.261938</td>\n",
        "    </tr>\n",
        "    <tr>\n",
        "      <th>25%</th>\n",
        "      <td>-0.238598</td>\n",
        "      <td>-0.078683</td>\n",
        "      <td>-0.821893</td>\n",
        "      <td> 0.272117</td>\n",
        "    </tr>\n",
        "    <tr>\n",
        "      <th>50%</th>\n",
        "      <td> 0.059806</td>\n",
        "      <td> 0.146154</td>\n",
        "      <td>-0.259255</td>\n",
        "      <td> 0.455480</td>\n",
        "    </tr>\n",
        "    <tr>\n",
        "      <th>75%</th>\n",
        "      <td> 0.373694</td>\n",
        "      <td> 0.865379</td>\n",
        "      <td> 0.715232</td>\n",
        "      <td> 1.454739</td>\n",
        "    </tr>\n",
        "    <tr>\n",
        "      <th>max</th>\n",
        "      <td> 1.036392</td>\n",
        "      <td> 1.797672</td>\n",
        "      <td> 1.375110</td>\n",
        "      <td> 2.598072</td>\n",
        "    </tr>\n",
        "  </tbody>\n",
        "</table>\n",
        "</div>"
       ],
       "metadata": {},
       "output_type": "pyout",
       "prompt_number": 32,
       "text": [
        "              A         B         C         D\n",
        "count  6.000000  6.000000  6.000000  6.000000\n",
        "mean   0.089088  0.270097 -0.043457  0.874319\n",
        "std    0.621691  1.099676  1.031086  1.078418\n",
        "min   -0.761733 -1.420890 -1.147959 -0.261938\n",
        "25%   -0.238598 -0.078683 -0.821893  0.272117\n",
        "50%    0.059806  0.146154 -0.259255  0.455480\n",
        "75%    0.373694  0.865379  0.715232  1.454739\n",
        "max    1.036392  1.797672  1.375110  2.598072"
       ]
      }
     ],
     "prompt_number": 32
    },
    {
     "cell_type": "code",
     "collapsed": false,
     "input": [
      "    df['A']"
     ],
     "language": "python",
     "metadata": {},
     "outputs": [
      {
       "metadata": {},
       "output_type": "pyout",
       "prompt_number": 33,
       "text": [
        "2013-01-01    0.119109\n",
        "2013-01-02    0.000503\n",
        "2013-01-03   -0.318299\n",
        "2013-01-04    0.458556\n",
        "2013-01-05   -0.761733\n",
        "2013-01-06    1.036392\n",
        "Freq: D, Name: A, dtype: float64"
       ]
      }
     ],
     "prompt_number": 33
    },
    {
     "cell_type": "code",
     "collapsed": false,
     "input": [
      "df.index"
     ],
     "language": "python",
     "metadata": {},
     "outputs": [
      {
       "metadata": {},
       "output_type": "pyout",
       "prompt_number": 34,
       "text": [
        "<class 'pandas.tseries.index.DatetimeIndex'>\n",
        "[2013-01-01, ..., 2013-01-06]\n",
        "Length: 6, Freq: D, Timezone: None"
       ]
      }
     ],
     "prompt_number": 34
    },
    {
     "cell_type": "code",
     "collapsed": false,
     "input": [
      "df.loc['20130102',['A','B']]"
     ],
     "language": "python",
     "metadata": {},
     "outputs": [
      {
       "metadata": {},
       "output_type": "pyout",
       "prompt_number": 41,
       "text": [
        "A    0.000503\n",
        "B   -0.126191\n",
        "Name: 2013-01-02 00:00:00, dtype: float64"
       ]
      }
     ],
     "prompt_number": 41
    },
    {
     "cell_type": "code",
     "collapsed": false,
     "input": [
      "df.A"
     ],
     "language": "python",
     "metadata": {},
     "outputs": [
      {
       "metadata": {},
       "output_type": "pyout",
       "prompt_number": 42,
       "text": [
        "2013-01-01    0.119109\n",
        "2013-01-02    0.000503\n",
        "2013-01-03   -0.318299\n",
        "2013-01-04    0.458556\n",
        "2013-01-05   -0.761733\n",
        "2013-01-06    1.036392\n",
        "Freq: D, Name: A, dtype: float64"
       ]
      }
     ],
     "prompt_number": 42
    },
    {
     "cell_type": "code",
     "collapsed": false,
     "input": [
      "df3 = df.copy()\n",
      "df3['E']=['one', 'one','two','three','four','three']"
     ],
     "language": "python",
     "metadata": {},
     "outputs": [],
     "prompt_number": 45
    },
    {
     "cell_type": "code",
     "collapsed": false,
     "input": [
      "df3"
     ],
     "language": "python",
     "metadata": {},
     "outputs": [
      {
       "html": [
        "<div style=\"max-height:1000px;max-width:1500px;overflow:auto;\">\n",
        "<table border=\"1\" class=\"dataframe\">\n",
        "  <thead>\n",
        "    <tr style=\"text-align: right;\">\n",
        "      <th></th>\n",
        "      <th>A</th>\n",
        "      <th>B</th>\n",
        "      <th>C</th>\n",
        "      <th>D</th>\n",
        "      <th>E</th>\n",
        "    </tr>\n",
        "  </thead>\n",
        "  <tbody>\n",
        "    <tr>\n",
        "      <th>2013-01-01</th>\n",
        "      <td> 0.119109</td>\n",
        "      <td>-1.420890</td>\n",
        "      <td> 1.375110</td>\n",
        "      <td> 0.371187</td>\n",
        "      <td>   one</td>\n",
        "    </tr>\n",
        "    <tr>\n",
        "      <th>2013-01-02</th>\n",
        "      <td> 0.000503</td>\n",
        "      <td>-0.126191</td>\n",
        "      <td>-0.975224</td>\n",
        "      <td>-0.261938</td>\n",
        "      <td>   one</td>\n",
        "    </tr>\n",
        "    <tr>\n",
        "      <th>2013-01-03</th>\n",
        "      <td>-0.318299</td>\n",
        "      <td> 0.228468</td>\n",
        "      <td>-0.361901</td>\n",
        "      <td> 2.598072</td>\n",
        "      <td>   two</td>\n",
        "    </tr>\n",
        "    <tr>\n",
        "      <th>2013-01-04</th>\n",
        "      <td> 0.458556</td>\n",
        "      <td> 1.077683</td>\n",
        "      <td> 1.005845</td>\n",
        "      <td> 0.239093</td>\n",
        "      <td> three</td>\n",
        "    </tr>\n",
        "    <tr>\n",
        "      <th>2013-01-05</th>\n",
        "      <td>-0.761733</td>\n",
        "      <td> 0.063840</td>\n",
        "      <td>-1.147959</td>\n",
        "      <td> 0.539772</td>\n",
        "      <td>  four</td>\n",
        "    </tr>\n",
        "    <tr>\n",
        "      <th>2013-01-06</th>\n",
        "      <td> 1.036392</td>\n",
        "      <td> 1.797672</td>\n",
        "      <td>-0.156610</td>\n",
        "      <td> 1.759727</td>\n",
        "      <td> three</td>\n",
        "    </tr>\n",
        "  </tbody>\n",
        "</table>\n",
        "</div>"
       ],
       "metadata": {},
       "output_type": "pyout",
       "prompt_number": 46,
       "text": [
        "                   A         B         C         D      E\n",
        "2013-01-01  0.119109 -1.420890  1.375110  0.371187    one\n",
        "2013-01-02  0.000503 -0.126191 -0.975224 -0.261938    one\n",
        "2013-01-03 -0.318299  0.228468 -0.361901  2.598072    two\n",
        "2013-01-04  0.458556  1.077683  1.005845  0.239093  three\n",
        "2013-01-05 -0.761733  0.063840 -1.147959  0.539772   four\n",
        "2013-01-06  1.036392  1.797672 -0.156610  1.759727  three"
       ]
      }
     ],
     "prompt_number": 46
    },
    {
     "cell_type": "code",
     "collapsed": false,
     "input": [
      "df3[df3['E'].isin(['two','four'])]"
     ],
     "language": "python",
     "metadata": {},
     "outputs": [
      {
       "html": [
        "<div style=\"max-height:1000px;max-width:1500px;overflow:auto;\">\n",
        "<table border=\"1\" class=\"dataframe\">\n",
        "  <thead>\n",
        "    <tr style=\"text-align: right;\">\n",
        "      <th></th>\n",
        "      <th>A</th>\n",
        "      <th>B</th>\n",
        "      <th>C</th>\n",
        "      <th>D</th>\n",
        "      <th>E</th>\n",
        "    </tr>\n",
        "  </thead>\n",
        "  <tbody>\n",
        "    <tr>\n",
        "      <th>2013-01-03</th>\n",
        "      <td>-0.318299</td>\n",
        "      <td> 0.228468</td>\n",
        "      <td>-0.361901</td>\n",
        "      <td> 2.598072</td>\n",
        "      <td>  two</td>\n",
        "    </tr>\n",
        "    <tr>\n",
        "      <th>2013-01-05</th>\n",
        "      <td>-0.761733</td>\n",
        "      <td> 0.063840</td>\n",
        "      <td>-1.147959</td>\n",
        "      <td> 0.539772</td>\n",
        "      <td> four</td>\n",
        "    </tr>\n",
        "  </tbody>\n",
        "</table>\n",
        "</div>"
       ],
       "metadata": {},
       "output_type": "pyout",
       "prompt_number": 48,
       "text": [
        "                   A         B         C         D     E\n",
        "2013-01-03 -0.318299  0.228468 -0.361901  2.598072   two\n",
        "2013-01-05 -0.761733  0.063840 -1.147959  0.539772  four"
       ]
      }
     ],
     "prompt_number": 48
    },
    {
     "cell_type": "code",
     "collapsed": false,
     "input": [
      "s1 = pd.Series([1,2,3,4,5,6],index=pd.date_range('20130102',periods=6))\n",
      "df['F'] = s1\n",
      "df"
     ],
     "language": "python",
     "metadata": {},
     "outputs": [
      {
       "html": [
        "<div style=\"max-height:1000px;max-width:1500px;overflow:auto;\">\n",
        "<table border=\"1\" class=\"dataframe\">\n",
        "  <thead>\n",
        "    <tr style=\"text-align: right;\">\n",
        "      <th></th>\n",
        "      <th>A</th>\n",
        "      <th>B</th>\n",
        "      <th>C</th>\n",
        "      <th>D</th>\n",
        "      <th>F</th>\n",
        "    </tr>\n",
        "  </thead>\n",
        "  <tbody>\n",
        "    <tr>\n",
        "      <th>2013-01-01</th>\n",
        "      <td> 0.119109</td>\n",
        "      <td>-1.420890</td>\n",
        "      <td> 1.375110</td>\n",
        "      <td> 0.371187</td>\n",
        "      <td>NaN</td>\n",
        "    </tr>\n",
        "    <tr>\n",
        "      <th>2013-01-02</th>\n",
        "      <td> 0.000503</td>\n",
        "      <td>-0.126191</td>\n",
        "      <td>-0.975224</td>\n",
        "      <td>-0.261938</td>\n",
        "      <td>  1</td>\n",
        "    </tr>\n",
        "    <tr>\n",
        "      <th>2013-01-03</th>\n",
        "      <td>-0.318299</td>\n",
        "      <td> 0.228468</td>\n",
        "      <td>-0.361901</td>\n",
        "      <td> 2.598072</td>\n",
        "      <td>  2</td>\n",
        "    </tr>\n",
        "    <tr>\n",
        "      <th>2013-01-04</th>\n",
        "      <td> 0.458556</td>\n",
        "      <td> 1.077683</td>\n",
        "      <td> 1.005845</td>\n",
        "      <td> 0.239093</td>\n",
        "      <td>  3</td>\n",
        "    </tr>\n",
        "    <tr>\n",
        "      <th>2013-01-05</th>\n",
        "      <td>-0.761733</td>\n",
        "      <td> 0.063840</td>\n",
        "      <td>-1.147959</td>\n",
        "      <td> 0.539772</td>\n",
        "      <td>  4</td>\n",
        "    </tr>\n",
        "    <tr>\n",
        "      <th>2013-01-06</th>\n",
        "      <td> 1.036392</td>\n",
        "      <td> 1.797672</td>\n",
        "      <td>-0.156610</td>\n",
        "      <td> 1.759727</td>\n",
        "      <td>  5</td>\n",
        "    </tr>\n",
        "  </tbody>\n",
        "</table>\n",
        "</div>"
       ],
       "metadata": {},
       "output_type": "pyout",
       "prompt_number": 52,
       "text": [
        "                   A         B         C         D   F\n",
        "2013-01-01  0.119109 -1.420890  1.375110  0.371187 NaN\n",
        "2013-01-02  0.000503 -0.126191 -0.975224 -0.261938   1\n",
        "2013-01-03 -0.318299  0.228468 -0.361901  2.598072   2\n",
        "2013-01-04  0.458556  1.077683  1.005845  0.239093   3\n",
        "2013-01-05 -0.761733  0.063840 -1.147959  0.539772   4\n",
        "2013-01-06  1.036392  1.797672 -0.156610  1.759727   5"
       ]
      }
     ],
     "prompt_number": 52
    },
    {
     "cell_type": "code",
     "collapsed": false,
     "input": [
      "df3 = df.copy()"
     ],
     "language": "python",
     "metadata": {},
     "outputs": [],
     "prompt_number": 53
    },
    {
     "cell_type": "code",
     "collapsed": false,
     "input": [
      "df3[df3 > 0] = -df3"
     ],
     "language": "python",
     "metadata": {},
     "outputs": [],
     "prompt_number": 54
    },
    {
     "cell_type": "code",
     "collapsed": false,
     "input": [
      "df3"
     ],
     "language": "python",
     "metadata": {},
     "outputs": [
      {
       "html": [
        "<div style=\"max-height:1000px;max-width:1500px;overflow:auto;\">\n",
        "<table border=\"1\" class=\"dataframe\">\n",
        "  <thead>\n",
        "    <tr style=\"text-align: right;\">\n",
        "      <th></th>\n",
        "      <th>A</th>\n",
        "      <th>B</th>\n",
        "      <th>C</th>\n",
        "      <th>D</th>\n",
        "      <th>F</th>\n",
        "    </tr>\n",
        "  </thead>\n",
        "  <tbody>\n",
        "    <tr>\n",
        "      <th>2013-01-01</th>\n",
        "      <td>-0.119109</td>\n",
        "      <td>-1.420890</td>\n",
        "      <td>-1.375110</td>\n",
        "      <td>-0.371187</td>\n",
        "      <td>NaN</td>\n",
        "    </tr>\n",
        "    <tr>\n",
        "      <th>2013-01-02</th>\n",
        "      <td>-0.000503</td>\n",
        "      <td>-0.126191</td>\n",
        "      <td>-0.975224</td>\n",
        "      <td>-0.261938</td>\n",
        "      <td> -1</td>\n",
        "    </tr>\n",
        "    <tr>\n",
        "      <th>2013-01-03</th>\n",
        "      <td>-0.318299</td>\n",
        "      <td>-0.228468</td>\n",
        "      <td>-0.361901</td>\n",
        "      <td>-2.598072</td>\n",
        "      <td> -2</td>\n",
        "    </tr>\n",
        "    <tr>\n",
        "      <th>2013-01-04</th>\n",
        "      <td>-0.458556</td>\n",
        "      <td>-1.077683</td>\n",
        "      <td>-1.005845</td>\n",
        "      <td>-0.239093</td>\n",
        "      <td> -3</td>\n",
        "    </tr>\n",
        "    <tr>\n",
        "      <th>2013-01-05</th>\n",
        "      <td>-0.761733</td>\n",
        "      <td>-0.063840</td>\n",
        "      <td>-1.147959</td>\n",
        "      <td>-0.539772</td>\n",
        "      <td> -4</td>\n",
        "    </tr>\n",
        "    <tr>\n",
        "      <th>2013-01-06</th>\n",
        "      <td>-1.036392</td>\n",
        "      <td>-1.797672</td>\n",
        "      <td>-0.156610</td>\n",
        "      <td>-1.759727</td>\n",
        "      <td> -5</td>\n",
        "    </tr>\n",
        "  </tbody>\n",
        "</table>\n",
        "</div>"
       ],
       "metadata": {},
       "output_type": "pyout",
       "prompt_number": 55,
       "text": [
        "                   A         B         C         D   F\n",
        "2013-01-01 -0.119109 -1.420890 -1.375110 -0.371187 NaN\n",
        "2013-01-02 -0.000503 -0.126191 -0.975224 -0.261938  -1\n",
        "2013-01-03 -0.318299 -0.228468 -0.361901 -2.598072  -2\n",
        "2013-01-04 -0.458556 -1.077683 -1.005845 -0.239093  -3\n",
        "2013-01-05 -0.761733 -0.063840 -1.147959 -0.539772  -4\n",
        "2013-01-06 -1.036392 -1.797672 -0.156610 -1.759727  -5"
       ]
      }
     ],
     "prompt_number": 55
    },
    {
     "cell_type": "code",
     "collapsed": false,
     "input": [
      "df"
     ],
     "language": "python",
     "metadata": {},
     "outputs": [
      {
       "html": [
        "<div style=\"max-height:1000px;max-width:1500px;overflow:auto;\">\n",
        "<table border=\"1\" class=\"dataframe\">\n",
        "  <thead>\n",
        "    <tr style=\"text-align: right;\">\n",
        "      <th></th>\n",
        "      <th>A</th>\n",
        "      <th>B</th>\n",
        "      <th>C</th>\n",
        "      <th>D</th>\n",
        "      <th>F</th>\n",
        "    </tr>\n",
        "  </thead>\n",
        "  <tbody>\n",
        "    <tr>\n",
        "      <th>2013-01-01</th>\n",
        "      <td> 0.119109</td>\n",
        "      <td>-1.420890</td>\n",
        "      <td> 1.375110</td>\n",
        "      <td> 0.371187</td>\n",
        "      <td>NaN</td>\n",
        "    </tr>\n",
        "    <tr>\n",
        "      <th>2013-01-02</th>\n",
        "      <td> 0.000503</td>\n",
        "      <td>-0.126191</td>\n",
        "      <td>-0.975224</td>\n",
        "      <td>-0.261938</td>\n",
        "      <td>  1</td>\n",
        "    </tr>\n",
        "    <tr>\n",
        "      <th>2013-01-03</th>\n",
        "      <td>-0.318299</td>\n",
        "      <td> 0.228468</td>\n",
        "      <td>-0.361901</td>\n",
        "      <td> 2.598072</td>\n",
        "      <td>  2</td>\n",
        "    </tr>\n",
        "    <tr>\n",
        "      <th>2013-01-04</th>\n",
        "      <td> 0.458556</td>\n",
        "      <td> 1.077683</td>\n",
        "      <td> 1.005845</td>\n",
        "      <td> 0.239093</td>\n",
        "      <td>  3</td>\n",
        "    </tr>\n",
        "    <tr>\n",
        "      <th>2013-01-05</th>\n",
        "      <td>-0.761733</td>\n",
        "      <td> 0.063840</td>\n",
        "      <td>-1.147959</td>\n",
        "      <td> 0.539772</td>\n",
        "      <td>  4</td>\n",
        "    </tr>\n",
        "    <tr>\n",
        "      <th>2013-01-06</th>\n",
        "      <td> 1.036392</td>\n",
        "      <td> 1.797672</td>\n",
        "      <td>-0.156610</td>\n",
        "      <td> 1.759727</td>\n",
        "      <td>  5</td>\n",
        "    </tr>\n",
        "  </tbody>\n",
        "</table>\n",
        "</div>"
       ],
       "metadata": {},
       "output_type": "pyout",
       "prompt_number": 56,
       "text": [
        "                   A         B         C         D   F\n",
        "2013-01-01  0.119109 -1.420890  1.375110  0.371187 NaN\n",
        "2013-01-02  0.000503 -0.126191 -0.975224 -0.261938   1\n",
        "2013-01-03 -0.318299  0.228468 -0.361901  2.598072   2\n",
        "2013-01-04  0.458556  1.077683  1.005845  0.239093   3\n",
        "2013-01-05 -0.761733  0.063840 -1.147959  0.539772   4\n",
        "2013-01-06  1.036392  1.797672 -0.156610  1.759727   5"
       ]
      }
     ],
     "prompt_number": 56
    },
    {
     "cell_type": "code",
     "collapsed": false,
     "input": [
      "df1 = df.reindex(index=dates[0:4], columns=list(df.columns) + ['E'])\n",
      "df1.loc[dates[0]:dates[1],'E'] = 1\n",
      "df1"
     ],
     "language": "python",
     "metadata": {},
     "outputs": [
      {
       "html": [
        "<div style=\"max-height:1000px;max-width:1500px;overflow:auto;\">\n",
        "<table border=\"1\" class=\"dataframe\">\n",
        "  <thead>\n",
        "    <tr style=\"text-align: right;\">\n",
        "      <th></th>\n",
        "      <th>A</th>\n",
        "      <th>B</th>\n",
        "      <th>C</th>\n",
        "      <th>D</th>\n",
        "      <th>F</th>\n",
        "      <th>E</th>\n",
        "    </tr>\n",
        "  </thead>\n",
        "  <tbody>\n",
        "    <tr>\n",
        "      <th>2013-01-01</th>\n",
        "      <td> 0.119109</td>\n",
        "      <td>-1.420890</td>\n",
        "      <td> 1.375110</td>\n",
        "      <td> 0.371187</td>\n",
        "      <td>NaN</td>\n",
        "      <td>  1</td>\n",
        "    </tr>\n",
        "    <tr>\n",
        "      <th>2013-01-02</th>\n",
        "      <td> 0.000503</td>\n",
        "      <td>-0.126191</td>\n",
        "      <td>-0.975224</td>\n",
        "      <td>-0.261938</td>\n",
        "      <td>  1</td>\n",
        "      <td>  1</td>\n",
        "    </tr>\n",
        "    <tr>\n",
        "      <th>2013-01-03</th>\n",
        "      <td>-0.318299</td>\n",
        "      <td> 0.228468</td>\n",
        "      <td>-0.361901</td>\n",
        "      <td> 2.598072</td>\n",
        "      <td>  2</td>\n",
        "      <td>NaN</td>\n",
        "    </tr>\n",
        "    <tr>\n",
        "      <th>2013-01-04</th>\n",
        "      <td> 0.458556</td>\n",
        "      <td> 1.077683</td>\n",
        "      <td> 1.005845</td>\n",
        "      <td> 0.239093</td>\n",
        "      <td>  3</td>\n",
        "      <td>NaN</td>\n",
        "    </tr>\n",
        "  </tbody>\n",
        "</table>\n",
        "</div>"
       ],
       "metadata": {},
       "output_type": "pyout",
       "prompt_number": 62,
       "text": [
        "                   A         B         C         D   F   E\n",
        "2013-01-01  0.119109 -1.420890  1.375110  0.371187 NaN   1\n",
        "2013-01-02  0.000503 -0.126191 -0.975224 -0.261938   1   1\n",
        "2013-01-03 -0.318299  0.228468 -0.361901  2.598072   2 NaN\n",
        "2013-01-04  0.458556  1.077683  1.005845  0.239093   3 NaN"
       ]
      }
     ],
     "prompt_number": 62
    },
    {
     "cell_type": "code",
     "collapsed": false,
     "input": [
      " df1.dropna(how='any')"
     ],
     "language": "python",
     "metadata": {},
     "outputs": [
      {
       "html": [
        "<div style=\"max-height:1000px;max-width:1500px;overflow:auto;\">\n",
        "<table border=\"1\" class=\"dataframe\">\n",
        "  <thead>\n",
        "    <tr style=\"text-align: right;\">\n",
        "      <th></th>\n",
        "      <th>A</th>\n",
        "      <th>B</th>\n",
        "      <th>C</th>\n",
        "      <th>D</th>\n",
        "      <th>F</th>\n",
        "      <th>E</th>\n",
        "    </tr>\n",
        "  </thead>\n",
        "  <tbody>\n",
        "    <tr>\n",
        "      <th>2013-01-02</th>\n",
        "      <td> 0.000503</td>\n",
        "      <td>-0.126191</td>\n",
        "      <td>-0.975224</td>\n",
        "      <td>-0.261938</td>\n",
        "      <td> 1</td>\n",
        "      <td> 1</td>\n",
        "    </tr>\n",
        "  </tbody>\n",
        "</table>\n",
        "</div>"
       ],
       "metadata": {},
       "output_type": "pyout",
       "prompt_number": 63,
       "text": [
        "                   A         B         C         D  F  E\n",
        "2013-01-02  0.000503 -0.126191 -0.975224 -0.261938  1  1"
       ]
      }
     ],
     "prompt_number": 63
    },
    {
     "cell_type": "code",
     "collapsed": false,
     "input": [
      " df1.fillna(value=5)"
     ],
     "language": "python",
     "metadata": {},
     "outputs": [
      {
       "html": [
        "<div style=\"max-height:1000px;max-width:1500px;overflow:auto;\">\n",
        "<table border=\"1\" class=\"dataframe\">\n",
        "  <thead>\n",
        "    <tr style=\"text-align: right;\">\n",
        "      <th></th>\n",
        "      <th>A</th>\n",
        "      <th>B</th>\n",
        "      <th>C</th>\n",
        "      <th>D</th>\n",
        "      <th>F</th>\n",
        "      <th>E</th>\n",
        "    </tr>\n",
        "  </thead>\n",
        "  <tbody>\n",
        "    <tr>\n",
        "      <th>2013-01-01</th>\n",
        "      <td> 0.119109</td>\n",
        "      <td>-1.420890</td>\n",
        "      <td> 1.375110</td>\n",
        "      <td> 0.371187</td>\n",
        "      <td> 5</td>\n",
        "      <td> 1</td>\n",
        "    </tr>\n",
        "    <tr>\n",
        "      <th>2013-01-02</th>\n",
        "      <td> 0.000503</td>\n",
        "      <td>-0.126191</td>\n",
        "      <td>-0.975224</td>\n",
        "      <td>-0.261938</td>\n",
        "      <td> 1</td>\n",
        "      <td> 1</td>\n",
        "    </tr>\n",
        "    <tr>\n",
        "      <th>2013-01-03</th>\n",
        "      <td>-0.318299</td>\n",
        "      <td> 0.228468</td>\n",
        "      <td>-0.361901</td>\n",
        "      <td> 2.598072</td>\n",
        "      <td> 2</td>\n",
        "      <td> 5</td>\n",
        "    </tr>\n",
        "    <tr>\n",
        "      <th>2013-01-04</th>\n",
        "      <td> 0.458556</td>\n",
        "      <td> 1.077683</td>\n",
        "      <td> 1.005845</td>\n",
        "      <td> 0.239093</td>\n",
        "      <td> 3</td>\n",
        "      <td> 5</td>\n",
        "    </tr>\n",
        "  </tbody>\n",
        "</table>\n",
        "</div>"
       ],
       "metadata": {},
       "output_type": "pyout",
       "prompt_number": 64,
       "text": [
        "                   A         B         C         D  F  E\n",
        "2013-01-01  0.119109 -1.420890  1.375110  0.371187  5  1\n",
        "2013-01-02  0.000503 -0.126191 -0.975224 -0.261938  1  1\n",
        "2013-01-03 -0.318299  0.228468 -0.361901  2.598072  2  5\n",
        "2013-01-04  0.458556  1.077683  1.005845  0.239093  3  5"
       ]
      }
     ],
     "prompt_number": 64
    },
    {
     "cell_type": "code",
     "collapsed": false,
     "input": [
      "df.mean()"
     ],
     "language": "python",
     "metadata": {},
     "outputs": [
      {
       "metadata": {},
       "output_type": "pyout",
       "prompt_number": 65,
       "text": [
        "A    0.089088\n",
        "B    0.270097\n",
        "C   -0.043457\n",
        "D    0.874319\n",
        "F    3.000000\n",
        "dtype: float64"
       ]
      }
     ],
     "prompt_number": 65
    },
    {
     "cell_type": "code",
     "collapsed": false,
     "input": [
      "df.mean(0)"
     ],
     "language": "python",
     "metadata": {},
     "outputs": [
      {
       "metadata": {},
       "output_type": "pyout",
       "prompt_number": 66,
       "text": [
        "A    0.089088\n",
        "B    0.270097\n",
        "C   -0.043457\n",
        "D    0.874319\n",
        "F    3.000000\n",
        "dtype: float64"
       ]
      }
     ],
     "prompt_number": 66
    },
    {
     "cell_type": "code",
     "collapsed": false,
     "input": [
      "df.mean(1)"
     ],
     "language": "python",
     "metadata": {},
     "outputs": [
      {
       "metadata": {},
       "output_type": "pyout",
       "prompt_number": 67,
       "text": [
        "2013-01-01    0.111129\n",
        "2013-01-02   -0.072570\n",
        "2013-01-03    0.829268\n",
        "2013-01-04    1.156236\n",
        "2013-01-05    0.538784\n",
        "2013-01-06    1.887436\n",
        "Freq: D, dtype: float64"
       ]
      }
     ],
     "prompt_number": 67
    },
    {
     "cell_type": "code",
     "collapsed": false,
     "input": [
      "s = pd.Series([1,3,5,np.nan,6,8],index=dates)\n",
      "s"
     ],
     "language": "python",
     "metadata": {},
     "outputs": [
      {
       "metadata": {},
       "output_type": "pyout",
       "prompt_number": 69,
       "text": [
        "2013-01-01     1\n",
        "2013-01-02     3\n",
        "2013-01-03     5\n",
        "2013-01-04   NaN\n",
        "2013-01-05     6\n",
        "2013-01-06     8\n",
        "Freq: D, dtype: float64"
       ]
      }
     ],
     "prompt_number": 69
    },
    {
     "cell_type": "code",
     "collapsed": false,
     "input": [
      "s = pd.Series([1,3,5,np.nan,6,8],index=dates).shift(2)\n",
      "s"
     ],
     "language": "python",
     "metadata": {},
     "outputs": [
      {
       "metadata": {},
       "output_type": "pyout",
       "prompt_number": 72,
       "text": [
        "2013-01-01   NaN\n",
        "2013-01-02   NaN\n",
        "2013-01-03     1\n",
        "2013-01-04     3\n",
        "2013-01-05     5\n",
        "2013-01-06   NaN\n",
        "Freq: D, dtype: float64"
       ]
      }
     ],
     "prompt_number": 72
    },
    {
     "cell_type": "code",
     "collapsed": false,
     "input": [
      "df"
     ],
     "language": "python",
     "metadata": {},
     "outputs": [
      {
       "html": [
        "<div style=\"max-height:1000px;max-width:1500px;overflow:auto;\">\n",
        "<table border=\"1\" class=\"dataframe\">\n",
        "  <thead>\n",
        "    <tr style=\"text-align: right;\">\n",
        "      <th></th>\n",
        "      <th>A</th>\n",
        "      <th>B</th>\n",
        "      <th>C</th>\n",
        "      <th>D</th>\n",
        "      <th>F</th>\n",
        "    </tr>\n",
        "  </thead>\n",
        "  <tbody>\n",
        "    <tr>\n",
        "      <th>2013-01-01</th>\n",
        "      <td> 0.119109</td>\n",
        "      <td>-1.420890</td>\n",
        "      <td> 1.375110</td>\n",
        "      <td> 0.371187</td>\n",
        "      <td>NaN</td>\n",
        "    </tr>\n",
        "    <tr>\n",
        "      <th>2013-01-02</th>\n",
        "      <td> 0.000503</td>\n",
        "      <td>-0.126191</td>\n",
        "      <td>-0.975224</td>\n",
        "      <td>-0.261938</td>\n",
        "      <td>  1</td>\n",
        "    </tr>\n",
        "    <tr>\n",
        "      <th>2013-01-03</th>\n",
        "      <td>-0.318299</td>\n",
        "      <td> 0.228468</td>\n",
        "      <td>-0.361901</td>\n",
        "      <td> 2.598072</td>\n",
        "      <td>  2</td>\n",
        "    </tr>\n",
        "    <tr>\n",
        "      <th>2013-01-04</th>\n",
        "      <td> 0.458556</td>\n",
        "      <td> 1.077683</td>\n",
        "      <td> 1.005845</td>\n",
        "      <td> 0.239093</td>\n",
        "      <td>  3</td>\n",
        "    </tr>\n",
        "    <tr>\n",
        "      <th>2013-01-05</th>\n",
        "      <td>-0.761733</td>\n",
        "      <td> 0.063840</td>\n",
        "      <td>-1.147959</td>\n",
        "      <td> 0.539772</td>\n",
        "      <td>  4</td>\n",
        "    </tr>\n",
        "    <tr>\n",
        "      <th>2013-01-06</th>\n",
        "      <td> 1.036392</td>\n",
        "      <td> 1.797672</td>\n",
        "      <td>-0.156610</td>\n",
        "      <td> 1.759727</td>\n",
        "      <td>  5</td>\n",
        "    </tr>\n",
        "  </tbody>\n",
        "</table>\n",
        "</div>"
       ],
       "metadata": {},
       "output_type": "pyout",
       "prompt_number": 73,
       "text": [
        "                   A         B         C         D   F\n",
        "2013-01-01  0.119109 -1.420890  1.375110  0.371187 NaN\n",
        "2013-01-02  0.000503 -0.126191 -0.975224 -0.261938   1\n",
        "2013-01-03 -0.318299  0.228468 -0.361901  2.598072   2\n",
        "2013-01-04  0.458556  1.077683  1.005845  0.239093   3\n",
        "2013-01-05 -0.761733  0.063840 -1.147959  0.539772   4\n",
        "2013-01-06  1.036392  1.797672 -0.156610  1.759727   5"
       ]
      }
     ],
     "prompt_number": 73
    },
    {
     "cell_type": "code",
     "collapsed": false,
     "input": [
      "df.sub(s,axis=\"index\")"
     ],
     "language": "python",
     "metadata": {},
     "outputs": [
      {
       "html": [
        "<div style=\"max-height:1000px;max-width:1500px;overflow:auto;\">\n",
        "<table border=\"1\" class=\"dataframe\">\n",
        "  <thead>\n",
        "    <tr style=\"text-align: right;\">\n",
        "      <th></th>\n",
        "      <th>A</th>\n",
        "      <th>B</th>\n",
        "      <th>C</th>\n",
        "      <th>D</th>\n",
        "      <th>F</th>\n",
        "    </tr>\n",
        "  </thead>\n",
        "  <tbody>\n",
        "    <tr>\n",
        "      <th>2013-01-01</th>\n",
        "      <td>      NaN</td>\n",
        "      <td>      NaN</td>\n",
        "      <td>      NaN</td>\n",
        "      <td>      NaN</td>\n",
        "      <td>NaN</td>\n",
        "    </tr>\n",
        "    <tr>\n",
        "      <th>2013-01-02</th>\n",
        "      <td>      NaN</td>\n",
        "      <td>      NaN</td>\n",
        "      <td>      NaN</td>\n",
        "      <td>      NaN</td>\n",
        "      <td>NaN</td>\n",
        "    </tr>\n",
        "    <tr>\n",
        "      <th>2013-01-03</th>\n",
        "      <td>-1.318299</td>\n",
        "      <td>-0.771532</td>\n",
        "      <td>-1.361901</td>\n",
        "      <td> 1.598072</td>\n",
        "      <td>  1</td>\n",
        "    </tr>\n",
        "    <tr>\n",
        "      <th>2013-01-04</th>\n",
        "      <td>-2.541444</td>\n",
        "      <td>-1.922317</td>\n",
        "      <td>-1.994155</td>\n",
        "      <td>-2.760907</td>\n",
        "      <td>  0</td>\n",
        "    </tr>\n",
        "    <tr>\n",
        "      <th>2013-01-05</th>\n",
        "      <td>-5.761733</td>\n",
        "      <td>-4.936160</td>\n",
        "      <td>-6.147959</td>\n",
        "      <td>-4.460228</td>\n",
        "      <td> -1</td>\n",
        "    </tr>\n",
        "    <tr>\n",
        "      <th>2013-01-06</th>\n",
        "      <td>      NaN</td>\n",
        "      <td>      NaN</td>\n",
        "      <td>      NaN</td>\n",
        "      <td>      NaN</td>\n",
        "      <td>NaN</td>\n",
        "    </tr>\n",
        "  </tbody>\n",
        "</table>\n",
        "</div>"
       ],
       "metadata": {},
       "output_type": "pyout",
       "prompt_number": 74,
       "text": [
        "                   A         B         C         D   F\n",
        "2013-01-01       NaN       NaN       NaN       NaN NaN\n",
        "2013-01-02       NaN       NaN       NaN       NaN NaN\n",
        "2013-01-03 -1.318299 -0.771532 -1.361901  1.598072   1\n",
        "2013-01-04 -2.541444 -1.922317 -1.994155 -2.760907   0\n",
        "2013-01-05 -5.761733 -4.936160 -6.147959 -4.460228  -1\n",
        "2013-01-06       NaN       NaN       NaN       NaN NaN"
       ]
      }
     ],
     "prompt_number": 74
    },
    {
     "cell_type": "code",
     "collapsed": false,
     "input": [
      "df"
     ],
     "language": "python",
     "metadata": {},
     "outputs": [
      {
       "html": [
        "<div style=\"max-height:1000px;max-width:1500px;overflow:auto;\">\n",
        "<table border=\"1\" class=\"dataframe\">\n",
        "  <thead>\n",
        "    <tr style=\"text-align: right;\">\n",
        "      <th></th>\n",
        "      <th>A</th>\n",
        "      <th>B</th>\n",
        "      <th>C</th>\n",
        "      <th>D</th>\n",
        "      <th>F</th>\n",
        "    </tr>\n",
        "  </thead>\n",
        "  <tbody>\n",
        "    <tr>\n",
        "      <th>2013-01-01</th>\n",
        "      <td> 0.119109</td>\n",
        "      <td>-1.420890</td>\n",
        "      <td> 1.375110</td>\n",
        "      <td> 0.371187</td>\n",
        "      <td>NaN</td>\n",
        "    </tr>\n",
        "    <tr>\n",
        "      <th>2013-01-02</th>\n",
        "      <td> 0.000503</td>\n",
        "      <td>-0.126191</td>\n",
        "      <td>-0.975224</td>\n",
        "      <td>-0.261938</td>\n",
        "      <td>  1</td>\n",
        "    </tr>\n",
        "    <tr>\n",
        "      <th>2013-01-03</th>\n",
        "      <td>-0.318299</td>\n",
        "      <td> 0.228468</td>\n",
        "      <td>-0.361901</td>\n",
        "      <td> 2.598072</td>\n",
        "      <td>  2</td>\n",
        "    </tr>\n",
        "    <tr>\n",
        "      <th>2013-01-04</th>\n",
        "      <td> 0.458556</td>\n",
        "      <td> 1.077683</td>\n",
        "      <td> 1.005845</td>\n",
        "      <td> 0.239093</td>\n",
        "      <td>  3</td>\n",
        "    </tr>\n",
        "    <tr>\n",
        "      <th>2013-01-05</th>\n",
        "      <td>-0.761733</td>\n",
        "      <td> 0.063840</td>\n",
        "      <td>-1.147959</td>\n",
        "      <td> 0.539772</td>\n",
        "      <td>  4</td>\n",
        "    </tr>\n",
        "    <tr>\n",
        "      <th>2013-01-06</th>\n",
        "      <td> 1.036392</td>\n",
        "      <td> 1.797672</td>\n",
        "      <td>-0.156610</td>\n",
        "      <td> 1.759727</td>\n",
        "      <td>  5</td>\n",
        "    </tr>\n",
        "  </tbody>\n",
        "</table>\n",
        "</div>"
       ],
       "metadata": {},
       "output_type": "pyout",
       "prompt_number": 75,
       "text": [
        "                   A         B         C         D   F\n",
        "2013-01-01  0.119109 -1.420890  1.375110  0.371187 NaN\n",
        "2013-01-02  0.000503 -0.126191 -0.975224 -0.261938   1\n",
        "2013-01-03 -0.318299  0.228468 -0.361901  2.598072   2\n",
        "2013-01-04  0.458556  1.077683  1.005845  0.239093   3\n",
        "2013-01-05 -0.761733  0.063840 -1.147959  0.539772   4\n",
        "2013-01-06  1.036392  1.797672 -0.156610  1.759727   5"
       ]
      }
     ],
     "prompt_number": 75
    },
    {
     "cell_type": "code",
     "collapsed": false,
     "input": [
      "df.apply(np.cumsum)"
     ],
     "language": "python",
     "metadata": {},
     "outputs": [
      {
       "html": [
        "<div style=\"max-height:1000px;max-width:1500px;overflow:auto;\">\n",
        "<table border=\"1\" class=\"dataframe\">\n",
        "  <thead>\n",
        "    <tr style=\"text-align: right;\">\n",
        "      <th></th>\n",
        "      <th>A</th>\n",
        "      <th>B</th>\n",
        "      <th>C</th>\n",
        "      <th>D</th>\n",
        "      <th>F</th>\n",
        "    </tr>\n",
        "  </thead>\n",
        "  <tbody>\n",
        "    <tr>\n",
        "      <th>2013-01-01</th>\n",
        "      <td> 0.119109</td>\n",
        "      <td>-1.420890</td>\n",
        "      <td> 1.375110</td>\n",
        "      <td> 0.371187</td>\n",
        "      <td>NaN</td>\n",
        "    </tr>\n",
        "    <tr>\n",
        "      <th>2013-01-02</th>\n",
        "      <td> 0.119612</td>\n",
        "      <td>-1.547081</td>\n",
        "      <td> 0.399886</td>\n",
        "      <td> 0.109249</td>\n",
        "      <td>  1</td>\n",
        "    </tr>\n",
        "    <tr>\n",
        "      <th>2013-01-03</th>\n",
        "      <td>-0.198686</td>\n",
        "      <td>-1.318613</td>\n",
        "      <td> 0.037985</td>\n",
        "      <td> 2.707321</td>\n",
        "      <td>  3</td>\n",
        "    </tr>\n",
        "    <tr>\n",
        "      <th>2013-01-04</th>\n",
        "      <td> 0.259870</td>\n",
        "      <td>-0.240930</td>\n",
        "      <td> 1.043830</td>\n",
        "      <td> 2.946414</td>\n",
        "      <td>  6</td>\n",
        "    </tr>\n",
        "    <tr>\n",
        "      <th>2013-01-05</th>\n",
        "      <td>-0.501863</td>\n",
        "      <td>-0.177090</td>\n",
        "      <td>-0.104129</td>\n",
        "      <td> 3.486186</td>\n",
        "      <td> 10</td>\n",
        "    </tr>\n",
        "    <tr>\n",
        "      <th>2013-01-06</th>\n",
        "      <td> 0.534529</td>\n",
        "      <td> 1.620582</td>\n",
        "      <td>-0.260739</td>\n",
        "      <td> 5.245914</td>\n",
        "      <td> 15</td>\n",
        "    </tr>\n",
        "  </tbody>\n",
        "</table>\n",
        "</div>"
       ],
       "metadata": {},
       "output_type": "pyout",
       "prompt_number": 76,
       "text": [
        "                   A         B         C         D   F\n",
        "2013-01-01  0.119109 -1.420890  1.375110  0.371187 NaN\n",
        "2013-01-02  0.119612 -1.547081  0.399886  0.109249   1\n",
        "2013-01-03 -0.198686 -1.318613  0.037985  2.707321   3\n",
        "2013-01-04  0.259870 -0.240930  1.043830  2.946414   6\n",
        "2013-01-05 -0.501863 -0.177090 -0.104129  3.486186  10\n",
        "2013-01-06  0.534529  1.620582 -0.260739  5.245914  15"
       ]
      }
     ],
     "prompt_number": 76
    },
    {
     "cell_type": "code",
     "collapsed": false,
     "input": [
      "df"
     ],
     "language": "python",
     "metadata": {},
     "outputs": [
      {
       "html": [
        "<div style=\"max-height:1000px;max-width:1500px;overflow:auto;\">\n",
        "<table border=\"1\" class=\"dataframe\">\n",
        "  <thead>\n",
        "    <tr style=\"text-align: right;\">\n",
        "      <th></th>\n",
        "      <th>A</th>\n",
        "      <th>B</th>\n",
        "      <th>C</th>\n",
        "      <th>D</th>\n",
        "      <th>F</th>\n",
        "    </tr>\n",
        "  </thead>\n",
        "  <tbody>\n",
        "    <tr>\n",
        "      <th>2013-01-01</th>\n",
        "      <td> 0.119109</td>\n",
        "      <td>-1.420890</td>\n",
        "      <td> 1.375110</td>\n",
        "      <td> 0.371187</td>\n",
        "      <td>NaN</td>\n",
        "    </tr>\n",
        "    <tr>\n",
        "      <th>2013-01-02</th>\n",
        "      <td> 0.000503</td>\n",
        "      <td>-0.126191</td>\n",
        "      <td>-0.975224</td>\n",
        "      <td>-0.261938</td>\n",
        "      <td>  1</td>\n",
        "    </tr>\n",
        "    <tr>\n",
        "      <th>2013-01-03</th>\n",
        "      <td>-0.318299</td>\n",
        "      <td> 0.228468</td>\n",
        "      <td>-0.361901</td>\n",
        "      <td> 2.598072</td>\n",
        "      <td>  2</td>\n",
        "    </tr>\n",
        "    <tr>\n",
        "      <th>2013-01-04</th>\n",
        "      <td> 0.458556</td>\n",
        "      <td> 1.077683</td>\n",
        "      <td> 1.005845</td>\n",
        "      <td> 0.239093</td>\n",
        "      <td>  3</td>\n",
        "    </tr>\n",
        "    <tr>\n",
        "      <th>2013-01-05</th>\n",
        "      <td>-0.761733</td>\n",
        "      <td> 0.063840</td>\n",
        "      <td>-1.147959</td>\n",
        "      <td> 0.539772</td>\n",
        "      <td>  4</td>\n",
        "    </tr>\n",
        "    <tr>\n",
        "      <th>2013-01-06</th>\n",
        "      <td> 1.036392</td>\n",
        "      <td> 1.797672</td>\n",
        "      <td>-0.156610</td>\n",
        "      <td> 1.759727</td>\n",
        "      <td>  5</td>\n",
        "    </tr>\n",
        "  </tbody>\n",
        "</table>\n",
        "</div>"
       ],
       "metadata": {},
       "output_type": "pyout",
       "prompt_number": 77,
       "text": [
        "                   A         B         C         D   F\n",
        "2013-01-01  0.119109 -1.420890  1.375110  0.371187 NaN\n",
        "2013-01-02  0.000503 -0.126191 -0.975224 -0.261938   1\n",
        "2013-01-03 -0.318299  0.228468 -0.361901  2.598072   2\n",
        "2013-01-04  0.458556  1.077683  1.005845  0.239093   3\n",
        "2013-01-05 -0.761733  0.063840 -1.147959  0.539772   4\n",
        "2013-01-06  1.036392  1.797672 -0.156610  1.759727   5"
       ]
      }
     ],
     "prompt_number": 77
    },
    {
     "cell_type": "code",
     "collapsed": false,
     "input": [
      "df.apply(lambda x: x.max() - x.min())"
     ],
     "language": "python",
     "metadata": {},
     "outputs": [
      {
       "metadata": {},
       "output_type": "pyout",
       "prompt_number": 78,
       "text": [
        "A    1.798124\n",
        "B    3.218562\n",
        "C    2.523069\n",
        "D    2.860010\n",
        "F    4.000000\n",
        "dtype: float64"
       ]
      }
     ],
     "prompt_number": 78
    },
    {
     "cell_type": "code",
     "collapsed": false,
     "input": [
      "s = pd.Series(np.random.randint(0,7,size=10))\n",
      "s"
     ],
     "language": "python",
     "metadata": {},
     "outputs": [
      {
       "metadata": {},
       "output_type": "pyout",
       "prompt_number": 80,
       "text": [
        "0    4\n",
        "1    4\n",
        "2    1\n",
        "3    4\n",
        "4    6\n",
        "5    2\n",
        "6    5\n",
        "7    6\n",
        "8    6\n",
        "9    5\n",
        "dtype: int64"
       ]
      }
     ],
     "prompt_number": 80
    },
    {
     "cell_type": "code",
     "collapsed": false,
     "input": [
      "s.value_counts()"
     ],
     "language": "python",
     "metadata": {},
     "outputs": [
      {
       "metadata": {},
       "output_type": "pyout",
       "prompt_number": 82,
       "text": [
        "6    3\n",
        "4    3\n",
        "5    2\n",
        "2    1\n",
        "1    1\n",
        "dtype: int64"
       ]
      }
     ],
     "prompt_number": 82
    },
    {
     "cell_type": "code",
     "collapsed": false,
     "input": [
      "left = pd.DataFrame({'key': ['foo', 'foo'], 'lval': [1, 2]})\n",
      "left"
     ],
     "language": "python",
     "metadata": {},
     "outputs": [
      {
       "html": [
        "<div style=\"max-height:1000px;max-width:1500px;overflow:auto;\">\n",
        "<table border=\"1\" class=\"dataframe\">\n",
        "  <thead>\n",
        "    <tr style=\"text-align: right;\">\n",
        "      <th></th>\n",
        "      <th>key</th>\n",
        "      <th>lval</th>\n",
        "    </tr>\n",
        "  </thead>\n",
        "  <tbody>\n",
        "    <tr>\n",
        "      <th>0</th>\n",
        "      <td> foo</td>\n",
        "      <td> 1</td>\n",
        "    </tr>\n",
        "    <tr>\n",
        "      <th>1</th>\n",
        "      <td> foo</td>\n",
        "      <td> 2</td>\n",
        "    </tr>\n",
        "  </tbody>\n",
        "</table>\n",
        "</div>"
       ],
       "metadata": {},
       "output_type": "pyout",
       "prompt_number": 83,
       "text": [
        "   key  lval\n",
        "0  foo     1\n",
        "1  foo     2"
       ]
      }
     ],
     "prompt_number": 83
    },
    {
     "cell_type": "code",
     "collapsed": false,
     "input": [
      "right = pd.DataFrame({'key': ['foo', 'foo'], 'rval': [4, 5]})\n",
      "right"
     ],
     "language": "python",
     "metadata": {},
     "outputs": [
      {
       "html": [
        "<div style=\"max-height:1000px;max-width:1500px;overflow:auto;\">\n",
        "<table border=\"1\" class=\"dataframe\">\n",
        "  <thead>\n",
        "    <tr style=\"text-align: right;\">\n",
        "      <th></th>\n",
        "      <th>key</th>\n",
        "      <th>rval</th>\n",
        "    </tr>\n",
        "  </thead>\n",
        "  <tbody>\n",
        "    <tr>\n",
        "      <th>0</th>\n",
        "      <td> foo</td>\n",
        "      <td> 4</td>\n",
        "    </tr>\n",
        "    <tr>\n",
        "      <th>1</th>\n",
        "      <td> foo</td>\n",
        "      <td> 5</td>\n",
        "    </tr>\n",
        "  </tbody>\n",
        "</table>\n",
        "</div>"
       ],
       "metadata": {},
       "output_type": "pyout",
       "prompt_number": 84,
       "text": [
        "   key  rval\n",
        "0  foo     4\n",
        "1  foo     5"
       ]
      }
     ],
     "prompt_number": 84
    },
    {
     "cell_type": "code",
     "collapsed": false,
     "input": [
      "pd.merge(left, right, on='key')\n",
      "pd"
     ],
     "language": "python",
     "metadata": {},
     "outputs": [
      {
       "metadata": {},
       "output_type": "pyout",
       "prompt_number": 85,
       "text": [
        "<module 'pandas' from '/Users/ryanchouck/Desktop/dev/homework/blackrock/venv/lib/python2.7/site-packages/pandas/__init__.pyc'>"
       ]
      }
     ],
     "prompt_number": 85
    },
    {
     "cell_type": "code",
     "collapsed": false,
     "input": [
      "pd.merge(left, right, on='key')\n"
     ],
     "language": "python",
     "metadata": {},
     "outputs": [
      {
       "html": [
        "<div style=\"max-height:1000px;max-width:1500px;overflow:auto;\">\n",
        "<table border=\"1\" class=\"dataframe\">\n",
        "  <thead>\n",
        "    <tr style=\"text-align: right;\">\n",
        "      <th></th>\n",
        "      <th>key</th>\n",
        "      <th>lval</th>\n",
        "      <th>rval</th>\n",
        "    </tr>\n",
        "  </thead>\n",
        "  <tbody>\n",
        "    <tr>\n",
        "      <th>0</th>\n",
        "      <td> foo</td>\n",
        "      <td> 1</td>\n",
        "      <td> 4</td>\n",
        "    </tr>\n",
        "    <tr>\n",
        "      <th>1</th>\n",
        "      <td> foo</td>\n",
        "      <td> 1</td>\n",
        "      <td> 5</td>\n",
        "    </tr>\n",
        "    <tr>\n",
        "      <th>2</th>\n",
        "      <td> foo</td>\n",
        "      <td> 2</td>\n",
        "      <td> 4</td>\n",
        "    </tr>\n",
        "    <tr>\n",
        "      <th>3</th>\n",
        "      <td> foo</td>\n",
        "      <td> 2</td>\n",
        "      <td> 5</td>\n",
        "    </tr>\n",
        "  </tbody>\n",
        "</table>\n",
        "</div>"
       ],
       "metadata": {},
       "output_type": "pyout",
       "prompt_number": 86,
       "text": [
        "   key  lval  rval\n",
        "0  foo     1     4\n",
        "1  foo     1     5\n",
        "2  foo     2     4\n",
        "3  foo     2     5"
       ]
      }
     ],
     "prompt_number": 86
    },
    {
     "cell_type": "code",
     "collapsed": false,
     "input": [
      "pd.merge(left, right,)"
     ],
     "language": "python",
     "metadata": {},
     "outputs": [
      {
       "html": [
        "<div style=\"max-height:1000px;max-width:1500px;overflow:auto;\">\n",
        "<table border=\"1\" class=\"dataframe\">\n",
        "  <thead>\n",
        "    <tr style=\"text-align: right;\">\n",
        "      <th></th>\n",
        "      <th>key</th>\n",
        "      <th>lval</th>\n",
        "      <th>rval</th>\n",
        "    </tr>\n",
        "  </thead>\n",
        "  <tbody>\n",
        "    <tr>\n",
        "      <th>0</th>\n",
        "      <td> foo</td>\n",
        "      <td> 1</td>\n",
        "      <td> 4</td>\n",
        "    </tr>\n",
        "    <tr>\n",
        "      <th>1</th>\n",
        "      <td> foo</td>\n",
        "      <td> 1</td>\n",
        "      <td> 5</td>\n",
        "    </tr>\n",
        "    <tr>\n",
        "      <th>2</th>\n",
        "      <td> foo</td>\n",
        "      <td> 2</td>\n",
        "      <td> 4</td>\n",
        "    </tr>\n",
        "    <tr>\n",
        "      <th>3</th>\n",
        "      <td> foo</td>\n",
        "      <td> 2</td>\n",
        "      <td> 5</td>\n",
        "    </tr>\n",
        "  </tbody>\n",
        "</table>\n",
        "</div>"
       ],
       "metadata": {},
       "output_type": "pyout",
       "prompt_number": 88,
       "text": [
        "   key  lval  rval\n",
        "0  foo     1     4\n",
        "1  foo     1     5\n",
        "2  foo     2     4\n",
        "3  foo     2     5"
       ]
      }
     ],
     "prompt_number": 88
    },
    {
     "cell_type": "code",
     "collapsed": false,
     "input": [
      "df = pd.DataFrame({'A' : ['foo', 'bar', 'foo', 'bar',\n",
      "   ....:                          'foo', 'bar', 'foo', 'foo'],\n",
      "   ....:                    'B' : ['one', 'one', 'two', 'three',\n",
      "   ....:                          'two', 'two', 'one', 'three'],\n",
      "   ....:                    'C' : np.random.randn(8),\n",
      "   ....:                    'D' : np.random.randn(8)})\n"
     ],
     "language": "python",
     "metadata": {},
     "outputs": [],
     "prompt_number": 89
    },
    {
     "cell_type": "code",
     "collapsed": false,
     "input": [
      "df"
     ],
     "language": "python",
     "metadata": {},
     "outputs": [
      {
       "html": [
        "<div style=\"max-height:1000px;max-width:1500px;overflow:auto;\">\n",
        "<table border=\"1\" class=\"dataframe\">\n",
        "  <thead>\n",
        "    <tr style=\"text-align: right;\">\n",
        "      <th></th>\n",
        "      <th>A</th>\n",
        "      <th>B</th>\n",
        "      <th>C</th>\n",
        "      <th>D</th>\n",
        "    </tr>\n",
        "  </thead>\n",
        "  <tbody>\n",
        "    <tr>\n",
        "      <th>0</th>\n",
        "      <td> foo</td>\n",
        "      <td>   one</td>\n",
        "      <td> 0.664556</td>\n",
        "      <td> 0.112130</td>\n",
        "    </tr>\n",
        "    <tr>\n",
        "      <th>1</th>\n",
        "      <td> bar</td>\n",
        "      <td>   one</td>\n",
        "      <td>-1.310702</td>\n",
        "      <td> 0.018054</td>\n",
        "    </tr>\n",
        "    <tr>\n",
        "      <th>2</th>\n",
        "      <td> foo</td>\n",
        "      <td>   two</td>\n",
        "      <td>-1.614785</td>\n",
        "      <td> 0.601673</td>\n",
        "    </tr>\n",
        "    <tr>\n",
        "      <th>3</th>\n",
        "      <td> bar</td>\n",
        "      <td> three</td>\n",
        "      <td> 0.945160</td>\n",
        "      <td>-0.640259</td>\n",
        "    </tr>\n",
        "    <tr>\n",
        "      <th>4</th>\n",
        "      <td> foo</td>\n",
        "      <td>   two</td>\n",
        "      <td> 0.008719</td>\n",
        "      <td>-0.226065</td>\n",
        "    </tr>\n",
        "    <tr>\n",
        "      <th>5</th>\n",
        "      <td> bar</td>\n",
        "      <td>   two</td>\n",
        "      <td> 1.573172</td>\n",
        "      <td> 0.933883</td>\n",
        "    </tr>\n",
        "    <tr>\n",
        "      <th>6</th>\n",
        "      <td> foo</td>\n",
        "      <td>   one</td>\n",
        "      <td> 1.038797</td>\n",
        "      <td>-0.318142</td>\n",
        "    </tr>\n",
        "    <tr>\n",
        "      <th>7</th>\n",
        "      <td> foo</td>\n",
        "      <td> three</td>\n",
        "      <td>-0.775849</td>\n",
        "      <td>-1.289347</td>\n",
        "    </tr>\n",
        "  </tbody>\n",
        "</table>\n",
        "</div>"
       ],
       "metadata": {},
       "output_type": "pyout",
       "prompt_number": 90,
       "text": [
        "     A      B         C         D\n",
        "0  foo    one  0.664556  0.112130\n",
        "1  bar    one -1.310702  0.018054\n",
        "2  foo    two -1.614785  0.601673\n",
        "3  bar  three  0.945160 -0.640259\n",
        "4  foo    two  0.008719 -0.226065\n",
        "5  bar    two  1.573172  0.933883\n",
        "6  foo    one  1.038797 -0.318142\n",
        "7  foo  three -0.775849 -1.289347"
       ]
      }
     ],
     "prompt_number": 90
    },
    {
     "cell_type": "code",
     "collapsed": false,
     "input": [
      "df.groupby('A').sum()"
     ],
     "language": "python",
     "metadata": {},
     "outputs": [
      {
       "html": [
        "<div style=\"max-height:1000px;max-width:1500px;overflow:auto;\">\n",
        "<table border=\"1\" class=\"dataframe\">\n",
        "  <thead>\n",
        "    <tr style=\"text-align: right;\">\n",
        "      <th></th>\n",
        "      <th>C</th>\n",
        "      <th>D</th>\n",
        "    </tr>\n",
        "    <tr>\n",
        "      <th>A</th>\n",
        "      <th></th>\n",
        "      <th></th>\n",
        "    </tr>\n",
        "  </thead>\n",
        "  <tbody>\n",
        "    <tr>\n",
        "      <th>bar</th>\n",
        "      <td> 1.207629</td>\n",
        "      <td> 0.311678</td>\n",
        "    </tr>\n",
        "    <tr>\n",
        "      <th>foo</th>\n",
        "      <td>-0.678562</td>\n",
        "      <td>-1.119751</td>\n",
        "    </tr>\n",
        "  </tbody>\n",
        "</table>\n",
        "</div>"
       ],
       "metadata": {},
       "output_type": "pyout",
       "prompt_number": 92,
       "text": [
        "            C         D\n",
        "A                      \n",
        "bar  1.207629  0.311678\n",
        "foo -0.678562 -1.119751"
       ]
      }
     ],
     "prompt_number": 92
    },
    {
     "cell_type": "code",
     "collapsed": false,
     "input": [
      "df.groupby(['A','B']).sum()"
     ],
     "language": "python",
     "metadata": {},
     "outputs": [
      {
       "html": [
        "<div style=\"max-height:1000px;max-width:1500px;overflow:auto;\">\n",
        "<table border=\"1\" class=\"dataframe\">\n",
        "  <thead>\n",
        "    <tr style=\"text-align: right;\">\n",
        "      <th></th>\n",
        "      <th></th>\n",
        "      <th>C</th>\n",
        "      <th>D</th>\n",
        "    </tr>\n",
        "    <tr>\n",
        "      <th>A</th>\n",
        "      <th>B</th>\n",
        "      <th></th>\n",
        "      <th></th>\n",
        "    </tr>\n",
        "  </thead>\n",
        "  <tbody>\n",
        "    <tr>\n",
        "      <th rowspan=\"3\" valign=\"top\">bar</th>\n",
        "      <th>one</th>\n",
        "      <td>-1.310702</td>\n",
        "      <td> 0.018054</td>\n",
        "    </tr>\n",
        "    <tr>\n",
        "      <th>three</th>\n",
        "      <td> 0.945160</td>\n",
        "      <td>-0.640259</td>\n",
        "    </tr>\n",
        "    <tr>\n",
        "      <th>two</th>\n",
        "      <td> 1.573172</td>\n",
        "      <td> 0.933883</td>\n",
        "    </tr>\n",
        "    <tr>\n",
        "      <th rowspan=\"3\" valign=\"top\">foo</th>\n",
        "      <th>one</th>\n",
        "      <td> 1.703354</td>\n",
        "      <td>-0.206012</td>\n",
        "    </tr>\n",
        "    <tr>\n",
        "      <th>three</th>\n",
        "      <td>-0.775849</td>\n",
        "      <td>-1.289347</td>\n",
        "    </tr>\n",
        "    <tr>\n",
        "      <th>two</th>\n",
        "      <td>-1.606066</td>\n",
        "      <td> 0.375608</td>\n",
        "    </tr>\n",
        "  </tbody>\n",
        "</table>\n",
        "</div>"
       ],
       "metadata": {},
       "output_type": "pyout",
       "prompt_number": 93,
       "text": [
        "                  C         D\n",
        "A   B                        \n",
        "bar one   -1.310702  0.018054\n",
        "    three  0.945160 -0.640259\n",
        "    two    1.573172  0.933883\n",
        "foo one    1.703354 -0.206012\n",
        "    three -0.775849 -1.289347\n",
        "    two   -1.606066  0.375608"
       ]
      }
     ],
     "prompt_number": 93
    },
    {
     "cell_type": "code",
     "collapsed": false,
     "input": [
      "tuples = list(zip(*[['bar', 'bar', 'baz', 'baz',\n",
      "   ....:                      'foo', 'foo', 'qux', 'qux'],\n",
      "   ....:                     ['one', 'two', 'one', 'two',\n",
      "   ....:                      'one', 'two', 'one', 'two']]))"
     ],
     "language": "python",
     "metadata": {},
     "outputs": [],
     "prompt_number": 94
    },
    {
     "cell_type": "code",
     "collapsed": false,
     "input": [
      "tuples\n"
     ],
     "language": "python",
     "metadata": {},
     "outputs": [
      {
       "metadata": {},
       "output_type": "pyout",
       "prompt_number": 95,
       "text": [
        "[('bar', 'one'),\n",
        " ('bar', 'two'),\n",
        " ('baz', 'one'),\n",
        " ('baz', 'two'),\n",
        " ('foo', 'one'),\n",
        " ('foo', 'two'),\n",
        " ('qux', 'one'),\n",
        " ('qux', 'two')]"
       ]
      }
     ],
     "prompt_number": 95
    },
    {
     "cell_type": "code",
     "collapsed": false,
     "input": [
      "[['bar', 'bar', 'baz', 'baz',\n",
      "   ....:                      'foo', 'foo', 'qux', 'qux'],\n",
      "   ....:                     ['one', 'two', 'one', 'two',\n",
      "   ....:                      'one', 'two', 'one', 'two']"
     ],
     "language": "python",
     "metadata": {},
     "outputs": [
      {
       "ename": "SyntaxError",
       "evalue": "invalid syntax (<ipython-input-96-bb96afde0c89>, line 4)",
       "output_type": "pyerr",
       "traceback": [
        "\u001b[0;36m  File \u001b[0;32m\"<ipython-input-96-bb96afde0c89>\"\u001b[0;36m, line \u001b[0;32m4\u001b[0m\n\u001b[0;31m    'one', 'two', 'one', 'two']\u001b[0m\n\u001b[0m                               ^\u001b[0m\n\u001b[0;31mSyntaxError\u001b[0m\u001b[0;31m:\u001b[0m invalid syntax\n"
       ]
      }
     ],
     "prompt_number": 96
    },
    {
     "cell_type": "code",
     "collapsed": false,
     "input": [
      "[['bar', 'bar', 'baz', 'baz',\n",
      "   ....:                      'foo', 'foo', 'qux', 'qux'],\n",
      "   ....:                     ['one', 'two', 'one', 'two',\n",
      "   ....:                      'one', 'two', 'one', 'two']]\n"
     ],
     "language": "python",
     "metadata": {},
     "outputs": [],
     "prompt_number": 96
    },
    {
     "cell_type": "code",
     "collapsed": false,
     "input": [
      "index = pd.MultiIndex.from_tuples(tuples, names=['first', 'second'])\n",
      "index"
     ],
     "language": "python",
     "metadata": {},
     "outputs": [
      {
       "metadata": {},
       "output_type": "pyout",
       "prompt_number": 98,
       "text": [
        "MultiIndex(levels=[[u'bar', u'baz', u'foo', u'qux'], [u'one', u'two']],\n",
        "           labels=[[0, 0, 1, 1, 2, 2, 3, 3], [0, 1, 0, 1, 0, 1, 0, 1]],\n",
        "           names=[u'first', u'second'])"
       ]
      }
     ],
     "prompt_number": 98
    },
    {
     "cell_type": "code",
     "collapsed": true,
     "input": [
      "tuples"
     ],
     "language": "python",
     "metadata": {},
     "outputs": [
      {
       "metadata": {},
       "output_type": "pyout",
       "prompt_number": 99,
       "text": [
        "[('bar', 'one'),\n",
        " ('bar', 'two'),\n",
        " ('baz', 'one'),\n",
        " ('baz', 'two'),\n",
        " ('foo', 'one'),\n",
        " ('foo', 'two'),\n",
        " ('qux', 'one'),\n",
        " ('qux', 'two')]"
       ]
      }
     ],
     "prompt_number": 99
    },
    {
     "cell_type": "code",
     "collapsed": false,
     "input": [
      "df = pd.DataFrame(np.random.randn(8, 2), index=index, columns=['A', 'B'])\n",
      "df"
     ],
     "language": "python",
     "metadata": {},
     "outputs": [
      {
       "html": [
        "<div style=\"max-height:1000px;max-width:1500px;overflow:auto;\">\n",
        "<table border=\"1\" class=\"dataframe\">\n",
        "  <thead>\n",
        "    <tr style=\"text-align: right;\">\n",
        "      <th></th>\n",
        "      <th></th>\n",
        "      <th>A</th>\n",
        "      <th>B</th>\n",
        "    </tr>\n",
        "    <tr>\n",
        "      <th>first</th>\n",
        "      <th>second</th>\n",
        "      <th></th>\n",
        "      <th></th>\n",
        "    </tr>\n",
        "  </thead>\n",
        "  <tbody>\n",
        "    <tr>\n",
        "      <th rowspan=\"2\" valign=\"top\">bar</th>\n",
        "      <th>one</th>\n",
        "      <td>-0.580885</td>\n",
        "      <td>-0.400604</td>\n",
        "    </tr>\n",
        "    <tr>\n",
        "      <th>two</th>\n",
        "      <td>-1.190550</td>\n",
        "      <td> 0.175573</td>\n",
        "    </tr>\n",
        "    <tr>\n",
        "      <th rowspan=\"2\" valign=\"top\">baz</th>\n",
        "      <th>one</th>\n",
        "      <td>-0.274185</td>\n",
        "      <td> 0.166909</td>\n",
        "    </tr>\n",
        "    <tr>\n",
        "      <th>two</th>\n",
        "      <td> 1.076334</td>\n",
        "      <td>-1.021450</td>\n",
        "    </tr>\n",
        "    <tr>\n",
        "      <th rowspan=\"2\" valign=\"top\">foo</th>\n",
        "      <th>one</th>\n",
        "      <td>-1.783840</td>\n",
        "      <td> 2.340053</td>\n",
        "    </tr>\n",
        "    <tr>\n",
        "      <th>two</th>\n",
        "      <td> 0.542346</td>\n",
        "      <td>-1.910563</td>\n",
        "    </tr>\n",
        "    <tr>\n",
        "      <th rowspan=\"2\" valign=\"top\">qux</th>\n",
        "      <th>one</th>\n",
        "      <td>-0.090496</td>\n",
        "      <td>-0.136720</td>\n",
        "    </tr>\n",
        "    <tr>\n",
        "      <th>two</th>\n",
        "      <td> 0.180196</td>\n",
        "      <td>-0.157709</td>\n",
        "    </tr>\n",
        "  </tbody>\n",
        "</table>\n",
        "</div>"
       ],
       "metadata": {},
       "output_type": "pyout",
       "prompt_number": 100,
       "text": [
        "                     A         B\n",
        "first second                    \n",
        "bar   one    -0.580885 -0.400604\n",
        "      two    -1.190550  0.175573\n",
        "baz   one    -0.274185  0.166909\n",
        "      two     1.076334 -1.021450\n",
        "foo   one    -1.783840  2.340053\n",
        "      two     0.542346 -1.910563\n",
        "qux   one    -0.090496 -0.136720\n",
        "      two     0.180196 -0.157709"
       ]
      }
     ],
     "prompt_number": 100
    },
    {
     "cell_type": "code",
     "collapsed": false,
     "input": [
      "index"
     ],
     "language": "python",
     "metadata": {},
     "outputs": [
      {
       "metadata": {},
       "output_type": "pyout",
       "prompt_number": 101,
       "text": [
        "MultiIndex(levels=[[u'bar', u'baz', u'foo', u'qux'], [u'one', u'two']],\n",
        "           labels=[[0, 0, 1, 1, 2, 2, 3, 3], [0, 1, 0, 1, 0, 1, 0, 1]],\n",
        "           names=[u'first', u'second'])"
       ]
      }
     ],
     "prompt_number": 101
    },
    {
     "cell_type": "code",
     "collapsed": false,
     "input": [
      "df2 = df[:4]"
     ],
     "language": "python",
     "metadata": {},
     "outputs": [],
     "prompt_number": 102
    },
    {
     "cell_type": "code",
     "collapsed": false,
     "input": [
      "df2"
     ],
     "language": "python",
     "metadata": {},
     "outputs": [
      {
       "html": [
        "<div style=\"max-height:1000px;max-width:1500px;overflow:auto;\">\n",
        "<table border=\"1\" class=\"dataframe\">\n",
        "  <thead>\n",
        "    <tr style=\"text-align: right;\">\n",
        "      <th></th>\n",
        "      <th></th>\n",
        "      <th>A</th>\n",
        "      <th>B</th>\n",
        "    </tr>\n",
        "    <tr>\n",
        "      <th>first</th>\n",
        "      <th>second</th>\n",
        "      <th></th>\n",
        "      <th></th>\n",
        "    </tr>\n",
        "  </thead>\n",
        "  <tbody>\n",
        "    <tr>\n",
        "      <th rowspan=\"2\" valign=\"top\">bar</th>\n",
        "      <th>one</th>\n",
        "      <td>-0.580885</td>\n",
        "      <td>-0.400604</td>\n",
        "    </tr>\n",
        "    <tr>\n",
        "      <th>two</th>\n",
        "      <td>-1.190550</td>\n",
        "      <td> 0.175573</td>\n",
        "    </tr>\n",
        "    <tr>\n",
        "      <th rowspan=\"2\" valign=\"top\">baz</th>\n",
        "      <th>one</th>\n",
        "      <td>-0.274185</td>\n",
        "      <td> 0.166909</td>\n",
        "    </tr>\n",
        "    <tr>\n",
        "      <th>two</th>\n",
        "      <td> 1.076334</td>\n",
        "      <td>-1.021450</td>\n",
        "    </tr>\n",
        "  </tbody>\n",
        "</table>\n",
        "</div>"
       ],
       "metadata": {},
       "output_type": "pyout",
       "prompt_number": 103,
       "text": [
        "                     A         B\n",
        "first second                    \n",
        "bar   one    -0.580885 -0.400604\n",
        "      two    -1.190550  0.175573\n",
        "baz   one    -0.274185  0.166909\n",
        "      two     1.076334 -1.021450"
       ]
      }
     ],
     "prompt_number": 103
    },
    {
     "cell_type": "code",
     "collapsed": false,
     "input": [
      "stacked = df2.stack()\n",
      "stacked"
     ],
     "language": "python",
     "metadata": {},
     "outputs": [
      {
       "metadata": {},
       "output_type": "pyout",
       "prompt_number": 104,
       "text": [
        "first  second   \n",
        "bar    one     A   -0.580885\n",
        "               B   -0.400604\n",
        "       two     A   -1.190550\n",
        "               B    0.175573\n",
        "baz    one     A   -0.274185\n",
        "               B    0.166909\n",
        "       two     A    1.076334\n",
        "               B   -1.021450\n",
        "dtype: float64"
       ]
      }
     ],
     "prompt_number": 104
    },
    {
     "cell_type": "code",
     "collapsed": false,
     "input": [
      "stacked.unstack()"
     ],
     "language": "python",
     "metadata": {},
     "outputs": [
      {
       "html": [
        "<div style=\"max-height:1000px;max-width:1500px;overflow:auto;\">\n",
        "<table border=\"1\" class=\"dataframe\">\n",
        "  <thead>\n",
        "    <tr style=\"text-align: right;\">\n",
        "      <th></th>\n",
        "      <th></th>\n",
        "      <th>A</th>\n",
        "      <th>B</th>\n",
        "    </tr>\n",
        "    <tr>\n",
        "      <th>first</th>\n",
        "      <th>second</th>\n",
        "      <th></th>\n",
        "      <th></th>\n",
        "    </tr>\n",
        "  </thead>\n",
        "  <tbody>\n",
        "    <tr>\n",
        "      <th rowspan=\"2\" valign=\"top\">bar</th>\n",
        "      <th>one</th>\n",
        "      <td>-0.580885</td>\n",
        "      <td>-0.400604</td>\n",
        "    </tr>\n",
        "    <tr>\n",
        "      <th>two</th>\n",
        "      <td>-1.190550</td>\n",
        "      <td> 0.175573</td>\n",
        "    </tr>\n",
        "    <tr>\n",
        "      <th rowspan=\"2\" valign=\"top\">baz</th>\n",
        "      <th>one</th>\n",
        "      <td>-0.274185</td>\n",
        "      <td> 0.166909</td>\n",
        "    </tr>\n",
        "    <tr>\n",
        "      <th>two</th>\n",
        "      <td> 1.076334</td>\n",
        "      <td>-1.021450</td>\n",
        "    </tr>\n",
        "  </tbody>\n",
        "</table>\n",
        "</div>"
       ],
       "metadata": {},
       "output_type": "pyout",
       "prompt_number": 105,
       "text": [
        "                     A         B\n",
        "first second                    \n",
        "bar   one    -0.580885 -0.400604\n",
        "      two    -1.190550  0.175573\n",
        "baz   one    -0.274185  0.166909\n",
        "      two     1.076334 -1.021450"
       ]
      }
     ],
     "prompt_number": 105
    },
    {
     "cell_type": "code",
     "collapsed": false,
     "input": [
      "stacked.unstack(1)"
     ],
     "language": "python",
     "metadata": {},
     "outputs": [
      {
       "html": [
        "<div style=\"max-height:1000px;max-width:1500px;overflow:auto;\">\n",
        "<table border=\"1\" class=\"dataframe\">\n",
        "  <thead>\n",
        "    <tr style=\"text-align: right;\">\n",
        "      <th></th>\n",
        "      <th>second</th>\n",
        "      <th>one</th>\n",
        "      <th>two</th>\n",
        "    </tr>\n",
        "    <tr>\n",
        "      <th>first</th>\n",
        "      <th></th>\n",
        "      <th></th>\n",
        "      <th></th>\n",
        "    </tr>\n",
        "  </thead>\n",
        "  <tbody>\n",
        "    <tr>\n",
        "      <th rowspan=\"2\" valign=\"top\">bar</th>\n",
        "      <th>A</th>\n",
        "      <td>-0.580885</td>\n",
        "      <td>-1.190550</td>\n",
        "    </tr>\n",
        "    <tr>\n",
        "      <th>B</th>\n",
        "      <td>-0.400604</td>\n",
        "      <td> 0.175573</td>\n",
        "    </tr>\n",
        "    <tr>\n",
        "      <th rowspan=\"2\" valign=\"top\">baz</th>\n",
        "      <th>A</th>\n",
        "      <td>-0.274185</td>\n",
        "      <td> 1.076334</td>\n",
        "    </tr>\n",
        "    <tr>\n",
        "      <th>B</th>\n",
        "      <td> 0.166909</td>\n",
        "      <td>-1.021450</td>\n",
        "    </tr>\n",
        "  </tbody>\n",
        "</table>\n",
        "</div>"
       ],
       "metadata": {},
       "output_type": "pyout",
       "prompt_number": 106,
       "text": [
        "second        one       two\n",
        "first                      \n",
        "bar   A -0.580885 -1.190550\n",
        "      B -0.400604  0.175573\n",
        "baz   A -0.274185  1.076334\n",
        "      B  0.166909 -1.021450"
       ]
      }
     ],
     "prompt_number": 106
    },
    {
     "cell_type": "code",
     "collapsed": false,
     "input": [
      " df = pd.DataFrame({'A' : ['one', 'one', 'two', 'three'] * 3,\n",
      "                    'B' : ['A', 'B', 'C'] * 4,\n",
      "                    'C' : ['foo', 'foo', 'foo', 'bar', 'bar', 'bar'] * 2,\n",
      "                    'D' : np.random.randn(12),\n",
      "                    'E' : np.random.randn(12)})\n",
      "df"
     ],
     "language": "python",
     "metadata": {},
     "outputs": [
      {
       "html": [
        "<div style=\"max-height:1000px;max-width:1500px;overflow:auto;\">\n",
        "<table border=\"1\" class=\"dataframe\">\n",
        "  <thead>\n",
        "    <tr style=\"text-align: right;\">\n",
        "      <th></th>\n",
        "      <th>A</th>\n",
        "      <th>B</th>\n",
        "      <th>C</th>\n",
        "      <th>D</th>\n",
        "      <th>E</th>\n",
        "    </tr>\n",
        "  </thead>\n",
        "  <tbody>\n",
        "    <tr>\n",
        "      <th>0 </th>\n",
        "      <td>   one</td>\n",
        "      <td> A</td>\n",
        "      <td> foo</td>\n",
        "      <td>-0.272394</td>\n",
        "      <td> 0.323273</td>\n",
        "    </tr>\n",
        "    <tr>\n",
        "      <th>1 </th>\n",
        "      <td>   one</td>\n",
        "      <td> B</td>\n",
        "      <td> foo</td>\n",
        "      <td> 1.309040</td>\n",
        "      <td>-0.585719</td>\n",
        "    </tr>\n",
        "    <tr>\n",
        "      <th>2 </th>\n",
        "      <td>   two</td>\n",
        "      <td> C</td>\n",
        "      <td> foo</td>\n",
        "      <td> 0.734862</td>\n",
        "      <td>-0.701646</td>\n",
        "    </tr>\n",
        "    <tr>\n",
        "      <th>3 </th>\n",
        "      <td> three</td>\n",
        "      <td> A</td>\n",
        "      <td> bar</td>\n",
        "      <td>-1.612534</td>\n",
        "      <td>-0.423569</td>\n",
        "    </tr>\n",
        "    <tr>\n",
        "      <th>4 </th>\n",
        "      <td>   one</td>\n",
        "      <td> B</td>\n",
        "      <td> bar</td>\n",
        "      <td>-0.066085</td>\n",
        "      <td>-0.992650</td>\n",
        "    </tr>\n",
        "    <tr>\n",
        "      <th>5 </th>\n",
        "      <td>   one</td>\n",
        "      <td> C</td>\n",
        "      <td> bar</td>\n",
        "      <td>-1.307571</td>\n",
        "      <td> 1.476918</td>\n",
        "    </tr>\n",
        "    <tr>\n",
        "      <th>6 </th>\n",
        "      <td>   two</td>\n",
        "      <td> A</td>\n",
        "      <td> foo</td>\n",
        "      <td>-1.608460</td>\n",
        "      <td> 0.812990</td>\n",
        "    </tr>\n",
        "    <tr>\n",
        "      <th>7 </th>\n",
        "      <td> three</td>\n",
        "      <td> B</td>\n",
        "      <td> foo</td>\n",
        "      <td> 0.728351</td>\n",
        "      <td>-0.137523</td>\n",
        "    </tr>\n",
        "    <tr>\n",
        "      <th>8 </th>\n",
        "      <td>   one</td>\n",
        "      <td> C</td>\n",
        "      <td> foo</td>\n",
        "      <td>-0.282741</td>\n",
        "      <td>-0.921723</td>\n",
        "    </tr>\n",
        "    <tr>\n",
        "      <th>9 </th>\n",
        "      <td>   one</td>\n",
        "      <td> A</td>\n",
        "      <td> bar</td>\n",
        "      <td>-0.596820</td>\n",
        "      <td> 0.086200</td>\n",
        "    </tr>\n",
        "    <tr>\n",
        "      <th>10</th>\n",
        "      <td>   two</td>\n",
        "      <td> B</td>\n",
        "      <td> bar</td>\n",
        "      <td>-0.050577</td>\n",
        "      <td>-0.534247</td>\n",
        "    </tr>\n",
        "    <tr>\n",
        "      <th>11</th>\n",
        "      <td> three</td>\n",
        "      <td> C</td>\n",
        "      <td> bar</td>\n",
        "      <td>-0.100772</td>\n",
        "      <td>-1.468161</td>\n",
        "    </tr>\n",
        "  </tbody>\n",
        "</table>\n",
        "</div>"
       ],
       "metadata": {},
       "output_type": "pyout",
       "prompt_number": 109,
       "text": [
        "        A  B    C         D         E\n",
        "0     one  A  foo -0.272394  0.323273\n",
        "1     one  B  foo  1.309040 -0.585719\n",
        "2     two  C  foo  0.734862 -0.701646\n",
        "3   three  A  bar -1.612534 -0.423569\n",
        "4     one  B  bar -0.066085 -0.992650\n",
        "5     one  C  bar -1.307571  1.476918\n",
        "6     two  A  foo -1.608460  0.812990\n",
        "7   three  B  foo  0.728351 -0.137523\n",
        "8     one  C  foo -0.282741 -0.921723\n",
        "9     one  A  bar -0.596820  0.086200\n",
        "10    two  B  bar -0.050577 -0.534247\n",
        "11  three  C  bar -0.100772 -1.468161"
       ]
      }
     ],
     "prompt_number": 109
    },
    {
     "cell_type": "code",
     "collapsed": false,
     "input": [
      "pd.pivot_table(df, values='D', index=['A', 'B'], columns=['C'])"
     ],
     "language": "python",
     "metadata": {},
     "outputs": [
      {
       "html": [
        "<div style=\"max-height:1000px;max-width:1500px;overflow:auto;\">\n",
        "<table border=\"1\" class=\"dataframe\">\n",
        "  <thead>\n",
        "    <tr style=\"text-align: right;\">\n",
        "      <th></th>\n",
        "      <th>C</th>\n",
        "      <th>bar</th>\n",
        "      <th>foo</th>\n",
        "    </tr>\n",
        "    <tr>\n",
        "      <th>A</th>\n",
        "      <th>B</th>\n",
        "      <th></th>\n",
        "      <th></th>\n",
        "    </tr>\n",
        "  </thead>\n",
        "  <tbody>\n",
        "    <tr>\n",
        "      <th rowspan=\"3\" valign=\"top\">one</th>\n",
        "      <th>A</th>\n",
        "      <td>-0.596820</td>\n",
        "      <td>-0.272394</td>\n",
        "    </tr>\n",
        "    <tr>\n",
        "      <th>B</th>\n",
        "      <td>-0.066085</td>\n",
        "      <td> 1.309040</td>\n",
        "    </tr>\n",
        "    <tr>\n",
        "      <th>C</th>\n",
        "      <td>-1.307571</td>\n",
        "      <td>-0.282741</td>\n",
        "    </tr>\n",
        "    <tr>\n",
        "      <th rowspan=\"3\" valign=\"top\">three</th>\n",
        "      <th>A</th>\n",
        "      <td>-1.612534</td>\n",
        "      <td>      NaN</td>\n",
        "    </tr>\n",
        "    <tr>\n",
        "      <th>B</th>\n",
        "      <td>      NaN</td>\n",
        "      <td> 0.728351</td>\n",
        "    </tr>\n",
        "    <tr>\n",
        "      <th>C</th>\n",
        "      <td>-0.100772</td>\n",
        "      <td>      NaN</td>\n",
        "    </tr>\n",
        "    <tr>\n",
        "      <th rowspan=\"3\" valign=\"top\">two</th>\n",
        "      <th>A</th>\n",
        "      <td>      NaN</td>\n",
        "      <td>-1.608460</td>\n",
        "    </tr>\n",
        "    <tr>\n",
        "      <th>B</th>\n",
        "      <td>-0.050577</td>\n",
        "      <td>      NaN</td>\n",
        "    </tr>\n",
        "    <tr>\n",
        "      <th>C</th>\n",
        "      <td>      NaN</td>\n",
        "      <td> 0.734862</td>\n",
        "    </tr>\n",
        "  </tbody>\n",
        "</table>\n",
        "</div>"
       ],
       "metadata": {},
       "output_type": "pyout",
       "prompt_number": 111,
       "text": [
        "C             bar       foo\n",
        "A     B                    \n",
        "one   A -0.596820 -0.272394\n",
        "      B -0.066085  1.309040\n",
        "      C -1.307571 -0.282741\n",
        "three A -1.612534       NaN\n",
        "      B       NaN  0.728351\n",
        "      C -0.100772       NaN\n",
        "two   A       NaN -1.608460\n",
        "      B -0.050577       NaN\n",
        "      C       NaN  0.734862"
       ]
      }
     ],
     "prompt_number": 111
    },
    {
     "cell_type": "code",
     "collapsed": false,
     "input": [
      "rng = pd.date_range('1/1/2012', periods=100, freq='S')"
     ],
     "language": "python",
     "metadata": {},
     "outputs": [],
     "prompt_number": 112
    },
    {
     "cell_type": "code",
     "collapsed": false,
     "input": [
      "rng"
     ],
     "language": "python",
     "metadata": {},
     "outputs": [
      {
       "metadata": {},
       "output_type": "pyout",
       "prompt_number": 113,
       "text": [
        "<class 'pandas.tseries.index.DatetimeIndex'>\n",
        "[2012-01-01 00:00:00, ..., 2012-01-01 00:01:39]\n",
        "Length: 100, Freq: S, Timezone: None"
       ]
      }
     ],
     "prompt_number": 113
    },
    {
     "cell_type": "code",
     "collapsed": false,
     "input": [
      "ts = pd.Series(np.random.randint(0, 500, len(rng)), index=rng)\n",
      "ts"
     ],
     "language": "python",
     "metadata": {},
     "outputs": [
      {
       "metadata": {},
       "output_type": "pyout",
       "prompt_number": 114,
       "text": [
        "2012-01-01 00:00:00    394\n",
        "2012-01-01 00:00:01    103\n",
        "2012-01-01 00:00:02    228\n",
        "2012-01-01 00:00:03    262\n",
        "2012-01-01 00:00:04    237\n",
        "2012-01-01 00:00:05    193\n",
        "2012-01-01 00:00:06    402\n",
        "2012-01-01 00:00:07    341\n",
        "2012-01-01 00:00:08    272\n",
        "2012-01-01 00:00:09    334\n",
        "2012-01-01 00:00:10    218\n",
        "2012-01-01 00:00:11    324\n",
        "2012-01-01 00:00:12    432\n",
        "2012-01-01 00:00:13    323\n",
        "2012-01-01 00:00:14     81\n",
        "...\n",
        "2012-01-01 00:01:25    179\n",
        "2012-01-01 00:01:26    454\n",
        "2012-01-01 00:01:27    184\n",
        "2012-01-01 00:01:28    173\n",
        "2012-01-01 00:01:29    392\n",
        "2012-01-01 00:01:30    437\n",
        "2012-01-01 00:01:31    245\n",
        "2012-01-01 00:01:32    205\n",
        "2012-01-01 00:01:33    344\n",
        "2012-01-01 00:01:34    363\n",
        "2012-01-01 00:01:35     14\n",
        "2012-01-01 00:01:36     94\n",
        "2012-01-01 00:01:37    175\n",
        "2012-01-01 00:01:38    362\n",
        "2012-01-01 00:01:39    287\n",
        "Freq: S, Length: 100"
       ]
      }
     ],
     "prompt_number": 114
    },
    {
     "cell_type": "code",
     "collapsed": false,
     "input": [
      "ts.resample('5Min', how='sum')"
     ],
     "language": "python",
     "metadata": {},
     "outputs": [
      {
       "metadata": {},
       "output_type": "pyout",
       "prompt_number": 115,
       "text": [
        "2012-01-01    25074\n",
        "Freq: 5T, dtype: int64"
       ]
      }
     ],
     "prompt_number": 115
    },
    {
     "cell_type": "code",
     "collapsed": false,
     "input": [
      "rng = pd.date_range('1/1/2012', periods=5, freq='M')\n",
      "ts = pd.Series(np.random.randn(len(rng)), index=rng)\n",
      "ts"
     ],
     "language": "python",
     "metadata": {},
     "outputs": [
      {
       "metadata": {},
       "output_type": "pyout",
       "prompt_number": 116,
       "text": [
        "2012-01-31    0.119225\n",
        "2012-02-29    1.147695\n",
        "2012-03-31    1.485418\n",
        "2012-04-30    1.855284\n",
        "2012-05-31    1.090291\n",
        "Freq: M, dtype: float64"
       ]
      }
     ],
     "prompt_number": 116
    },
    {
     "cell_type": "code",
     "collapsed": false,
     "input": [
      "prng = pd.period_range('1990Q1', '2000Q4', freq='Q-NOV')\n",
      "ts = pd.Series(np.random.randn(len(prng)), prng)\n",
      "ts"
     ],
     "language": "python",
     "metadata": {},
     "outputs": [
      {
       "metadata": {},
       "output_type": "pyout",
       "prompt_number": 117,
       "text": [
        "1990Q1    0.377527\n",
        "1990Q2    1.157959\n",
        "1990Q3    0.703141\n",
        "1990Q4    0.883718\n",
        "1991Q1    0.060093\n",
        "1991Q2   -1.947337\n",
        "1991Q3   -1.332137\n",
        "1991Q4   -0.622851\n",
        "1992Q1    0.646851\n",
        "1992Q2    0.277755\n",
        "1992Q3    1.626225\n",
        "1992Q4   -1.052228\n",
        "1993Q1    2.667846\n",
        "1993Q2   -0.838463\n",
        "1993Q3   -0.457354\n",
        "1993Q4   -0.488669\n",
        "1994Q1    0.220064\n",
        "1994Q2   -0.134220\n",
        "1994Q3   -0.792914\n",
        "1994Q4    1.603686\n",
        "1995Q1   -0.831456\n",
        "1995Q2   -2.111597\n",
        "1995Q3    2.021340\n",
        "1995Q4    0.105440\n",
        "1996Q1   -1.480924\n",
        "1996Q2   -1.098993\n",
        "1996Q3   -0.803622\n",
        "1996Q4    0.473195\n",
        "1997Q1   -0.969164\n",
        "1997Q2    1.169894\n",
        "1997Q3   -0.671754\n",
        "1997Q4    0.679617\n",
        "1998Q1    0.742614\n",
        "1998Q2    0.377259\n",
        "1998Q3    0.223446\n",
        "1998Q4   -0.426262\n",
        "1999Q1   -1.251219\n",
        "1999Q2    1.185507\n",
        "1999Q3   -2.089159\n",
        "1999Q4   -0.385013\n",
        "2000Q1    0.595101\n",
        "2000Q2    0.706717\n",
        "2000Q3   -0.639855\n",
        "2000Q4   -1.159765\n",
        "Freq: Q-NOV, dtype: float64"
       ]
      }
     ],
     "prompt_number": 117
    },
    {
     "cell_type": "code",
     "collapsed": false,
     "input": [
      "ts.head()"
     ],
     "language": "python",
     "metadata": {},
     "outputs": [
      {
       "metadata": {},
       "output_type": "pyout",
       "prompt_number": 118,
       "text": [
        "1990Q1    0.377527\n",
        "1990Q2    1.157959\n",
        "1990Q3    0.703141\n",
        "1990Q4    0.883718\n",
        "1991Q1    0.060093\n",
        "Freq: Q-NOV, dtype: float64"
       ]
      }
     ],
     "prompt_number": 118
    },
    {
     "cell_type": "code",
     "collapsed": false,
     "input": [
      "ts.index = (prng.asfreq('M', 'e') + 1).asfreq('H', 's') + 9\n",
      "ts.head()\n"
     ],
     "language": "python",
     "metadata": {},
     "outputs": [
      {
       "metadata": {},
       "output_type": "pyout",
       "prompt_number": 119,
       "text": [
        "1990-03-01 09:00    0.377527\n",
        "1990-06-01 09:00    1.157959\n",
        "1990-09-01 09:00    0.703141\n",
        "1990-12-01 09:00    0.883718\n",
        "1991-03-01 09:00    0.060093\n",
        "Freq: H, dtype: float64"
       ]
      }
     ],
     "prompt_number": 119
    },
    {
     "cell_type": "code",
     "collapsed": false,
     "input": [
      "import matplotlib.pyplot as plt\n",
      "print \"heelo\""
     ],
     "language": "python",
     "metadata": {},
     "outputs": []
    },
    {
     "cell_type": "code",
     "collapsed": false,
     "input": [
      "import pandas as pd\n",
      "from pandas.util.testing import rands\n",
      "df = pd.DataFrame(np.random.randn(10, 4), columns=['a', 'b', 'c', 'd'],\n",
      "               index=[rands(5) for _ in range(10)])\n",
      "df"
     ],
     "language": "python",
     "metadata": {},
     "outputs": [
      {
       "html": [
        "<div style=\"max-height:1000px;max-width:1500px;overflow:auto;\">\n",
        "<table border=\"1\" class=\"dataframe\">\n",
        "  <thead>\n",
        "    <tr style=\"text-align: right;\">\n",
        "      <th></th>\n",
        "      <th>a</th>\n",
        "      <th>b</th>\n",
        "      <th>c</th>\n",
        "      <th>d</th>\n",
        "    </tr>\n",
        "  </thead>\n",
        "  <tbody>\n",
        "    <tr>\n",
        "      <th>I3L1W</th>\n",
        "      <td> 0.404499</td>\n",
        "      <td>-0.773604</td>\n",
        "      <td> 0.786851</td>\n",
        "      <td>-0.169522</td>\n",
        "    </tr>\n",
        "    <tr>\n",
        "      <th>sQejQ</th>\n",
        "      <td>-0.376382</td>\n",
        "      <td> 0.077096</td>\n",
        "      <td>-0.603367</td>\n",
        "      <td>-1.205289</td>\n",
        "    </tr>\n",
        "    <tr>\n",
        "      <th>7N0Yw</th>\n",
        "      <td> 0.714349</td>\n",
        "      <td> 1.455184</td>\n",
        "      <td> 1.946110</td>\n",
        "      <td> 0.715550</td>\n",
        "    </tr>\n",
        "    <tr>\n",
        "      <th>aLL3P</th>\n",
        "      <td> 0.913197</td>\n",
        "      <td> 0.780524</td>\n",
        "      <td> 0.286362</td>\n",
        "      <td> 0.751423</td>\n",
        "    </tr>\n",
        "    <tr>\n",
        "      <th>ksreo</th>\n",
        "      <td> 0.049755</td>\n",
        "      <td>-1.693459</td>\n",
        "      <td> 0.473999</td>\n",
        "      <td>-1.608385</td>\n",
        "    </tr>\n",
        "    <tr>\n",
        "      <th>YGYvI</th>\n",
        "      <td> 2.110074</td>\n",
        "      <td> 1.075483</td>\n",
        "      <td>-0.488359</td>\n",
        "      <td>-0.334530</td>\n",
        "    </tr>\n",
        "    <tr>\n",
        "      <th>HKlS7</th>\n",
        "      <td>-0.292384</td>\n",
        "      <td> 1.376264</td>\n",
        "      <td>-0.935381</td>\n",
        "      <td>-1.048771</td>\n",
        "    </tr>\n",
        "    <tr>\n",
        "      <th>eRyqx</th>\n",
        "      <td>-1.015858</td>\n",
        "      <td>-0.951775</td>\n",
        "      <td> 0.485780</td>\n",
        "      <td> 1.354023</td>\n",
        "    </tr>\n",
        "    <tr>\n",
        "      <th>sdSqP</th>\n",
        "      <td>-0.739869</td>\n",
        "      <td> 0.990124</td>\n",
        "      <td> 0.560791</td>\n",
        "      <td>-0.218328</td>\n",
        "    </tr>\n",
        "    <tr>\n",
        "      <th>NdfO2</th>\n",
        "      <td> 0.687974</td>\n",
        "      <td>-0.066462</td>\n",
        "      <td> 0.608318</td>\n",
        "      <td>-1.042568</td>\n",
        "    </tr>\n",
        "  </tbody>\n",
        "</table>\n",
        "</div>"
       ],
       "metadata": {},
       "output_type": "pyout",
       "prompt_number": 4,
       "text": [
        "              a         b         c         d\n",
        "I3L1W  0.404499 -0.773604  0.786851 -0.169522\n",
        "sQejQ -0.376382  0.077096 -0.603367 -1.205289\n",
        "7N0Yw  0.714349  1.455184  1.946110  0.715550\n",
        "aLL3P  0.913197  0.780524  0.286362  0.751423\n",
        "ksreo  0.049755 -1.693459  0.473999 -1.608385\n",
        "YGYvI  2.110074  1.075483 -0.488359 -0.334530\n",
        "HKlS7 -0.292384  1.376264 -0.935381 -1.048771\n",
        "eRyqx -1.015858 -0.951775  0.485780  1.354023\n",
        "sdSqP -0.739869  0.990124  0.560791 -0.218328\n",
        "NdfO2  0.687974 -0.066462  0.608318 -1.042568"
       ]
      }
     ],
     "prompt_number": 4
    },
    {
     "cell_type": "code",
     "collapsed": false,
     "input": [
      "df.ix[-7:, ['d']]"
     ],
     "language": "python",
     "metadata": {},
     "outputs": [
      {
       "html": [
        "<div style=\"max-height:1000px;max-width:1500px;overflow:auto;\">\n",
        "<table border=\"1\" class=\"dataframe\">\n",
        "  <thead>\n",
        "    <tr style=\"text-align: right;\">\n",
        "      <th></th>\n",
        "      <th>d</th>\n",
        "    </tr>\n",
        "  </thead>\n",
        "  <tbody>\n",
        "    <tr>\n",
        "      <th>aLL3P</th>\n",
        "      <td> 0.751423</td>\n",
        "    </tr>\n",
        "    <tr>\n",
        "      <th>ksreo</th>\n",
        "      <td>-1.608385</td>\n",
        "    </tr>\n",
        "    <tr>\n",
        "      <th>YGYvI</th>\n",
        "      <td>-0.334530</td>\n",
        "    </tr>\n",
        "    <tr>\n",
        "      <th>HKlS7</th>\n",
        "      <td>-1.048771</td>\n",
        "    </tr>\n",
        "    <tr>\n",
        "      <th>eRyqx</th>\n",
        "      <td> 1.354023</td>\n",
        "    </tr>\n",
        "    <tr>\n",
        "      <th>sdSqP</th>\n",
        "      <td>-0.218328</td>\n",
        "    </tr>\n",
        "    <tr>\n",
        "      <th>NdfO2</th>\n",
        "      <td>-1.042568</td>\n",
        "    </tr>\n",
        "  </tbody>\n",
        "</table>\n",
        "</div>"
       ],
       "metadata": {},
       "output_type": "pyout",
       "prompt_number": 15,
       "text": [
        "              d\n",
        "aLL3P  0.751423\n",
        "ksreo -1.608385\n",
        "YGYvI -0.334530\n",
        "HKlS7 -1.048771\n",
        "eRyqx  1.354023\n",
        "sdSqP -0.218328\n",
        "NdfO2 -1.042568"
       ]
      }
     ],
     "prompt_number": 15
    },
    {
     "cell_type": "code",
     "collapsed": false,
     "input": [],
     "language": "python",
     "metadata": {},
     "outputs": []
    }
   ],
   "metadata": {}
  }
 ]
}