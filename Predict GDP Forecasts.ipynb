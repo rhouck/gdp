{
 "metadata": {
  "name": "",
  "signature": "sha256:990c2831cb592c6e457bddf70e1fd41e8cd1f920dfef857946c9d5e711d697bc"
 },
 "nbformat": 3,
 "nbformat_minor": 0,
 "worksheets": [
  {
   "cells": [
    {
     "cell_type": "markdown",
     "metadata": {},
     "source": [
      "<h1>Predict 12-M GDP Forecast</h1>\n",
      "<p>Using historical GDP forecasts coupled with relevant economic data</p>\n",
      "\n",
      "<h1>PUT IN SUMMARY AND CONCLUSION HERE</h1>\n",
      "What we've learned is that the four data sets provided offer less insight into future forecasts than the previous forecasts provides. \n",
      "\n",
      "first noticed few rows, 1000 features.\n",
      "\n",
      "needed to trim data where possible. propogating data forward/backward/mean didn't work.\n",
      "\n",
      "got rid of all but 128.\n",
      "\n",
      "after adding in time series data, it because clear that the supporting data was less important than the previous GDP data iteself.\n",
      "\n",
      "we tested many models, could still have tested more. \n",
      "\n",
      "found that dimensionality reduction didn't quite solve the problem as hoped, but ensemble methods did well.\n",
      "\n",
      "CHECK THAT PCA IS FOR REGRESSION.\n",
      "\n",
      "\n",
      "\n",
      "<p>Descrive EWMA here.</p>\n",
      "\n",
      "\n",
      "<p>For: Stephanie Lee</p>\n",
      "<p>By: Ryan Houck</p>\n",
      "\n",
      "<p>&nbsp;</p>\n",
      "\n",
      "<h3>Methodology</h3>\n",
      "    1. Clean, prune, and concatenate source data sets\n",
      "    2. Preview / visualize target data set (i.e. GDP forecasts)\n",
      "    3. Generate time-series features for GDP forecasts and important features\n",
      "    4. Reduce dimensionality (in non-ensemble methods) and identify most relevant features in set\n",
      "    5. Train and cross-validate multiple models and hyperparameters to find best fit\n",
      "    6. Analyze performance of selected model on test dataset"
     ]
    },
    {
     "cell_type": "markdown",
     "metadata": {},
     "source": [
      "<h4>Step 1: Prepare data</h4>"
     ]
    },
    {
     "cell_type": "code",
     "collapsed": false,
     "input": [
      "# import libraries\n",
      "%matplotlib inline\n",
      "import matplotlib.pyplot as plt\n",
      "import pandas as pd\n",
      "import numpy as np"
     ],
     "language": "python",
     "metadata": {},
     "outputs": [],
     "prompt_number": 601
    },
    {
     "cell_type": "markdown",
     "metadata": {},
     "source": [
      "Combine the five data sets. Each data set is indexed by date. "
     ]
    },
    {
     "cell_type": "code",
     "collapsed": false,
     "input": [
      "# load source code data into a Pandas dataframe\n",
      "data = pd.read_csv('source/GDP_USA.csv', index_col=0, parse_dates=True)\n",
      "GDP_USA = pd.DataFrame(data)\n",
      "data = pd.read_csv('source/usa_aggr_monthly.csv', index_col=0)\n",
      "usa_aggr_monthly = pd.DataFrame(data)\n",
      "data = pd.read_csv('source/usa_cons_monthly.csv', index_col=0)\n",
      "usa_cons_monthly = pd.DataFrame(data)\n",
      "data = pd.read_csv('source/usa_cred_monthly.csv', index_col=0)\n",
      "usa_cred_monthly = pd.DataFrame(data)\n",
      "data = pd.read_csv('source/usa_real_monthly.csv', index_col=0)\n",
      "usa_real_monthly = pd.DataFrame(data)"
     ],
     "language": "python",
     "metadata": {},
     "outputs": [],
     "prompt_number": 602
    },
    {
     "cell_type": "code",
     "collapsed": false,
     "input": [
      "# combine dataframes into one master dataframe, indexed by date\n",
      "master = pd.concat([\n",
      "                    GDP_USA.ix[:,:], \n",
      "                    usa_aggr_monthly.ix[:,:],\n",
      "                    usa_cons_monthly.ix[:,:],\n",
      "                    usa_cred_monthly.ix[:,:],\n",
      "                    usa_real_monthly.ix[:,:],\n",
      "                    ], \n",
      "                   axis=1)\n",
      "\n",
      "# convert date index to python datetime\n",
      "from dateutil.parser import parse\n",
      "dates = master.index.values\n",
      "dates = dates * 100 + 1\n",
      "dates = np.array(map(str, dates))\n",
      "dates = np.array(map(parse, dates))\n",
      "master.index = dates\n",
      "print master\n",
      "print master.describe()"
     ],
     "language": "python",
     "metadata": {},
     "outputs": [
      {
       "output_type": "stream",
       "stream": "stdout",
       "text": [
        "            USA GDP Revisions  USADPNPLO  USADPNPMO  USADPNPSO  USBSINV.B  \\\n",
        "1948-01-01                NaN        NaN        NaN        NaN        NaN   \n",
        "1948-02-01                NaN        NaN        NaN        NaN        NaN   \n",
        "1948-03-01                NaN        NaN        NaN        NaN        NaN   \n",
        "1948-04-01                NaN        NaN        NaN        NaN        NaN   \n",
        "1948-05-01                NaN        NaN        NaN        NaN        NaN   \n",
        "1948-06-01                NaN        NaN        NaN        NaN        NaN   \n",
        "1948-07-01                NaN        NaN        NaN        NaN        NaN   \n",
        "1948-08-01                NaN        NaN        NaN        NaN        NaN   \n",
        "1948-09-01                NaN        NaN        NaN        NaN        NaN   \n",
        "1948-10-01                NaN        NaN        NaN        NaN        NaN   \n",
        "1948-11-01                NaN        NaN        NaN        NaN        NaN   \n",
        "1948-12-01                NaN        NaN        NaN        NaN        NaN   \n",
        "1949-01-01                NaN        NaN        NaN        NaN        NaN   \n",
        "1949-02-01                NaN        NaN        NaN        NaN        NaN   \n",
        "1949-03-01                NaN        NaN        NaN        NaN        NaN   \n",
        "1949-04-01                NaN        NaN        NaN        NaN        NaN   \n",
        "1949-05-01                NaN        NaN        NaN        NaN        NaN   \n",
        "1949-06-01                NaN        NaN        NaN        NaN        NaN   \n",
        "1949-07-01                NaN        NaN        NaN        NaN        NaN   \n",
        "1949-08-01                NaN        NaN        NaN        NaN        NaN   \n",
        "1949-09-01                NaN        NaN        NaN        NaN        NaN   \n",
        "1949-10-01                NaN        NaN        NaN        NaN        NaN   \n",
        "1949-11-01                NaN        NaN        NaN        NaN        NaN   \n",
        "1949-12-01                NaN        NaN        NaN        NaN        NaN   \n",
        "1950-01-01                NaN        NaN        NaN        NaN        NaN   \n",
        "1950-02-01                NaN        NaN        NaN        NaN        NaN   \n",
        "1950-03-01                NaN        NaN        NaN        NaN        NaN   \n",
        "1950-04-01                NaN        NaN        NaN        NaN        NaN   \n",
        "1950-05-01                NaN        NaN        NaN        NaN        NaN   \n",
        "1950-06-01                NaN        NaN        NaN        NaN        NaN   \n",
        "...                       ...        ...        ...        ...        ...   \n",
        "2012-05-01           2.388000    25170.4    39970.2    46949.4    1578003   \n",
        "2012-06-01           2.300500    25201.1    39992.2    47009.8    1598110   \n",
        "2012-07-01           2.229667    25221.3    40040.1    47076.1    1609791   \n",
        "2012-08-01           2.162333    25274.4    40058.9    47122.3    1617971   \n",
        "2012-09-01           2.134250    25305.5    40097.8    47190.2    1628334   \n",
        "2012-10-01           2.026667    25372.6    40139.0    47284.0    1633487   \n",
        "2012-11-01           1.959333    25460.2    40230.6    47397.7    1635465   \n",
        "2012-12-01           1.923000    25538.6    40332.8    47457.6    1637362   \n",
        "2013-01-01           2.078500    25526.2    40386.6    47559.9    1653121   \n",
        "2013-02-01           2.037333    25574.8    40448.7    47654.4    1653728   \n",
        "2013-03-01           2.078000    25618.0    40476.0    47728.1    1652745   \n",
        "2013-04-01           2.292000    25661.8    40507.9    47803.2    1650334   \n",
        "2013-05-01           2.252833    25702.7    40546.5    47887.1    1644912   \n",
        "2013-06-01           2.326500    25758.7    40606.8    47986.6    1647007   \n",
        "2013-07-01           2.339000    25813.4    40660.5    48065.7    1652195   \n",
        "2013-08-01           2.257000    25856.4    40734.6    48138.8    1658156   \n",
        "2013-09-01           2.407250    25921.8    40775.2    48247.9    1668143   \n",
        "2013-10-01           2.402167    26005.8    40815.6    48319.4    1679921   \n",
        "2013-11-01           2.479083    26074.4    40879.0    48432.3    1688127   \n",
        "2013-12-01           2.570000    26129.3    40924.5    48523.0    1695688   \n",
        "2014-01-01           2.840833    26151.7    40972.4    48573.9    1703047   \n",
        "2014-02-01           2.919167    26211.8    41025.6    48653.8    1710798   \n",
        "2014-03-01           2.851250    26279.9    41078.1    48731.3    1717708   \n",
        "2014-04-01           2.813333    26333.6    41156.4    48804.2    1728499   \n",
        "2014-05-01           2.716333    26375.8    41229.7    48902.3    1736658   \n",
        "2014-06-01           2.635000    26422.6    41347.2    49035.2    1742777   \n",
        "2014-07-01           2.431000    26458.2    41432.5    49130.8    1750069   \n",
        "2014-08-01           2.725667    26506.6    41504.8    49212.5        NaN   \n",
        "2014-09-01           2.827000    26583.8    41552.4    49300.3        NaN   \n",
        "2014-10-01                NaN        NaN        NaN        NaN        NaN   \n",
        "\n",
        "            USBUSSALB  USCAPUTLQ  USCFMAUTH  USCFMIPMH  USCFMMCHH    ...      \\\n",
        "1948-01-01        NaN        NaN        NaN        NaN        NaN    ...       \n",
        "1948-02-01        NaN        NaN        NaN        NaN        NaN    ...       \n",
        "1948-03-01        NaN        NaN        NaN        NaN        NaN    ...       \n",
        "1948-04-01        NaN        NaN        NaN        NaN        NaN    ...       \n",
        "1948-05-01        NaN        NaN        NaN        NaN        NaN    ...       \n",
        "1948-06-01        NaN        NaN        NaN        NaN        NaN    ...       \n",
        "1948-07-01        NaN        NaN        NaN        NaN        NaN    ...       \n",
        "1948-08-01        NaN        NaN        NaN        NaN        NaN    ...       \n",
        "1948-09-01        NaN        NaN        NaN        NaN        NaN    ...       \n",
        "1948-10-01        NaN        NaN        NaN        NaN        NaN    ...       \n",
        "1948-11-01        NaN        NaN        NaN        NaN        NaN    ...       \n",
        "1948-12-01        NaN        NaN        NaN        NaN        NaN    ...       \n",
        "1949-01-01        NaN        NaN        NaN        NaN        NaN    ...       \n",
        "1949-02-01        NaN        NaN        NaN        NaN        NaN    ...       \n",
        "1949-03-01        NaN        NaN        NaN        NaN        NaN    ...       \n",
        "1949-04-01        NaN        NaN        NaN        NaN        NaN    ...       \n",
        "1949-05-01        NaN        NaN        NaN        NaN        NaN    ...       \n",
        "1949-06-01        NaN        NaN        NaN        NaN        NaN    ...       \n",
        "1949-07-01        NaN        NaN        NaN        NaN        NaN    ...       \n",
        "1949-08-01        NaN        NaN        NaN        NaN        NaN    ...       \n",
        "1949-09-01        NaN        NaN        NaN        NaN        NaN    ...       \n",
        "1949-10-01        NaN        NaN        NaN        NaN        NaN    ...       \n",
        "1949-11-01        NaN        NaN        NaN        NaN        NaN    ...       \n",
        "1949-12-01        NaN        NaN        NaN        NaN        NaN    ...       \n",
        "1950-01-01        NaN        NaN        NaN        NaN        NaN    ...       \n",
        "1950-02-01        NaN        NaN        NaN        NaN        NaN    ...       \n",
        "1950-03-01        NaN        NaN        NaN        NaN        NaN    ...       \n",
        "1950-04-01        NaN        NaN        NaN        NaN        NaN    ...       \n",
        "1950-05-01        NaN        NaN        NaN        NaN        NaN    ...       \n",
        "1950-06-01        NaN        NaN        NaN        NaN        NaN    ...       \n",
        "...               ...        ...        ...        ...        ...    ...       \n",
        "2012-05-01    1243493    78.8579       90.4       94.7       95.9    ...       \n",
        "2012-06-01    1226476    78.7730       91.3       95.1       98.4    ...       \n",
        "2012-07-01    1236995    79.1953       96.7       95.4       96.7    ...       \n",
        "2012-08-01    1245549    78.3430       92.5       94.7       96.4    ...       \n",
        "2012-09-01    1262451    77.1760       91.9       94.8       96.5    ...       \n",
        "2012-10-01    1258238    76.9680       92.7       94.4       94.5    ...       \n",
        "2012-11-01    1268405    77.8611       95.6       95.8       95.2    ...       \n",
        "2012-12-01    1270282    77.7764       97.6       96.6       96.0    ...       \n",
        "2013-01-01    1267994    77.6877       98.4       96.5       95.8    ...       \n",
        "2013-02-01    1284444    78.0987       98.1       97.1       97.7    ...       \n",
        "2013-03-01    1269469    78.1931       99.5       96.9       97.5    ...       \n",
        "2013-04-01    1270481    77.8638       99.3       96.6       97.2    ...       \n",
        "2013-05-01    1285880    77.8777       98.3       96.9       96.5    ...       \n",
        "2013-06-01    1286955    77.9299       99.1       97.2       97.1    ...       \n",
        "2013-07-01    1292544    77.6919       96.2       96.7       96.5    ...       \n",
        "2013-08-01    1296030    77.9999       99.7       97.4       97.5    ...       \n",
        "2013-09-01    1297888    78.2718      100.9       97.4       99.1    ...       \n",
        "2013-10-01    1304590    78.2040      100.7       97.8       98.7    ...       \n",
        "2013-11-01    1315856    78.4787        NaN        NaN        NaN    ...       \n",
        "2013-12-01    1315708    78.4550        NaN        NaN        NaN    ...       \n",
        "2014-01-01    1300840    78.0819        NaN        NaN        NaN    ...       \n",
        "2014-02-01    1312915    78.6341        NaN        NaN        NaN    ...       \n",
        "2014-03-01    1327582    79.0948        NaN        NaN        NaN    ...       \n",
        "2014-04-01    1338259    78.9402        NaN        NaN        NaN    ...       \n",
        "2014-05-01    1342157    79.1029        NaN        NaN        NaN    ...       \n",
        "2014-06-01    1349568    79.1454        NaN        NaN        NaN    ...       \n",
        "2014-07-01    1360306    79.1049        NaN        NaN        NaN    ...       \n",
        "2014-08-01        NaN    78.8103        NaN        NaN        NaN    ...       \n",
        "2014-09-01        NaN        NaN        NaN        NaN        NaN    ...       \n",
        "2014-10-01        NaN        NaN        NaN        NaN        NaN    ...       \n",
        "\n",
        "            USNAHBMI  USNCPRIVB  USNEWCONB  USPHSI..G  USPVHCONE  USPVHOUCE  \\\n",
        "1948-01-01       NaN        NaN        NaN        NaN        NaN        NaN   \n",
        "1948-02-01       NaN        NaN        NaN        NaN        NaN        NaN   \n",
        "1948-03-01       NaN        NaN        NaN        NaN        NaN        NaN   \n",
        "1948-04-01       NaN        NaN        NaN        NaN        NaN        NaN   \n",
        "1948-05-01       NaN        NaN        NaN        NaN        NaN        NaN   \n",
        "1948-06-01       NaN        NaN        NaN        NaN        NaN        NaN   \n",
        "1948-07-01       NaN        NaN        NaN        NaN        NaN        NaN   \n",
        "1948-08-01       NaN        NaN        NaN        NaN        NaN        NaN   \n",
        "1948-09-01       NaN        NaN        NaN        NaN        NaN        NaN   \n",
        "1948-10-01       NaN        NaN        NaN        NaN        NaN        NaN   \n",
        "1948-11-01       NaN        NaN        NaN        NaN        NaN        NaN   \n",
        "1948-12-01       NaN        NaN        NaN        NaN        NaN        NaN   \n",
        "1949-01-01       NaN        NaN        NaN        NaN        NaN        NaN   \n",
        "1949-02-01       NaN        NaN        NaN        NaN        NaN        NaN   \n",
        "1949-03-01       NaN        NaN        NaN        NaN        NaN        NaN   \n",
        "1949-04-01       NaN        NaN        NaN        NaN        NaN        NaN   \n",
        "1949-05-01       NaN        NaN        NaN        NaN        NaN        NaN   \n",
        "1949-06-01       NaN        NaN        NaN        NaN        NaN        NaN   \n",
        "1949-07-01       NaN        NaN        NaN        NaN        NaN        NaN   \n",
        "1949-08-01       NaN        NaN        NaN        NaN        NaN        NaN   \n",
        "1949-09-01       NaN        NaN        NaN        NaN        NaN        NaN   \n",
        "1949-10-01       NaN        NaN        NaN        NaN        NaN        NaN   \n",
        "1949-11-01       NaN        NaN        NaN        NaN        NaN        NaN   \n",
        "1949-12-01       NaN        NaN        NaN        NaN        NaN        NaN   \n",
        "1950-01-01       NaN        NaN        NaN        NaN        NaN        NaN   \n",
        "1950-02-01       NaN        NaN        NaN        NaN        NaN        NaN   \n",
        "1950-03-01       NaN        NaN        NaN        NaN        NaN        NaN   \n",
        "1950-04-01       NaN        NaN        NaN        NaN        NaN        NaN   \n",
        "1950-05-01       NaN        NaN        NaN        NaN        NaN        NaN   \n",
        "1950-06-01       NaN        NaN        NaN        NaN        NaN        NaN   \n",
        "...              ...        ...        ...        ...        ...        ...   \n",
        "2012-05-01        28    578.044    861.913      100.2        474        626   \n",
        "2012-06-01        29    584.158    873.069      100.0        486        625   \n",
        "2012-07-01        35    583.345    864.687      102.6        490        676   \n",
        "2012-08-01        37    588.548    868.246      101.8        495        684   \n",
        "2012-09-01        40    602.528    876.091      102.8        511        652   \n",
        "2012-10-01        41    608.577    883.853      103.8        520        730   \n",
        "2012-11-01        45    606.556    879.539      103.3        534        668   \n",
        "2012-12-01        47    616.034    882.637      101.3        551        677   \n",
        "2013-01-01        47    605.268    869.232      104.4        562        726   \n",
        "2013-02-01        46    609.606    879.609      104.9        580        723   \n",
        "2013-03-01        44    611.007    871.888      105.7        593        805   \n",
        "2013-04-01        41    614.379    884.966      107.7        607        699   \n",
        "2013-05-01        44    626.487    896.603      109.6        621        719   \n",
        "2013-06-01        51    627.598    900.334      110.8        629        763   \n",
        "2013-07-01        56    632.652    906.644      108.2        640        779   \n",
        "2013-08-01        58    644.417    915.286      107.1        653        763   \n",
        "2013-09-01        57    657.826    924.153      104.0        661        761   \n",
        "2013-10-01        54    665.489    939.933      101.9        668        815   \n",
        "2013-11-01        54    683.910    952.531      100.7        688        826   \n",
        "2013-12-01        57    695.441    961.158       94.9        711        775   \n",
        "2014-01-01        56    694.062    954.642       94.7        714        850   \n",
        "2014-02-01        46    686.201    947.088       94.2        714        866   \n",
        "2014-03-01        46    682.331    947.303       97.4        723        874   \n",
        "2014-04-01        46    689.006    960.349       97.9        743        832   \n",
        "2014-05-01        45    696.387    972.844      103.8        755        898   \n",
        "2014-06-01        49    684.266    957.120      102.5        769        809   \n",
        "2014-07-01        53    690.286    968.832      105.8        789        864   \n",
        "2014-08-01        55    685.025    960.958      104.7        794        892   \n",
        "2014-09-01        59        NaN        NaN        NaN        NaN        NaN   \n",
        "2014-10-01       NaN        NaN        NaN        NaN        NaN        NaN   \n",
        "\n",
        "            USTCBHEP  USTCBHEW  USTCBHEX  USWH23..O  \n",
        "1948-01-01       NaN       NaN       NaN        NaN  \n",
        "1948-02-01       NaN       NaN       NaN        NaN  \n",
        "1948-03-01       NaN       NaN       NaN        NaN  \n",
        "1948-04-01       NaN       NaN       NaN        NaN  \n",
        "1948-05-01       NaN       NaN       NaN        NaN  \n",
        "1948-06-01       NaN       NaN       NaN        NaN  \n",
        "1948-07-01       NaN       NaN       NaN        NaN  \n",
        "1948-08-01       NaN       NaN       NaN        NaN  \n",
        "1948-09-01       NaN       NaN       NaN        NaN  \n",
        "1948-10-01       NaN       NaN       NaN        NaN  \n",
        "1948-11-01       NaN       NaN       NaN        NaN  \n",
        "1948-12-01       NaN       NaN       NaN        NaN  \n",
        "1949-01-01       NaN       NaN       NaN        NaN  \n",
        "1949-02-01       NaN       NaN       NaN        NaN  \n",
        "1949-03-01       NaN       NaN       NaN        NaN  \n",
        "1949-04-01       NaN       NaN       NaN        NaN  \n",
        "1949-05-01       NaN       NaN       NaN        NaN  \n",
        "1949-06-01       NaN       NaN       NaN        NaN  \n",
        "1949-07-01       NaN       NaN       NaN        NaN  \n",
        "1949-08-01       NaN       NaN       NaN        NaN  \n",
        "1949-09-01       NaN       NaN       NaN        NaN  \n",
        "1949-10-01       NaN       NaN       NaN        NaN  \n",
        "1949-11-01       NaN       NaN       NaN        NaN  \n",
        "1949-12-01       NaN       NaN       NaN        NaN  \n",
        "1950-01-01       NaN       NaN       NaN        NaN  \n",
        "1950-02-01       NaN       NaN       NaN        NaN  \n",
        "1950-03-01       NaN       NaN       NaN        NaN  \n",
        "1950-04-01       NaN       NaN       NaN        NaN  \n",
        "1950-05-01       NaN       NaN       NaN        NaN  \n",
        "1950-06-01       NaN       NaN       NaN        NaN  \n",
        "...              ...       ...       ...        ...  \n",
        "2012-05-01       4.7       0.8       2.5       38.5  \n",
        "2012-06-01       5.3       0.9       3.1       38.6  \n",
        "2012-07-01       4.6       0.6       2.8       38.5  \n",
        "2012-08-01       5.5       0.7       3.5       38.6  \n",
        "2012-09-01       5.4       0.8       2.9       38.9  \n",
        "2012-10-01       5.4       1.0       3.3       38.8  \n",
        "2012-11-01       6.6       0.5       3.6       39.0  \n",
        "2012-12-01       5.3       1.3       3.4       39.2  \n",
        "2013-01-01       5.4       0.8       3.6       38.9  \n",
        "2013-02-01       3.8       0.3       2.9       39.2  \n",
        "2013-03-01       5.6       0.6       3.4       39.1  \n",
        "2013-04-01       5.6       0.8       3.5       39.0  \n",
        "2013-05-01       5.4       1.0       3.2       39.2  \n",
        "2013-06-01       5.4       1.0       3.2       39.0  \n",
        "2013-07-01       6.9       1.2       4.3       38.9  \n",
        "2013-08-01       5.1       0.7       3.0       39.1  \n",
        "2013-09-01       6.5       1.0       4.1       39.2  \n",
        "2013-10-01       5.5       0.7       3.1       38.8  \n",
        "2013-11-01       5.0       0.8       2.7       39.2  \n",
        "2013-12-01       7.4       1.4       3.5       38.7  \n",
        "2014-01-01       5.4       0.6       3.4       38.6  \n",
        "2014-02-01       5.7       0.9       4.1       38.1  \n",
        "2014-03-01       5.3       1.1       2.8       39.1  \n",
        "2014-04-01       5.6       1.0       2.9       39.1  \n",
        "2014-05-01       5.0       0.7       3.1       39.1  \n",
        "2014-06-01       5.4       0.6       3.6       39.1  \n",
        "2014-07-01       4.6       0.7       3.1       39.2  \n",
        "2014-08-01       5.3       1.2       3.1       39.2  \n",
        "2014-09-01       4.9       0.8       2.7       39.0  \n",
        "2014-10-01       NaN       NaN       NaN        NaN  \n",
        "\n",
        "[802 rows x 1258 columns]\n",
        "       USA GDP Revisions     USADPNPLO     USADPNPMO     USADPNPSO  \\\n",
        "count         300.000000    166.000000    166.000000    166.000000   \n",
        "mean            2.513489  26016.324699  39848.559639  45769.044578   \n",
        "std             0.986811   1451.312155   1299.575705   1855.274387   \n",
        "min            -1.684750  20838.000000  38149.700000  42212.800000   \n",
        "25%             2.217000  25082.125000  38767.425000  44571.725000   \n",
        "50%             2.660000  26379.800000  39491.900000  45937.550000   \n",
        "75%             3.049785  26806.475000  40834.950000  47192.375000   \n",
        "max             4.535517  29897.600000  44177.000000  49300.300000   \n",
        "\n",
        "            USBSINV.B       USBUSSALB   USCAPUTLQ   USCFMAUTH   USCFMIPMH  \\\n",
        "count      271.000000      271.000000  572.000000  490.000000  490.000000   \n",
        "mean   1220900.693727   906927.815498   80.707341   73.241224   66.385102   \n",
        "std     246603.337166   229315.980783    4.028401   25.285445   21.243158   \n",
        "min     808556.000000   518375.000000   68.283000   36.700000   34.000000   \n",
        "25%    1031978.500000   729687.500000   78.342750   52.850000   45.700000   \n",
        "50%    1173242.000000   844820.000000   80.859500   62.800000   59.750000   \n",
        "75%    1405940.000000  1090227.500000   83.489000   96.525000   87.975000   \n",
        "max    1750069.000000  1360306.000000   89.390200  132.800000  101.100000   \n",
        "\n",
        "        USCFMMCHH     ...        USNAHBMI   USNCPRIVB    USNEWCONB  \\\n",
        "count  490.000000     ...      357.000000  608.000000   608.000000   \n",
        "mean    81.042857     ...       48.338936  373.770074   500.392804   \n",
        "std     20.217915     ...       17.417380  243.945718   330.942490   \n",
        "min     50.200000     ...        8.000000   53.655000    72.931000   \n",
        "25%     66.100000     ...       39.000000  127.632250   173.428500   \n",
        "50%     72.600000     ...       54.000000  350.914000   457.218000   \n",
        "75%     96.000000     ...       60.000000  570.140500   806.996000   \n",
        "max    138.100000     ...       78.000000  961.777000  1213.270000   \n",
        "\n",
        "        USPHSI..G    USPVHCONE    USPVHOUCE    USTCBHEP    USTCBHEW  \\\n",
        "count  164.000000   536.000000   560.000000  441.000000  441.000000   \n",
        "mean   102.171951   951.347015  1431.944643    3.500680    0.902041   \n",
        "std     12.052867   264.629282   374.870834    0.852069    0.294063   \n",
        "min     77.100000   414.000000   520.000000    1.700000    0.100000   \n",
        "25%     92.975000   773.750000  1246.000000    2.900000    0.700000   \n",
        "50%    101.950000   961.000000  1452.500000    3.400000    0.900000   \n",
        "75%    109.200000  1100.000000  1692.000000    3.900000    1.100000   \n",
        "max    127.000000  1628.000000  2299.000000    7.400000    1.800000   \n",
        "\n",
        "         USTCBHEX   USWH23..O  \n",
        "count  441.000000  103.000000  \n",
        "mean     1.715193   38.151456  \n",
        "std      0.566304    0.658707  \n",
        "min      0.900000   36.400000  \n",
        "25%      1.400000   37.700000  \n",
        "50%      1.600000   38.100000  \n",
        "75%      1.900000   38.600000  \n",
        "max      4.300000   39.200000  \n",
        "\n",
        "[8 rows x 1258 columns]"
       ]
      },
      {
       "output_type": "stream",
       "stream": "stdout",
       "text": [
        "\n"
       ]
      }
     ],
     "prompt_number": 603
    },
    {
     "cell_type": "markdown",
     "metadata": {},
     "source": [
      "<p>Data clean-up:<p>\n",
      "<p>Test filling in missing data with column averages, or propogating data forward and backward to fill gaps (in this case, filling missing data with summarizing or neighboring data reduced accuracy of the model).</p>\n",
      "\n",
      "Remove features that are unusable beause data is missing."
     ]
    },
    {
     "cell_type": "code",
     "collapsed": false,
     "input": [
      "# remove rows where Y (forecast GDP) is NaN\n",
      "master = master.ix[forecasts.index]\n",
      "\n",
      "\"\"\"\n",
      "# fill missing data with average values\n",
      "master = master.fillna(master.mean())\n",
      "\n",
      "# fill missing data forward first, then backward\n",
      "master = master.fillna(method='pad')\n",
      "master = master.fillna(method='bfill')\n",
      "\"\"\"\n",
      "# remove features with missing data\n",
      "master = master.dropna(axis=1)\n",
      "\n",
      "print master\n",
      "print master.describe()"
     ],
     "language": "python",
     "metadata": {},
     "outputs": [
      {
       "output_type": "stream",
       "stream": "stdout",
       "text": [
        "            USA GDP Revisions  USCNFBUSQ  USED1IM.Q  USED1IP.Q  USEL20..O  \\\n",
        "1989-10-01           2.073567       46.8       45.3       53.9     110829   \n",
        "1989-11-01           1.871158       46.8       52.9       60.7     111179   \n",
        "1989-12-01           1.764300       47.4       44.2       51.7     111184   \n",
        "1990-01-01           2.803058       47.2       46.0       56.9     112178   \n",
        "1990-02-01           1.834250       49.1       53.2       60.1     112243   \n",
        "1990-03-01           1.893675       49.9       42.4       50.4     112295   \n",
        "1990-04-01           2.084200       50.0       48.2       49.2     112036   \n",
        "1990-05-01           2.235667       49.5       37.4       47.5     112424   \n",
        "1990-06-01           2.084750       49.2       45.0       50.4     112312   \n",
        "1990-07-01           2.015083       46.6       39.9       45.6     112197   \n",
        "1990-08-01           1.879133       46.1       42.4       44.8     112350   \n",
        "1990-09-01           0.997000       44.5       35.3       42.4     112195   \n",
        "1990-10-01           0.639850       43.2       37.8       42.0     112222   \n",
        "1990-11-01           0.276042       41.3       28.1       38.6     112086   \n",
        "1990-12-01           0.134800       40.8       34.5       40.4     112036   \n",
        "1991-01-01          -0.135858       39.2       30.9       40.7     111855   \n",
        "1991-02-01           0.149533       39.4       16.7       33.3     111640   \n",
        "1991-03-01           0.448775       40.7       21.6       35.2     111566   \n",
        "1991-04-01           0.635033       42.8       25.9       33.9     112040   \n",
        "1991-05-01           0.784458       44.5       32.7       41.1     111509   \n",
        "1991-06-01           1.100400       50.3       33.3       47.3     111732   \n",
        "1991-07-01           1.474167       50.6       37.0       43.6     111815   \n",
        "1991-08-01           1.656933       52.9       47.5       52.1     111723   \n",
        "1991-09-01           1.915775       54.9       38.9       49.4     112143   \n",
        "1991-10-01           2.092667       53.1       42.6       46.8     111985   \n",
        "1991-11-01           2.169933       49.5       38.9       46.4     111960   \n",
        "1991-12-01           1.900000       46.8       34.6       46.0     111802   \n",
        "1992-01-01           1.699583       47.3       25.9       45.3     112211   \n",
        "1992-02-01           1.860000       52.7       30.9       43.6     112095   \n",
        "1992-03-01           1.944750       54.6       38.9       53.2     112567   \n",
        "...                       ...        ...        ...        ...        ...   \n",
        "2012-04-01           2.397000       54.1       59.3       59.3     137587   \n",
        "2012-05-01           2.388000       52.5       51.9       57.8     137845   \n",
        "2012-06-01           2.300500       50.2       51.9       57.0     137923   \n",
        "2012-07-01           2.229667       50.5       50.6       52.8     137757   \n",
        "2012-08-01           2.162333       50.7       46.3       55.3     137840   \n",
        "2012-09-01           2.134250       51.6       47.5       54.7     138534   \n",
        "2012-10-01           2.026667       51.7       56.8       61.2     138903   \n",
        "2012-11-01           1.959333       49.9       49.4       60.6     138768   \n",
        "2012-12-01           1.923000       50.2       53.7       63.6     138825   \n",
        "2013-01-01           2.078500       52.3       56.8       64.0     138874   \n",
        "2013-02-01           2.037333       53.1       57.4       62.7     139094   \n",
        "2013-03-01           2.078000       51.5       52.5       56.1     139028   \n",
        "2013-04-01           2.292000       50.0       46.9       59.5     139309   \n",
        "2013-05-01           2.252833       50.0       48.8       61.6     139460   \n",
        "2013-06-01           2.326500       52.5       48.1       58.7     139605   \n",
        "2013-07-01           2.339000       54.9       50.6       57.8     139815   \n",
        "2013-08-01           2.257000       56.3       55.6       63.1     139758   \n",
        "2013-09-01           2.407250       56.0       54.9       59.8     139690   \n",
        "2013-10-01           2.402167       56.6       55.6       63.4     139037   \n",
        "2013-11-01           2.479083       57.0       65.4       66.9     139920   \n",
        "2013-12-01           2.570000       56.5       57.4       57.2     140083   \n",
        "2014-01-01           2.840833       51.3       55.6       62.7     140825   \n",
        "2014-02-01           2.919167       53.2       53.1       61.0     140963   \n",
        "2014-03-01           2.851250       53.7       53.7       59.7     141238   \n",
        "2014-04-01           2.813333       54.9       54.9       65.2     141190   \n",
        "2014-05-01           2.716333       55.4       63.0       64.4     141264   \n",
        "2014-06-01           2.635000       55.3       54.3       64.0     141763   \n",
        "2014-07-01           2.431000       57.1       56.2       67.8     141851   \n",
        "2014-08-01           2.725667       59.0       54.9       62.7     141912   \n",
        "2014-09-01           2.827000       56.6       51.9       57.8     142099   \n",
        "\n",
        "            USELFNG9O  USELFTW.O  USELNO..O  USEM21..O  USEMIMD.O    ...      \\\n",
        "1989-10-01      97936      97936       8568      669.1      10917    ...       \n",
        "1989-11-01      98189      98189       8530      671.9      10902    ...       \n",
        "1989-12-01      97921      97921       8656      672.1      10893    ...       \n",
        "1990-01-01      99150      99150       8767      675.9      10783    ...       \n",
        "1990-02-01      99006      99006       8662      677.3      10897    ...       \n",
        "1990-03-01      99032      99032       8721      677.2      10875    ...       \n",
        "1990-04-01      98784      98784       8705      679.2      10855    ...       \n",
        "1990-05-01      98858      98858       8718      682.9      10824    ...       \n",
        "1990-06-01      98927      98927       8688      683.7      10808    ...       \n",
        "1990-07-01      98613      98613       8692      682.7      10760    ...       \n",
        "1990-08-01      98626      98626       8693      680.1      10708    ...       \n",
        "1990-09-01      98537      98537       8698      681.1      10669    ...       \n",
        "1990-10-01      98451      98451       8761      679.0      10645    ...       \n",
        "1990-11-01      98296      98296       8704      679.5      10523    ...       \n",
        "1990-12-01      98109      98109       8834      681.3      10504    ...       \n",
        "1991-01-01      97857      97857       8796      679.9      10442    ...       \n",
        "1991-02-01      97441      97441       8825      680.3      10347    ...       \n",
        "1991-03-01      97283      97283       8832      679.9      10291    ...       \n",
        "1991-04-01      97351      97351       9222      675.0      10270    ...       \n",
        "1991-05-01      97069      97069       8677      670.3      10248    ...       \n",
        "1991-06-01      97100      97100       8880      666.6      10213    ...       \n",
        "1991-07-01      97044      97044       8809      661.2      10195    ...       \n",
        "1991-08-01      97010      97010       8840      655.8      10179    ...       \n",
        "1991-09-01      97365      97365       8880      649.2      10161    ...       \n",
        "1991-10-01      97191      97191       8905      643.1      10141    ...       \n",
        "1991-11-01      96880      96880       8855      636.2      10101    ...       \n",
        "1991-12-01      96849      96849       8730      632.3      10059    ...       \n",
        "1992-01-01      97037      97037       8510      628.1       9992    ...       \n",
        "1992-02-01      97329      97329       8573      623.9       9989    ...       \n",
        "1992-03-01      97390      97390       8584      622.5       9969    ...       \n",
        "...               ...        ...        ...        ...        ...    ...       \n",
        "2012-04-01     114398     114398       8564      800.9       7460    ...       \n",
        "2012-05-01     114279     114279       8656      801.9       7470    ...       \n",
        "2012-06-01     114728     114728       8817      800.7       7480    ...       \n",
        "2012-07-01     114589     114589       8816      799.3       7518    ...       \n",
        "2012-08-01     114626     114626       8716      797.7       7492    ...       \n",
        "2012-09-01     115229     115229       8833      794.3       7477    ...       \n",
        "2012-10-01     115531     115531       8813      787.4       7481    ...       \n",
        "2012-11-01     115581     115581       8944      794.3       7493    ...       \n",
        "2012-12-01     115735     115735       8953      799.5       7505    ...       \n",
        "2013-01-01     115821     115821       8728      803.7       7514    ...       \n",
        "2013-02-01     115785     115785       8680      806.9       7527    ...       \n",
        "2013-03-01     115901     115901       8412      807.7       7533    ...       \n",
        "2013-04-01     116062     116062       8651      805.1       7533    ...       \n",
        "2013-05-01     116288     116288       8601      808.8       7531    ...       \n",
        "2013-06-01     116087     116087       8654      811.4       7532    ...       \n",
        "2013-07-01     116156     116156       8850      815.3       7526    ...       \n",
        "2013-08-01     116301     116301       8646      817.9       7540    ...       \n",
        "2013-09-01     116883     116883       8614      822.6       7549    ...       \n",
        "2013-10-01     116306     116306       8528      827.6       7562    ...       \n",
        "2013-11-01     116951     116951       8547      826.7       7581    ...       \n",
        "2013-12-01     117278     117278       8506      828.0       7581    ...       \n",
        "2014-01-01     117656     117656       8569      833.9       7582    ...       \n",
        "2014-02-01     117819     117819       8697      837.9       7599    ...       \n",
        "2014-03-01     118003     118003       8674      841.0       7613    ...       \n",
        "2014-04-01     118415     118415       8559      846.7       7623    ...       \n",
        "2014-05-01     118727     118727       8375      849.1       7644    ...       \n",
        "2014-06-01     118204     118204       8370      852.8       7662    ...       \n",
        "2014-07-01     118489     118489       8424      861.6       7689    ...       \n",
        "2014-08-01     118616     118616       8454      863.5       7689    ...       \n",
        "2014-09-01     119287     119287       8685      872.2       7696    ...       \n",
        "\n",
        "            USEM2361O  USHK23..G  USHK23..O  USNAHB1E  USNAHB1P  USNAHBBT  \\\n",
        "1989-10-01      707.5       82.9       38.7        61        51        37   \n",
        "1989-11-01      708.1       83.5       38.8        56        47        37   \n",
        "1989-12-01      705.7       80.8       38.0        57        46        30   \n",
        "1990-01-01      710.3       84.1       39.3        52        44        33   \n",
        "1990-02-01      707.3       81.4       38.3        50        46        36   \n",
        "1990-03-01      703.0       81.7       38.6        47        41        32   \n",
        "1990-04-01      692.5       79.8       38.0        46        42        30   \n",
        "1990-05-01      688.6       79.0       37.8        43        38        28   \n",
        "1990-06-01      681.4       79.5       38.2        42        39        27   \n",
        "1990-07-01      673.9       78.1       37.8        38        34        26   \n",
        "1990-08-01      663.3       78.0       38.1        39        32        21   \n",
        "1990-09-01      656.8       77.1       38.1        36        33        23   \n",
        "1990-10-01      646.3       74.2       37.2        34        30        21   \n",
        "1990-11-01      633.8       76.0       38.4        32        26        18   \n",
        "1990-12-01      624.3       75.9       38.8        33        23        16   \n",
        "1991-01-01      610.0       73.1       38.0        32        19        17   \n",
        "1991-02-01      600.3       72.3       38.1        40        25        26   \n",
        "1991-03-01      598.0       71.4       38.0        50        35        31   \n",
        "1991-04-01      587.6       71.1       38.2        52        42        34   \n",
        "1991-05-01      584.8       69.9       37.9        53        40        34   \n",
        "1991-06-01      579.9       69.8       38.0        55        42        34   \n",
        "1991-07-01      574.1       69.4       38.0        54        41        32   \n",
        "1991-08-01      569.3       68.9       37.9        49        37        25   \n",
        "1991-09-01      568.2       69.1       38.1        52        38        28   \n",
        "1991-10-01      563.3       69.1       38.3        52        37        29   \n",
        "1991-11-01      558.2       67.6       38.0        46        38        29   \n",
        "1991-12-01      554.8       68.6       38.4        52        35        27   \n",
        "1992-01-01      551.4       69.4       38.3        57        44        36   \n",
        "1992-02-01      545.6       68.2       38.1        59        50        42   \n",
        "1992-03-01      544.7       67.7       38.0        57        48        36   \n",
        "...               ...        ...        ...       ...       ...       ...   \n",
        "2012-04-01      572.1       83.5       39.2        31        25        18   \n",
        "2012-05-01      574.7       82.4       39.0        34        30        23   \n",
        "2012-06-01      576.6       82.5       39.1        33        31        23   \n",
        "2012-07-01      584.7       82.9       39.2        43        36        28   \n",
        "2012-08-01      584.6       82.8       39.1        43        38        30   \n",
        "2012-09-01      585.9       83.5       39.4        51        42        30   \n",
        "2012-10-01      584.3       84.0       39.5        51        41        35   \n",
        "2012-11-01      588.9       84.2       39.4        52        49        35   \n",
        "2012-12-01      590.9       85.4       39.6        50        51        36   \n",
        "2013-01-01      594.4       85.3       39.3        49        52        36   \n",
        "2013-02-01      598.2       86.7       39.6        50        51        32   \n",
        "2013-03-01      601.9       87.3       39.7        50        47        34   \n",
        "2013-04-01      609.2       87.1       39.6        52        44        30   \n",
        "2013-05-01      609.1       87.7       39.9        52        48        33   \n",
        "2013-06-01      610.0       87.2       39.6        60        55        40   \n",
        "2013-07-01      612.8       87.0       39.5        67        59        45   \n",
        "2013-08-01      615.3       87.5       39.7        68        62        46   \n",
        "2013-09-01      617.8       87.8       39.7        64        60        46   \n",
        "2013-10-01      626.3       87.7       39.5        61        58        43   \n",
        "2013-11-01      630.0       88.8       39.7        60        58        41   \n",
        "2013-12-01      632.8       86.8       39.0        62        63        43   \n",
        "2014-01-01      644.1       87.4       38.9        60        62        40   \n",
        "2014-02-01      648.4       86.6       38.4        54        51        31   \n",
        "2014-03-01      650.0       89.4       39.6        53        51        32   \n",
        "2014-04-01      656.3       90.3       39.7        56        50        31   \n",
        "2014-05-01      655.9       89.7       39.5        56        48        33   \n",
        "2014-06-01      660.6       89.9       39.6        58        53        36   \n",
        "2014-07-01      668.0       91.1       39.9        63        56        39   \n",
        "2014-08-01      671.3       91.1       39.8        65        58        42   \n",
        "2014-09-01      677.5       90.9       39.6        67        63        47   \n",
        "\n",
        "            USNAHBMI  USTCBHEP  USTCBHEW  USTCBHEX  \n",
        "1989-10-01        48       3.3       1.0       1.4  \n",
        "1989-11-01        46       3.0       1.1       1.5  \n",
        "1989-12-01        43       3.3       0.8       1.7  \n",
        "1990-01-01        42       3.6       0.9       1.9  \n",
        "1990-02-01        44       4.1       1.0       1.9  \n",
        "1990-03-01        40       3.9       1.2       1.6  \n",
        "1990-04-01        39       2.9       0.8       1.4  \n",
        "1990-05-01        36       3.9       1.1       2.0  \n",
        "1990-06-01        36       3.6       0.9       1.8  \n",
        "1990-07-01        32       4.3       0.8       2.5  \n",
        "1990-08-01        30       3.0       1.0       1.3  \n",
        "1990-09-01        31       2.9       0.8       1.2  \n",
        "1990-10-01        28       2.9       0.6       1.7  \n",
        "1990-11-01        25       2.6       0.9       1.4  \n",
        "1990-12-01        22       2.7       0.6       1.5  \n",
        "1991-01-01        20       2.6       0.7       1.3  \n",
        "1991-02-01        27       3.0       0.8       1.5  \n",
        "1991-03-01        36       4.2       1.1       2.1  \n",
        "1991-04-01        41       3.0       0.8       1.5  \n",
        "1991-05-01        40       2.8       0.9       1.4  \n",
        "1991-06-01        42       2.8       0.6       1.6  \n",
        "1991-07-01        41       2.9       0.5       2.0  \n",
        "1991-08-01        36       2.9       0.7       1.4  \n",
        "1991-09-01        37       3.4       0.8       1.7  \n",
        "1991-10-01        37       3.3       0.6       1.9  \n",
        "1991-11-01        37       2.9       0.8       1.5  \n",
        "1991-12-01        35       3.1       0.7       1.6  \n",
        "1992-01-01        44       3.5       0.8       1.9  \n",
        "1992-02-01        49       4.2       1.0       2.2  \n",
        "1992-03-01        46       3.3       1.0       1.5  \n",
        "...              ...       ...       ...       ...  \n",
        "2012-04-01        24       4.5       0.4       3.0  \n",
        "2012-05-01        28       4.7       0.8       2.5  \n",
        "2012-06-01        29       5.3       0.9       3.1  \n",
        "2012-07-01        35       4.6       0.6       2.8  \n",
        "2012-08-01        37       5.5       0.7       3.5  \n",
        "2012-09-01        40       5.4       0.8       2.9  \n",
        "2012-10-01        41       5.4       1.0       3.3  \n",
        "2012-11-01        45       6.6       0.5       3.6  \n",
        "2012-12-01        47       5.3       1.3       3.4  \n",
        "2013-01-01        47       5.4       0.8       3.6  \n",
        "2013-02-01        46       3.8       0.3       2.9  \n",
        "2013-03-01        44       5.6       0.6       3.4  \n",
        "2013-04-01        41       5.6       0.8       3.5  \n",
        "2013-05-01        44       5.4       1.0       3.2  \n",
        "2013-06-01        51       5.4       1.0       3.2  \n",
        "2013-07-01        56       6.9       1.2       4.3  \n",
        "2013-08-01        58       5.1       0.7       3.0  \n",
        "2013-09-01        57       6.5       1.0       4.1  \n",
        "2013-10-01        54       5.5       0.7       3.1  \n",
        "2013-11-01        54       5.0       0.8       2.7  \n",
        "2013-12-01        57       7.4       1.4       3.5  \n",
        "2014-01-01        56       5.4       0.6       3.4  \n",
        "2014-02-01        46       5.7       0.9       4.1  \n",
        "2014-03-01        46       5.3       1.1       2.8  \n",
        "2014-04-01        46       5.6       1.0       2.9  \n",
        "2014-05-01        45       5.0       0.7       3.1  \n",
        "2014-06-01        49       5.4       0.6       3.6  \n",
        "2014-07-01        53       4.6       0.7       3.1  \n",
        "2014-08-01        55       5.3       1.2       3.1  \n",
        "2014-09-01        59       4.9       0.8       2.7  \n",
        "\n",
        "[300 rows x 129 columns]\n",
        "       USA GDP Revisions   USCNFBUSQ   USED1IM.Q   USED1IP.Q      USEL20..O  \\\n",
        "count         300.000000  300.000000  300.000000  300.000000     300.000000   \n",
        "mean            2.513489   52.045333   44.497333   55.378000  128253.806667   \n",
        "std             0.986811    5.191202   15.732789   12.527467    9701.288118   \n",
        "min            -1.684750   32.900000    7.400000   17.000000  110829.000000   \n",
        "25%             2.217000   49.500000   34.600000   47.650000  118918.250000   \n",
        "50%             2.660000   52.550000   46.300000   57.300000  130342.500000   \n",
        "75%             3.049785   55.450000   55.600000   64.000000  136387.500000   \n",
        "max             4.535517   62.800000   75.300000   78.600000  142099.000000   \n",
        "\n",
        "           USELFNG9O      USELFTW.O    USELNO..O   USEM21..O     USEMIMD.O  \\\n",
        "count     300.000000     300.000000   300.000000  300.000000    300.000000   \n",
        "mean   109985.036667  109985.036667  9008.303333  619.212333   9325.406667   \n",
        "std      7515.552396    7515.552396   339.140224   95.744915   1290.520385   \n",
        "min     96849.000000   96849.000000  8299.000000  498.000000   6983.000000   \n",
        "25%    102224.000000  102224.000000  8764.750000  547.975000   8528.500000   \n",
        "50%    112431.000000  112431.000000  8948.000000  587.850000   9594.500000   \n",
        "75%    115242.750000  115242.750000  9226.250000  677.725000  10473.750000   \n",
        "max    121875.000000  121875.000000  9973.000000  872.200000  10953.000000   \n",
        "\n",
        "           ...         USEM2361O   USHK23..G   USHK23..O    USNAHB1E  \\\n",
        "count      ...        300.000000  300.000000  300.000000  300.000000   \n",
        "mean       ...        721.685000   90.722000   38.657000   55.333333   \n",
        "std        ...        135.695896   13.676704    0.560325   18.605630   \n",
        "min        ...        542.600000   66.700000   36.800000   15.000000   \n",
        "25%        ...        605.375000   80.175000   38.300000   43.000000   \n",
        "50%        ...        689.650000   88.550000   38.700000   60.500000   \n",
        "75%        ...        818.550000  102.100000   39.025000   69.000000   \n",
        "max        ...       1022.000000  117.100000   39.900000   83.000000   \n",
        "\n",
        "         USNAHB1P    USNAHBBT    USNAHBMI    USTCBHEP    USTCBHEW    USTCBHEX  \n",
        "count  300.000000  300.000000  300.000000  300.000000  300.000000  300.000000  \n",
        "mean    50.343333   36.040000   47.103333    3.573667    0.884333    1.777000  \n",
        "std     20.949664   13.980818   18.623159    0.912203    0.284237    0.645984  \n",
        "min      6.000000    7.000000    8.000000    1.700000    0.100000    0.900000  \n",
        "25%     34.750000   26.000000   33.000000    2.975000    0.700000    1.400000  \n",
        "50%     55.500000   40.000000   52.000000    3.400000    0.900000    1.600000  \n",
        "75%     66.000000   47.000000   61.000000    4.000000    1.100000    1.900000  \n",
        "max     86.000000   62.000000   78.000000    7.400000    1.700000    4.300000  \n",
        "\n",
        "[8 rows x 129 columns]"
       ]
      },
      {
       "output_type": "stream",
       "stream": "stdout",
       "text": [
        "\n"
       ]
      }
     ],
     "prompt_number": 604
    },
    {
     "cell_type": "markdown",
     "metadata": {},
     "source": [
      "<h4>Step 2: Visualize Target</h4>"
     ]
    },
    {
     "cell_type": "code",
     "collapsed": false,
     "input": [
      "# simple series to visualize forecast data\n",
      "forecasts = master.ix[:,0]\n",
      "forecasts = forecasts.dropna(how='any')\n",
      "\n",
      "# forecast data over time\n",
      "chart = forecasts.plot()\n",
      "chart.set_xlabel('Date')\n",
      "chart.set_ylabel('Forecast 12-M GDP Growth')\n",
      "chart.set_title('Forecast 12-M GDP Growth Over Time')"
     ],
     "language": "python",
     "metadata": {},
     "outputs": [
      {
       "metadata": {},
       "output_type": "pyout",
       "prompt_number": 605,
       "text": [
        "<matplotlib.text.Text at 0x11198bed0>"
       ]
      },
      {
       "metadata": {},
       "output_type": "display_data",
       "png": "[encoded data removed]",
       "text": [
        "<matplotlib.figure.Figure at 0x111f719d0>"
       ]
      }
     ],
     "prompt_number": 605
    },
    {
     "cell_type": "markdown",
     "metadata": {},
     "source": [
      "This is a histogram of all forecast 12-month GDP growth rates."
     ]
    },
    {
     "cell_type": "code",
     "collapsed": false,
     "input": [
      "# forecast histogram\n",
      "plt.figure()\n",
      "chart = forecasts.hist(bins=10)\n",
      "chart.set_xlabel('Forecast 12-M GDP Growth')\n",
      "chart.set_ylabel('Frequency')\n",
      "chart.set_title('Forecast 12-M GDP Growth Histogram')"
     ],
     "language": "python",
     "metadata": {},
     "outputs": [
      {
       "metadata": {},
       "output_type": "pyout",
       "prompt_number": 606,
       "text": [
        "<matplotlib.text.Text at 0x10fa724d0>"
       ]
      },
      {
       "metadata": {},
       "output_type": "display_data",
       "png": "[encoded data removed]",
       "text": [
        "<matplotlib.figure.Figure at 0x11048f6d0>"
       ]
      }
     ],
     "prompt_number": 606
    },
    {
     "cell_type": "markdown",
     "metadata": {},
     "source": [
      "<h4>Step 3: Add time-series features</h4>"
     ]
    },
    {
     "cell_type": "code",
     "collapsed": false,
     "input": [
      "# prepare for building time series features\n",
      "cols = master.columns\n",
      "y_col = cols[0]\n",
      "X_cols = cols[1:]\n",
      "ys = master[y_col].values\n",
      "Xs = master[X_cols].values"
     ],
     "language": "python",
     "metadata": {},
     "outputs": [],
     "prompt_number": 607
    },
    {
     "cell_type": "code",
     "collapsed": false,
     "input": [
      "# build exponentially weighted moving average for forecast GDPs and each feature\n",
      "ewma = pd.stats.moments.ewma\n",
      "\n",
      "# time-series features for existing features\n",
      "EMOV_n = ewma(Xs, com=2)\n",
      "Xs = np.append(Xs, EMOV_n, 1)\n",
      "\n",
      "# time-series featuers for forecast GDPs\n",
      "EMOV_n = ewma(ys, com=2)\n",
      "EMOV_n =np.matrix(EMOV_n).T\n",
      "Xs = np.append(Xs, EMOV_n, 1)\n",
      "\n",
      "EMOV_n = ewma(ys, com=3)\n",
      "EMOV_n = np.matrix(EMOV_n).T\n",
      "Xs = np.append(Xs, EMOV_n, 1)\n",
      "\n",
      "time_cols = X_cols.copy(deep=True)\n",
      "time_cols = [\"%s-EMOV\" % (c) for c in time_cols]\n",
      "time_cols.append('USA GDP Revisions-EMOV-1')\n",
      "time_cols.append('USA GDP Revisions-EMOV-2')\n",
      "time_cols = np.asarray(time_cols)\n",
      "X_cols = np.append(X_cols, time_cols, 0) "
     ],
     "language": "python",
     "metadata": {},
     "outputs": [],
     "prompt_number": 608
    },
    {
     "cell_type": "code",
     "collapsed": false,
     "input": [
      "# rebuild expanded master data frame\n",
      "cols = np.append(np.asarray([y_col,]), X_cols, 0)\n",
      "data = np.append(np.matrix(ys).T, Xs, 1)\n",
      "master = pd.DataFrame(data,index=master.index,columns=cols)"
     ],
     "language": "python",
     "metadata": {},
     "outputs": [],
     "prompt_number": 609
    },
    {
     "cell_type": "code",
     "collapsed": false,
     "input": [
      "# select subset of rows for testing and model verification\n",
      "import random\n",
      "import math\n",
      "sample_count = int(math.floor(len(master)*0.20))\n",
      "test_set = master.ix[-sample_count:]\n",
      "train_set = master.ix[:-sample_count-1]"
     ],
     "language": "python",
     "metadata": {},
     "outputs": [],
     "prompt_number": 610
    },
    {
     "cell_type": "code",
     "collapsed": false,
     "input": [
      "# prepare data to be used by scikit learn --> move from pandas to numpy\n",
      "cols = train_set.columns\n",
      "y_col = cols[0]\n",
      "X_cols = cols[1:]\n",
      "ys = train_set[y_col].values\n",
      "Xs = train_set[X_cols].values"
     ],
     "language": "python",
     "metadata": {},
     "outputs": [],
     "prompt_number": 611
    },
    {
     "cell_type": "markdown",
     "metadata": {},
     "source": [
      "<p>&nbsp;</p>\n",
      "<h5>General machine learning model object</h5>\n",
      "<p>This code builds a generalized model object in which a number of ML algorithms can be plugged in, enabling easy comparison of trained model performance.</p>"
     ]
    },
    {
     "cell_type": "code",
     "collapsed": false,
     "input": [
      "from sklearn import cross_validation\n",
      "from sklearn.cross_validation import KFold\n",
      "from sklearn import svm\n",
      "from sklearn import preprocessing\n",
      "from sklearn.grid_search import GridSearchCV\n",
      "from sklearn.decomposition import PCA\n",
      "from sklearn.metrics import mean_absolute_error, mean_squared_error, r2_score, explained_variance_score\n",
      "\n",
      "class Model(object):\n",
      "\n",
      "    def __init__(self, Xs, ys, model=None, scale=True, components=None):\n",
      "        \n",
      "        self.Xs = Xs \n",
      "        self.scaler = None\n",
      "        self.pca = None\n",
      "        \n",
      "        if scale:\n",
      "            # normalize data, convert to z-scores\n",
      "            self.scaler = preprocessing.StandardScaler().fit(Xs)\n",
      "            self.Xs = self.scaler.transform(Xs)\n",
      "            \n",
      "        if components:\n",
      "            # reduce dimensionality of Xs\n",
      "            self.pca = PCA(n_components=components)\n",
      "            self.Xs = self.pca.fit_transform(self.Xs)\n",
      "            \n",
      "        self.ys = ys\n",
      "        self.model = model\n",
      "    \n",
      "    def preprocess_Xs(self, Xs):\n",
      "        # apply trained/fit model to new data set\n",
      "        if self.scaler:\n",
      "            # input data will be scaled\n",
      "            Xs = self.scaler.transform(Xs)\n",
      "        if self.pca:\n",
      "            # input dimensionality will be reduced\n",
      "            Xs = self.pca.transform(Xs)\n",
      "        return Xs\n",
      "    \n",
      "    def predict(self, X_test):\n",
      "        X_test = self.preprocess_Xs(X_test)\n",
      "        predicted = self.model.predict(X_test)\n",
      "        return predicted\n",
      "    \n",
      "    def simple_split_test(self):    \n",
      "        # split data set into train and test sets, keeping most recent data for test set\n",
      "        # return model accuracy and predicted values\n",
      "        sample_count = int(math.floor(len(master)*0.25))\n",
      "        X_train = self.Xs[:-sample_count-1]\n",
      "        y_train = self.ys[:-sample_count-1]\n",
      "        X_test = self.Xs[-sample_count:]\n",
      "        y_test = self.ys[-sample_count:]\n",
      "        \n",
      "        self.model.fit(X_train, y_train)\n",
      "        predicted = self.model.predict(X_test)\n",
      "        print 'explained_variance_score: %0.2f' % explained_variance_score(y_test, predicted)\n",
      "        print 'mean_absolute_error: %0.2f' % mean_absolute_error(y_test, predicted)\n",
      "        print 'mean_sqrd_err_reg_loss: %0.2f' % mean_squared_error(y_test, predicted)\n",
      "        print 'r2_score: %0.2f' % r2_score(y_test, predicted)\n",
      "        \n",
      "        # fit model to full training set\n",
      "        self.model.fit(self.Xs, self.ys)\n",
      "    \n",
      "    def dim_reduc_chart(self):\n",
      "        pca = PCA()\n",
      "        pca.fit(self.Xs)\n",
      "        \n",
      "        fig = plt.figure()\n",
      "        chart = fig.add_subplot(111)\n",
      "        chart.plot(pca.explained_variance_, linewidth=2)\n",
      "        chart.axis('tight')\n",
      "        chart.set_xlabel('N Components')\n",
      "        chart.set_ylabel('Explained Variance')\n",
      "        chart.set_title('Dimension Explanation')\n",
      "        \n",
      "    def iter_cross_val(self):\n",
      "        # performs multiple cross-validation tests on data and returns averaged accuracy\n",
      "        # data set is kept in chronological order and devided into equal parts, or folds\n",
      "        # if data set is split into folds numbered: [1,2,3,4,5]\n",
      "        # the training / testing split follows this pattern:\n",
      "        # train[1] / test[2]\n",
      "        # train[1,2] / test[3]\n",
      "        # train[1,2,3] / test[4]\n",
      "        # train[1,2,3,4] / test[5]\n",
      "        \n",
      "        number_folds = 5\n",
      "        k = int(np.floor(float(self.Xs.shape[0]) / number_folds))\n",
      "        \n",
      "        bank_explained_variance_score = np.zeros(number_folds-1)\n",
      "        bank_mean_absolute_error = np.zeros(number_folds-1)\n",
      "        bank_mean_sqrd_err_reg_loss = np.zeros(number_folds-1)\n",
      "        bank_r2_score = np.zeros(number_folds-1)\n",
      "        \n",
      "        for i in range(2, number_folds + 1):\n",
      "            split = float(i-1)/i\n",
      "            X = self.Xs[:(k*i)]\n",
      "            y = self.ys[:(k*i)]\n",
      "            index = int(np.floor(X.shape[0] * split))\n",
      "            \n",
      "            # folds used to train the model        \n",
      "            X_trainFolds = X[:index]        \n",
      "            y_trainFolds = y[:index]\n",
      "\n",
      "            # fold used to test the model\n",
      "            X_testFold = X[(index + 1):]\n",
      "            y_testFold = y[(index + 1):]\n",
      "            \n",
      "            self.model.fit (X_trainFolds, y_trainFolds)\n",
      "            #score = self.model.score(X_testFold, y_testFold)    \n",
      "            #scores[i-2] = score\n",
      "            predicted = self.model.predict(X_testFold)\n",
      "            bank_explained_variance_score[i-2] = explained_variance_score(y_testFold, predicted)\n",
      "            bank_mean_absolute_error[i-2] = mean_absolute_error(y_testFold, predicted)\n",
      "            bank_mean_sqrd_err_reg_loss[i-2] = mean_squared_error(y_testFold, predicted)\n",
      "            bank_r2_score[i-2] = r2_score(y_testFold, predicted)\n",
      "            \n",
      "        print 'explained_variance_score: %0.2f (+/- %0.2f)' % (bank_explained_variance_score.mean(), bank_explained_variance_score.std() * 2) \n",
      "        print 'mean_absolute_error: %0.2f (+/- %0.2f)' % (bank_mean_absolute_error.mean(), bank_mean_absolute_error.std() * 2) \n",
      "        print 'mean_sqrd_err_reg_loss: %0.2f (+/- %0.2f)' % (bank_mean_sqrd_err_reg_loss.mean(), bank_mean_sqrd_err_reg_loss.std() * 2) \n",
      "        print 'r2_score: %0.2f (+/- %0.2f)' % (bank_r2_score.mean(), bank_r2_score.std() * 2) \n",
      "        \n",
      "        \n",
      "        # fit model to full training set\n",
      "        self.model.fit(self.Xs, self.ys)\n",
      "        \n"
     ],
     "language": "python",
     "metadata": {},
     "outputs": [],
     "prompt_number": 631
    },
    {
     "cell_type": "markdown",
     "metadata": {},
     "source": [
      "<h2>Model selection</h2>\n",
      "<p>Here we'll explore multiple types of models; some behave differently than others.</p>\n",
      "<p>Ensemble regressors, such as random forest regressor, does not require an interative cross-validation approach, as standard regressors do. Instead of dimensionality reduction, ensemble regressors can natively identify the most important features.</p>\n",
      "\n",
      "<h3>Regressor With Dimension Reduction</h3>\n",
      "    - Reduce number of features for regressor to model.\n",
      "    - Test models and hyperparamers until satisfied with results."
     ]
    },
    {
     "cell_type": "markdown",
     "metadata": {},
     "source": [
      "<h4>Step 4: Reduce Dimensions</h4>"
     ]
    },
    {
     "cell_type": "code",
     "collapsed": false,
     "input": [
      "# apply dimensionality reduction to find fewest acceptable number of components\n",
      "model = Model(Xs, ys)\n",
      "model.dim_reduc_chart()"
     ],
     "language": "python",
     "metadata": {},
     "outputs": [
      {
       "metadata": {},
       "output_type": "display_data",
       "png": "[encoded data removed]",
       "text": [
        "<matplotlib.figure.Figure at 0x10f7ecd50>"
       ]
      }
     ],
     "prompt_number": 632
    },
    {
     "cell_type": "markdown",
     "metadata": {},
     "source": [
      "<h4>Step 5: Train and cross-validate models</h4>\n",
      "<p>Test a series of models and hyperparameters to find best fit</p>"
     ]
    },
    {
     "cell_type": "code",
     "collapsed": false,
     "input": [
      "# instantiate cross validation testing on models with \n",
      "from sklearn.linear_model import LinearRegression, LogisticRegression\n",
      "from sklearn.svm import SVR\n",
      "model = Model(Xs, ys, LinearRegression())\n",
      "model.iter_cross_val()"
     ],
     "language": "python",
     "metadata": {},
     "outputs": [
      {
       "output_type": "stream",
       "stream": "stdout",
       "text": [
        "explained_variance_score: -0.18 (+/- 1.23)\n",
        "mean_absolute_error: 1.55 (+/- 2.52)\n",
        "mean_sqrd_err_reg_loss: 5.18 (+/- 14.69)\n",
        "r2_score: -3.52 (+/- 5.95)\n"
       ]
      }
     ],
     "prompt_number": 633
    },
    {
     "cell_type": "code",
     "collapsed": false,
     "input": [
      "model = Model(Xs, ys, LinearRegression(), components=30)\n",
      "model.iter_cross_val()"
     ],
     "language": "python",
     "metadata": {},
     "outputs": [
      {
       "output_type": "stream",
       "stream": "stdout",
       "text": [
        "explained_variance_score: -0.49 (+/- 3.88)\n",
        "mean_absolute_error: 1.18 (+/- 0.74)\n",
        "mean_sqrd_err_reg_loss: 1.90 (+/- 2.18)\n",
        "r2_score: -6.83 (+/- 22.03)\n"
       ]
      }
     ],
     "prompt_number": 634
    },
    {
     "cell_type": "code",
     "collapsed": false,
     "input": [
      "model = Model(Xs, ys, SVR(), components=30)\n",
      "model.iter_cross_val()"
     ],
     "language": "python",
     "metadata": {},
     "outputs": [
      {
       "output_type": "stream",
       "stream": "stdout",
       "text": [
        "explained_variance_score: -0.01 (+/- 0.07)\n",
        "mean_absolute_error: 0.90 (+/- 0.19)\n",
        "mean_sqrd_err_reg_loss: 1.38 (+/- 1.18)\n",
        "r2_score: -2.12 (+/- 4.71)\n"
       ]
      }
     ],
     "prompt_number": 635
    },
    {
     "cell_type": "code",
     "collapsed": false,
     "input": [
      "model = Model(Xs, ys, LogisticRegression())\n",
      "model.iter_cross_val()"
     ],
     "language": "python",
     "metadata": {},
     "outputs": [
      {
       "output_type": "stream",
       "stream": "stdout",
       "text": [
        "explained_variance_score: -0.58 (+/- 2.28)\n",
        "mean_absolute_error: 0.68 (+/- 0.51)\n",
        "mean_sqrd_err_reg_loss: 1.07 (+/- 1.76)\n",
        "r2_score: -0.84 (+/- 2.21)\n"
       ]
      }
     ],
     "prompt_number": 636
    },
    {
     "cell_type": "code",
     "collapsed": false,
     "input": [
      "model = Model(Xs, ys, LogisticRegression(C=10))\n",
      "model.iter_cross_val()"
     ],
     "language": "python",
     "metadata": {},
     "outputs": [
      {
       "output_type": "stream",
       "stream": "stdout",
       "text": [
        "explained_variance_score: -0.34 (+/- 1.06)\n",
        "mean_absolute_error: 0.70 (+/- 0.56)\n",
        "mean_sqrd_err_reg_loss: 1.12 (+/- 1.91)\n",
        "r2_score: -0.65 (+/- 1.21)\n"
       ]
      }
     ],
     "prompt_number": 637
    },
    {
     "cell_type": "code",
     "collapsed": false,
     "input": [
      "model = Model(Xs, ys, LogisticRegression(C=1))\n",
      "model.iter_cross_val()"
     ],
     "language": "python",
     "metadata": {},
     "outputs": [
      {
       "output_type": "stream",
       "stream": "stdout",
       "text": [
        "explained_variance_score: -0.58 (+/- 2.28)\n",
        "mean_absolute_error: 0.68 (+/- 0.51)\n",
        "mean_sqrd_err_reg_loss: 1.07 (+/- 1.76)\n",
        "r2_score: -0.84 (+/- 2.21)\n"
       ]
      }
     ],
     "prompt_number": 638
    },
    {
     "cell_type": "code",
     "collapsed": false,
     "input": [
      "model = Model(Xs, ys, LogisticRegression(C=.1))\n",
      "model.iter_cross_val()"
     ],
     "language": "python",
     "metadata": {},
     "outputs": [
      {
       "output_type": "stream",
       "stream": "stdout",
       "text": [
        "explained_variance_score: -0.71 (+/- 3.23)\n",
        "mean_absolute_error: 0.66 (+/- 0.48)\n",
        "mean_sqrd_err_reg_loss: 0.99 (+/- 1.61)\n",
        "r2_score: -0.98 (+/- 3.47)\n"
       ]
      }
     ],
     "prompt_number": 639
    },
    {
     "cell_type": "markdown",
     "metadata": {},
     "source": [
      "<h2>Ensemble Method</h2>\n",
      "    - Find most significant features.\n",
      "    - Test models and hyperparamers until satisfied with results."
     ]
    },
    {
     "cell_type": "code",
     "collapsed": false,
     "input": [
      "# instantiate random forest model\n",
      "from sklearn.ensemble import RandomForestRegressor\n",
      "model = Model(Xs, ys, RandomForestRegressor())\n",
      "\n",
      "# one-time model fit and test\n",
      "model.simple_split_test()"
     ],
     "language": "python",
     "metadata": {},
     "outputs": [
      {
       "output_type": "stream",
       "stream": "stdout",
       "text": [
        "explained_variance_score: 0.83\n",
        "mean_absolute_error: 0.47\n",
        "mean_sqrd_err_reg_loss: 0.46\n",
        "r2_score: 0.81\n"
       ]
      }
     ],
     "prompt_number": 621
    },
    {
     "cell_type": "markdown",
     "metadata": {},
     "source": [
      "<h4>Step 4: Identify important features</h4>"
     ]
    },
    {
     "cell_type": "code",
     "collapsed": false,
     "input": [
      "# plot features by importance\n",
      "import copy\n",
      "feature_importance =  model.model.feature_importances_\n",
      "feature_importance = 100.0 * (feature_importance / feature_importance.max())\n",
      "sorted_idx = np.argsort(feature_importance)\n",
      "feature_limit = 10\n",
      "sorted_idx = sorted_idx[-feature_limit:]\n",
      "pos = np.arange(sorted_idx.shape[0]) + 0.5\n",
      "fig = plt.figure()\n",
      "imp = fig.add_subplot(111)\n",
      "imp.barh(pos, feature_importance[sorted_idx], align='center')\n",
      "cats = np.asarray([x.upper() for x in X_cols])[sorted_idx]\n",
      "imp.set_yticks(pos)\n",
      "imp.set_yticklabels(cats, size='xx-small')\n",
      "imp.set_xlabel('Relative Importance')\n",
      "imp.set_title('Variable Importance')\n"
     ],
     "language": "python",
     "metadata": {},
     "outputs": [
      {
       "metadata": {},
       "output_type": "pyout",
       "prompt_number": 622,
       "text": [
        "<matplotlib.text.Text at 0x10f728610>"
       ]
      },
      {
       "metadata": {},
       "output_type": "display_data",
       "png": "[encoded data removed]",
       "text": [
        "<matplotlib.figure.Figure at 0x10f75ac10>"
       ]
      }
     ],
     "prompt_number": 622
    },
    {
     "cell_type": "markdown",
     "metadata": {},
     "source": [
      "<h4>Step 5: Train and cross-validate models</h4>\n",
      "<p>Test a series of models and hyperparameters to find best fit.</p>"
     ]
    },
    {
     "cell_type": "code",
     "collapsed": false,
     "input": [
      "model = Model(Xs, ys, RandomForestRegressor())\n",
      "model.simple_split_test()"
     ],
     "language": "python",
     "metadata": {},
     "outputs": [
      {
       "output_type": "stream",
       "stream": "stdout",
       "text": [
        "explained_variance_score: 0.84\n",
        "mean_absolute_error: 0.45\n",
        "mean_sqrd_err_reg_loss: 0.42\n",
        "r2_score: 0.83\n"
       ]
      }
     ],
     "prompt_number": 623
    },
    {
     "cell_type": "code",
     "collapsed": false,
     "input": [
      "model = Model(Xs, ys, RandomForestRegressor(n_estimators=1))\n",
      "model.simple_split_test()"
     ],
     "language": "python",
     "metadata": {},
     "outputs": [
      {
       "output_type": "stream",
       "stream": "stdout",
       "text": [
        "explained_variance_score: 0.75\n",
        "mean_absolute_error: 0.56\n",
        "mean_sqrd_err_reg_loss: 0.63\n",
        "r2_score: 0.74\n"
       ]
      }
     ],
     "prompt_number": 624
    },
    {
     "cell_type": "code",
     "collapsed": false,
     "input": [
      "model = Model(Xs, ys, RandomForestRegressor(n_estimators=100))\n",
      "model.simple_split_test()"
     ],
     "language": "python",
     "metadata": {},
     "outputs": [
      {
       "output_type": "stream",
       "stream": "stdout",
       "text": [
        "explained_variance_score: 0.81\n",
        "mean_absolute_error: 0.47\n",
        "mean_sqrd_err_reg_loss: 0.47\n",
        "r2_score: 0.81\n"
       ]
      }
     ],
     "prompt_number": 625
    },
    {
     "cell_type": "code",
     "collapsed": false,
     "input": [
      "model = Model(Xs, ys, RandomForestRegressor(max_depth=1))\n",
      "model.simple_split_test()"
     ],
     "language": "python",
     "metadata": {},
     "outputs": [
      {
       "output_type": "stream",
       "stream": "stdout",
       "text": [
        "explained_variance_score: 0.50\n",
        "mean_absolute_error: 0.82\n",
        "mean_sqrd_err_reg_loss: 1.22\n",
        "r2_score: 0.50\n"
       ]
      }
     ],
     "prompt_number": 626
    },
    {
     "cell_type": "code",
     "collapsed": false,
     "input": [
      "model = Model(Xs, ys, RandomForestRegressor(max_depth=10))\n",
      "model.simple_split_test()"
     ],
     "language": "python",
     "metadata": {},
     "outputs": [
      {
       "output_type": "stream",
       "stream": "stdout",
       "text": [
        "explained_variance_score: 0.77\n",
        "mean_absolute_error: 0.54\n",
        "mean_sqrd_err_reg_loss: 0.59\n",
        "r2_score: 0.76\n"
       ]
      }
     ],
     "prompt_number": 627
    },
    {
     "cell_type": "code",
     "collapsed": false,
     "input": [
      "model = Model(Xs, ys, RandomForestRegressor(max_depth=100))\n",
      "model.simple_split_test()"
     ],
     "language": "python",
     "metadata": {},
     "outputs": [
      {
       "output_type": "stream",
       "stream": "stdout",
       "text": [
        "explained_variance_score: 0.83\n",
        "mean_absolute_error: 0.42\n",
        "mean_sqrd_err_reg_loss: 0.42\n",
        "r2_score: 0.83\n"
       ]
      }
     ],
     "prompt_number": 628
    },
    {
     "cell_type": "markdown",
     "metadata": {},
     "source": [
      "<h4>Step 6: Test selected model on new data</h4>"
     ]
    },
    {
     "cell_type": "code",
     "collapsed": false,
     "input": [
      "# functions to analyze fitted model performance on previosly unseen test data\n",
      "def test_score(model, test_set, y_col, X_cols):\n",
      "    # show accuracy / fit score of model on test data\n",
      "    test_ys = test_set[y_col].values\n",
      "    test_Xs = test_set[X_cols].values\n",
      "    predicted = model.predict(test_Xs)\n",
      "    \"\"\"\n",
      "    print 'explained_variance_score: %0.2f' % explained_variance_score(test_ys, predicted)\n",
      "    print 'mean_absolute_error: %0.2f' % mean_absolute_error(test_ys, predicted)\n",
      "    print 'mean_sqrd_err_reg_loss: %0.2f' % mean_squared_error(test_ys, predicted)\n",
      "    print 'r2_score: %0.2f' % r2_score(test_ys, predicted)\n",
      "    \"\"\"\n",
      "def pred_vs_act_scatter(model, test_set):\n",
      "    # scatter plot comparing predicted versus actual values\n",
      "    test_ys = test_set[y_col].values\n",
      "    test_Xs = test_set[X_cols].values\n",
      "    predicted = model.predict(test_Xs)\n",
      "    \n",
      "    fig = plt.figure()\n",
      "    pred_vs_actual = fig.add_subplot(111)\n",
      "    \n",
      "    pred_vs_actual.scatter(test_ys, predicted)\n",
      "    pred_vs_actual.plot([min(test_ys), max(test_ys)], [min(test_ys), max(test_ys)], '--k')\n",
      "    pred_vs_actual.grid(True)\n",
      "    pred_vs_actual.set_xlabel('Target')\n",
      "    pred_vs_actual.set_ylabel('Predicted')\n",
      "    pred_vs_actual.set_title(\"Prediction Accuracy\")\n",
      "    \n",
      "def actual_vs_predicted_over_time(model, test_set, y_col, X_cols):\n",
      "    # plot model predicted values and actual values over time\n",
      "    test_ys = test_set[y_col].values\n",
      "    test_Xs = test_set[X_cols].values\n",
      "    \n",
      "    predicted = model.predict(test_Xs)    \n",
      "    predicted = pd.Series(predicted, index=test_set.index)\n",
      "    actual = pd.Series(test_ys, index=test_set.index)\n",
      "    comparison = pd.DataFrame({'actual': actual,\n",
      "                               'predicted': predicted,\n",
      "                               })\n",
      "    chart = comparison.plot(title='Actual vs Predicted Values orderd by Date')\n",
      "    chart.set_xlabel(\"Date\")\n",
      "    chart.set_ylabel(\"Forecast 12-M GDP Growth\")\n",
      "\n",
      "def test_fitted_on_new(model, test_set, y_col, X_cols):\n",
      "    # run summarizing functions showing model performance on test data\n",
      "    test_score(model, test_set, y_col, X_cols)\n",
      "    pred_vs_act_scatter(model, test_set)\n",
      "    actual_vs_predicted_over_time(model, test_set, y_col, X_cols)"
     ],
     "language": "python",
     "metadata": {},
     "outputs": [],
     "prompt_number": 629
    },
    {
     "cell_type": "code",
     "collapsed": false,
     "input": [
      "# test fitted model on new data\n",
      "model = Model(Xs, ys, RandomForestRegressor())\n",
      "#model = Model(Xs, ys, LinearRegression(), components=30)\n",
      "model.model.fit(model.Xs, ys)\n",
      "test_fitted_on_new(model, test_set, y_col, X_cols)"
     ],
     "language": "python",
     "metadata": {},
     "outputs": [
      {
       "metadata": {},
       "output_type": "display_data",
       "png": "[encoded data removed]",
       "text": [
        "<matplotlib.figure.Figure at 0x10fc18710>"
       ]
      },
      {
       "metadata": {},
       "output_type": "display_data",
       "png": "[encoded data removed]",
       "text": [
        "<matplotlib.figure.Figure at 0x1120ecc10>"
       ]
      }
     ],
     "prompt_number": 642
    },
    {
     "cell_type": "code",
     "collapsed": false,
     "input": [],
     "language": "python",
     "metadata": {},
     "outputs": []
    }
   ],
   "metadata": {}
  }
 ]
}